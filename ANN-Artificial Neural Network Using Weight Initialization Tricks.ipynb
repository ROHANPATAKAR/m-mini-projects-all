{
 "cells": [
  {
   "cell_type": "code",
   "execution_count": 3,
   "id": "63613993",
   "metadata": {},
   "outputs": [],
   "source": [
    "import pandas as pd"
   ]
  },
  {
   "cell_type": "code",
   "execution_count": 5,
   "id": "eed06ecc",
   "metadata": {},
   "outputs": [
    {
     "data": {
      "text/html": [
       "<div>\n",
       "<style scoped>\n",
       "    .dataframe tbody tr th:only-of-type {\n",
       "        vertical-align: middle;\n",
       "    }\n",
       "\n",
       "    .dataframe tbody tr th {\n",
       "        vertical-align: top;\n",
       "    }\n",
       "\n",
       "    .dataframe thead th {\n",
       "        text-align: right;\n",
       "    }\n",
       "</style>\n",
       "<table border=\"1\" class=\"dataframe\">\n",
       "  <thead>\n",
       "    <tr style=\"text-align: right;\">\n",
       "      <th></th>\n",
       "      <th>RowNumber</th>\n",
       "      <th>CustomerId</th>\n",
       "      <th>Surname</th>\n",
       "      <th>CreditScore</th>\n",
       "      <th>Geography</th>\n",
       "      <th>Gender</th>\n",
       "      <th>Age</th>\n",
       "      <th>Tenure</th>\n",
       "      <th>Balance</th>\n",
       "      <th>NumOfProducts</th>\n",
       "      <th>HasCrCard</th>\n",
       "      <th>IsActiveMember</th>\n",
       "      <th>EstimatedSalary</th>\n",
       "      <th>Exited</th>\n",
       "    </tr>\n",
       "  </thead>\n",
       "  <tbody>\n",
       "    <tr>\n",
       "      <th>0</th>\n",
       "      <td>1</td>\n",
       "      <td>15634602</td>\n",
       "      <td>Hargrave</td>\n",
       "      <td>619</td>\n",
       "      <td>France</td>\n",
       "      <td>Female</td>\n",
       "      <td>42</td>\n",
       "      <td>2</td>\n",
       "      <td>0.00</td>\n",
       "      <td>1</td>\n",
       "      <td>1</td>\n",
       "      <td>1</td>\n",
       "      <td>101348.88</td>\n",
       "      <td>1</td>\n",
       "    </tr>\n",
       "    <tr>\n",
       "      <th>1</th>\n",
       "      <td>2</td>\n",
       "      <td>15647311</td>\n",
       "      <td>Hill</td>\n",
       "      <td>608</td>\n",
       "      <td>Spain</td>\n",
       "      <td>Female</td>\n",
       "      <td>41</td>\n",
       "      <td>1</td>\n",
       "      <td>83807.86</td>\n",
       "      <td>1</td>\n",
       "      <td>0</td>\n",
       "      <td>1</td>\n",
       "      <td>112542.58</td>\n",
       "      <td>0</td>\n",
       "    </tr>\n",
       "    <tr>\n",
       "      <th>2</th>\n",
       "      <td>3</td>\n",
       "      <td>15619304</td>\n",
       "      <td>Onio</td>\n",
       "      <td>502</td>\n",
       "      <td>France</td>\n",
       "      <td>Female</td>\n",
       "      <td>42</td>\n",
       "      <td>8</td>\n",
       "      <td>159660.80</td>\n",
       "      <td>3</td>\n",
       "      <td>1</td>\n",
       "      <td>0</td>\n",
       "      <td>113931.57</td>\n",
       "      <td>1</td>\n",
       "    </tr>\n",
       "    <tr>\n",
       "      <th>3</th>\n",
       "      <td>4</td>\n",
       "      <td>15701354</td>\n",
       "      <td>Boni</td>\n",
       "      <td>699</td>\n",
       "      <td>France</td>\n",
       "      <td>Female</td>\n",
       "      <td>39</td>\n",
       "      <td>1</td>\n",
       "      <td>0.00</td>\n",
       "      <td>2</td>\n",
       "      <td>0</td>\n",
       "      <td>0</td>\n",
       "      <td>93826.63</td>\n",
       "      <td>0</td>\n",
       "    </tr>\n",
       "    <tr>\n",
       "      <th>4</th>\n",
       "      <td>5</td>\n",
       "      <td>15737888</td>\n",
       "      <td>Mitchell</td>\n",
       "      <td>850</td>\n",
       "      <td>Spain</td>\n",
       "      <td>Female</td>\n",
       "      <td>43</td>\n",
       "      <td>2</td>\n",
       "      <td>125510.82</td>\n",
       "      <td>1</td>\n",
       "      <td>1</td>\n",
       "      <td>1</td>\n",
       "      <td>79084.10</td>\n",
       "      <td>0</td>\n",
       "    </tr>\n",
       "  </tbody>\n",
       "</table>\n",
       "</div>"
      ],
      "text/plain": [
       "   RowNumber  CustomerId   Surname  CreditScore Geography  Gender  Age  \\\n",
       "0          1    15634602  Hargrave          619    France  Female   42   \n",
       "1          2    15647311      Hill          608     Spain  Female   41   \n",
       "2          3    15619304      Onio          502    France  Female   42   \n",
       "3          4    15701354      Boni          699    France  Female   39   \n",
       "4          5    15737888  Mitchell          850     Spain  Female   43   \n",
       "\n",
       "   Tenure    Balance  NumOfProducts  HasCrCard  IsActiveMember  \\\n",
       "0       2       0.00              1          1               1   \n",
       "1       1   83807.86              1          0               1   \n",
       "2       8  159660.80              3          1               0   \n",
       "3       1       0.00              2          0               0   \n",
       "4       2  125510.82              1          1               1   \n",
       "\n",
       "   EstimatedSalary  Exited  \n",
       "0        101348.88       1  \n",
       "1        112542.58       0  \n",
       "2        113931.57       1  \n",
       "3         93826.63       0  \n",
       "4         79084.10       0  "
      ]
     },
     "execution_count": 5,
     "metadata": {},
     "output_type": "execute_result"
    }
   ],
   "source": [
    "data=pd.read_csv(\"Churn_Modelling.csv\")\n",
    "data.head()"
   ]
  },
  {
   "cell_type": "code",
   "execution_count": 6,
   "id": "3a16cb48",
   "metadata": {},
   "outputs": [
    {
     "data": {
      "text/plain": [
       "RowNumber          False\n",
       "CustomerId         False\n",
       "Surname            False\n",
       "CreditScore        False\n",
       "Geography          False\n",
       "Gender             False\n",
       "Age                False\n",
       "Tenure             False\n",
       "Balance            False\n",
       "NumOfProducts      False\n",
       "HasCrCard          False\n",
       "IsActiveMember     False\n",
       "EstimatedSalary    False\n",
       "Exited             False\n",
       "dtype: bool"
      ]
     },
     "execution_count": 6,
     "metadata": {},
     "output_type": "execute_result"
    }
   ],
   "source": [
    "data.isna().any()"
   ]
  },
  {
   "cell_type": "code",
   "execution_count": 41,
   "id": "513cf56f",
   "metadata": {},
   "outputs": [],
   "source": [
    "x=data.drop([\"RowNumber\",\"CustomerId\",\"Surname\",\"Exited\"],axis=1)\n",
    "y=data.Exited"
   ]
  },
  {
   "cell_type": "code",
   "execution_count": 42,
   "id": "f20786b5",
   "metadata": {},
   "outputs": [],
   "source": [
    "x.Geography=pd.get_dummies(x.Geography)\n",
    "x.Gender=pd.get_dummies(x.Gender)"
   ]
  },
  {
   "cell_type": "code",
   "execution_count": 43,
   "id": "343ea7bc",
   "metadata": {},
   "outputs": [],
   "source": [
    "from sklearn.model_selection import train_test_split\n",
    "x_train,x_test,y_train,y_test=train_test_split(x,y,random_state=42,test_size=0.3)"
   ]
  },
  {
   "cell_type": "code",
   "execution_count": 44,
   "id": "a5e95d02",
   "metadata": {},
   "outputs": [],
   "source": [
    "from sklearn.preprocessing import StandardScaler\n",
    "sc=StandardScaler()\n",
    "scaled_xtrain=sc.fit_transform(x_train)\n",
    "scaled_xtest=sc.transform(x_test)"
   ]
  },
  {
   "cell_type": "code",
   "execution_count": 45,
   "id": "a588bcde",
   "metadata": {},
   "outputs": [
    {
     "data": {
      "text/plain": [
       "array([[-0.34459497, -1.00171576, -1.09823226, ...,  0.64598061,\n",
       "         0.97071435,  1.24821373],\n",
       "       [-0.09518109, -1.00171576, -1.09823226, ..., -1.54803408,\n",
       "         0.97071435,  1.52122527],\n",
       "       [-0.94734518,  0.99828718,  0.91055421, ..., -1.54803408,\n",
       "        -1.03016917,  1.2636148 ],\n",
       "       ...,\n",
       "       [ 0.86090545,  0.99828718, -1.09823226, ..., -1.54803408,\n",
       "        -1.03016917, -0.14925893],\n",
       "       [ 0.15423279,  0.99828718,  0.91055421, ...,  0.64598061,\n",
       "        -1.03016917, -0.05754351],\n",
       "       [ 0.46600014, -1.00171576,  0.91055421, ...,  0.64598061,\n",
       "         0.97071435, -0.81942612]])"
      ]
     },
     "execution_count": 45,
     "metadata": {},
     "output_type": "execute_result"
    }
   ],
   "source": [
    "scaled_xtrain"
   ]
  },
  {
   "cell_type": "code",
   "execution_count": 46,
   "id": "8015284e",
   "metadata": {},
   "outputs": [
    {
     "data": {
      "text/plain": [
       "array([[-0.5836166 , -1.00171576,  0.91055421, ..., -1.54803408,\n",
       "        -1.03016917, -1.02396381],\n",
       "       [-0.30302599,  0.99828718,  0.91055421, ...,  0.64598061,\n",
       "         0.97071435,  0.79009571],\n",
       "       [-0.53165538, -1.00171576, -1.09823226, ...,  0.64598061,\n",
       "        -1.03016917, -0.73304841],\n",
       "       ...,\n",
       "       [-0.44851742,  0.99828718,  0.91055421, ...,  0.64598061,\n",
       "         0.97071435,  0.88628042],\n",
       "       [-0.74989252,  0.99828718,  0.91055421, ..., -1.54803408,\n",
       "         0.97071435, -0.638471  ],\n",
       "       [-1.23832804, -1.00171576, -1.09823226, ..., -1.54803408,\n",
       "        -1.03016917, -0.98817066]])"
      ]
     },
     "execution_count": 46,
     "metadata": {},
     "output_type": "execute_result"
    }
   ],
   "source": [
    "scaled_xtest"
   ]
  },
  {
   "cell_type": "code",
   "execution_count": 47,
   "id": "5b042577",
   "metadata": {},
   "outputs": [],
   "source": [
    "import keras\n",
    "from keras.models import Sequential\n",
    "from keras.layers import Dense\n",
    "from keras.layers import Dropout #regularisation parameter"
   ]
  },
  {
   "cell_type": "code",
   "execution_count": 48,
   "id": "cfc4137c",
   "metadata": {},
   "outputs": [
    {
     "data": {
      "text/plain": [
       "(7000, 10)"
      ]
     },
     "execution_count": 48,
     "metadata": {},
     "output_type": "execute_result"
    }
   ],
   "source": [
    "#initializing the model\n",
    "classifier=Sequential()\n",
    "x_train.shape"
   ]
  },
  {
   "cell_type": "code",
   "execution_count": 49,
   "id": "a0c34e36",
   "metadata": {},
   "outputs": [],
   "source": [
    "#adding input layer and first hidden layer\n",
    "classifier.add(Dense(units=6,kernel_initializer=\"he_uniform\",activation=\"relu\",input_dim=10))"
   ]
  },
  {
   "cell_type": "code",
   "execution_count": 54,
   "id": "82924567",
   "metadata": {},
   "outputs": [],
   "source": [
    "#adding 2nd hidden layer\n",
    "classifier.add(Dense(kernel_initializer=\"he_uniform\",activation=\"relu\",units=6))"
   ]
  },
  {
   "cell_type": "code",
   "execution_count": 55,
   "id": "693ef176",
   "metadata": {},
   "outputs": [],
   "source": [
    "#adding 3rd layer\n",
    "classifier.add(Dense(kernel_initializer=\"glorot_uniform\",units=1,activation=\"sigmoid\"))"
   ]
  },
  {
   "cell_type": "code",
   "execution_count": 64,
   "id": "7d4756ca",
   "metadata": {},
   "outputs": [],
   "source": [
    "classifier.compile(optimizer=\"adam\",loss=\"binary_crossentropy\",metrics=[\"accuracy\"])"
   ]
  },
  {
   "cell_type": "code",
   "execution_count": 65,
   "id": "9b2ba06c",
   "metadata": {},
   "outputs": [
    {
     "name": "stdout",
     "output_type": "stream",
     "text": [
      "Model: \"sequential_2\"\n",
      "_________________________________________________________________\n",
      " Layer (type)                Output Shape              Param #   \n",
      "=================================================================\n",
      " dense_3 (Dense)             (None, 6)                 66        \n",
      "                                                                 \n",
      " dense_5 (Dense)             (None, 6)                 42        \n",
      "                                                                 \n",
      " dense_6 (Dense)             (None, 1)                 7         \n",
      "                                                                 \n",
      "=================================================================\n",
      "Total params: 115\n",
      "Trainable params: 115\n",
      "Non-trainable params: 0\n",
      "_________________________________________________________________\n"
     ]
    }
   ],
   "source": [
    "classifier.summary()"
   ]
  },
  {
   "cell_type": "code",
   "execution_count": 66,
   "id": "1d09989b",
   "metadata": {},
   "outputs": [
    {
     "name": "stdout",
     "output_type": "stream",
     "text": [
      "Epoch 1/100\n",
      "469/469 [==============================] - 4s 6ms/step - loss: 0.6656 - accuracy: 0.6417 - val_loss: 0.5547 - val_accuracy: 0.7629\n",
      "Epoch 2/100\n",
      "469/469 [==============================] - 3s 5ms/step - loss: 0.5218 - accuracy: 0.7867 - val_loss: 0.5055 - val_accuracy: 0.7893\n",
      "Epoch 3/100\n",
      "469/469 [==============================] - 2s 4ms/step - loss: 0.4924 - accuracy: 0.7942 - val_loss: 0.4863 - val_accuracy: 0.7893\n",
      "Epoch 4/100\n",
      "469/469 [==============================] - 2s 4ms/step - loss: 0.4739 - accuracy: 0.7942 - val_loss: 0.4709 - val_accuracy: 0.7893\n",
      "Epoch 5/100\n",
      "469/469 [==============================] - 2s 4ms/step - loss: 0.4541 - accuracy: 0.7951 - val_loss: 0.4551 - val_accuracy: 0.7901\n",
      "Epoch 6/100\n",
      "469/469 [==============================] - 2s 4ms/step - loss: 0.4329 - accuracy: 0.8002 - val_loss: 0.4400 - val_accuracy: 0.7979\n",
      "Epoch 7/100\n",
      "469/469 [==============================] - 1s 3ms/step - loss: 0.4129 - accuracy: 0.8151 - val_loss: 0.4265 - val_accuracy: 0.8074\n",
      "Epoch 8/100\n",
      "469/469 [==============================] - 2s 3ms/step - loss: 0.3973 - accuracy: 0.8224 - val_loss: 0.4148 - val_accuracy: 0.8165\n",
      "Epoch 9/100\n",
      "469/469 [==============================] - 2s 3ms/step - loss: 0.3867 - accuracy: 0.8292 - val_loss: 0.4064 - val_accuracy: 0.8217\n",
      "Epoch 10/100\n",
      "469/469 [==============================] - 2s 4ms/step - loss: 0.3786 - accuracy: 0.8319 - val_loss: 0.4000 - val_accuracy: 0.8222\n",
      "Epoch 11/100\n",
      "469/469 [==============================] - 2s 4ms/step - loss: 0.3746 - accuracy: 0.8311 - val_loss: 0.3963 - val_accuracy: 0.8239\n",
      "Epoch 12/100\n",
      "469/469 [==============================] - 2s 3ms/step - loss: 0.3706 - accuracy: 0.8330 - val_loss: 0.3929 - val_accuracy: 0.8256\n",
      "Epoch 13/100\n",
      "469/469 [==============================] - 1s 3ms/step - loss: 0.3670 - accuracy: 0.8332 - val_loss: 0.3919 - val_accuracy: 0.8286\n",
      "Epoch 14/100\n",
      "469/469 [==============================] - 1s 3ms/step - loss: 0.3654 - accuracy: 0.8377 - val_loss: 0.3894 - val_accuracy: 0.8317\n",
      "Epoch 15/100\n",
      "469/469 [==============================] - 2s 4ms/step - loss: 0.3637 - accuracy: 0.8390 - val_loss: 0.3881 - val_accuracy: 0.8304\n",
      "Epoch 16/100\n",
      "469/469 [==============================] - 2s 4ms/step - loss: 0.3615 - accuracy: 0.8428 - val_loss: 0.3867 - val_accuracy: 0.8317\n",
      "Epoch 17/100\n",
      "469/469 [==============================] - 2s 4ms/step - loss: 0.3601 - accuracy: 0.8435 - val_loss: 0.3870 - val_accuracy: 0.8273\n",
      "Epoch 18/100\n",
      "469/469 [==============================] - 2s 5ms/step - loss: 0.3588 - accuracy: 0.8439 - val_loss: 0.3831 - val_accuracy: 0.8330\n",
      "Epoch 19/100\n",
      "469/469 [==============================] - 2s 4ms/step - loss: 0.3573 - accuracy: 0.8452 - val_loss: 0.3826 - val_accuracy: 0.8325\n",
      "Epoch 20/100\n",
      "469/469 [==============================] - 2s 3ms/step - loss: 0.3558 - accuracy: 0.8471 - val_loss: 0.3806 - val_accuracy: 0.8347\n",
      "Epoch 21/100\n",
      "469/469 [==============================] - 2s 4ms/step - loss: 0.3539 - accuracy: 0.8494 - val_loss: 0.3793 - val_accuracy: 0.8377\n",
      "Epoch 22/100\n",
      "469/469 [==============================] - 1s 3ms/step - loss: 0.3526 - accuracy: 0.8494 - val_loss: 0.3778 - val_accuracy: 0.8364\n",
      "Epoch 23/100\n",
      "469/469 [==============================] - 3s 5ms/step - loss: 0.3517 - accuracy: 0.8537 - val_loss: 0.3765 - val_accuracy: 0.8338\n",
      "Epoch 24/100\n",
      "469/469 [==============================] - 3s 6ms/step - loss: 0.3503 - accuracy: 0.8531 - val_loss: 0.3768 - val_accuracy: 0.8317\n",
      "Epoch 25/100\n",
      "469/469 [==============================] - 3s 6ms/step - loss: 0.3494 - accuracy: 0.8528 - val_loss: 0.3762 - val_accuracy: 0.8416\n",
      "Epoch 26/100\n",
      "469/469 [==============================] - 1s 3ms/step - loss: 0.3487 - accuracy: 0.8548 - val_loss: 0.3742 - val_accuracy: 0.8373\n",
      "Epoch 27/100\n",
      "469/469 [==============================] - 2s 3ms/step - loss: 0.3483 - accuracy: 0.8543 - val_loss: 0.3737 - val_accuracy: 0.8377\n",
      "Epoch 28/100\n",
      "469/469 [==============================] - 2s 3ms/step - loss: 0.3474 - accuracy: 0.8541 - val_loss: 0.3746 - val_accuracy: 0.8425\n",
      "Epoch 29/100\n",
      "469/469 [==============================] - 2s 4ms/step - loss: 0.3465 - accuracy: 0.8573 - val_loss: 0.3727 - val_accuracy: 0.8408\n",
      "Epoch 30/100\n",
      "469/469 [==============================] - 2s 3ms/step - loss: 0.3459 - accuracy: 0.8586 - val_loss: 0.3730 - val_accuracy: 0.8455\n",
      "Epoch 31/100\n",
      "469/469 [==============================] - 2s 5ms/step - loss: 0.3453 - accuracy: 0.8571 - val_loss: 0.3704 - val_accuracy: 0.8442\n",
      "Epoch 32/100\n",
      "469/469 [==============================] - 2s 3ms/step - loss: 0.3448 - accuracy: 0.8571 - val_loss: 0.3706 - val_accuracy: 0.8434\n",
      "Epoch 33/100\n",
      "469/469 [==============================] - 2s 4ms/step - loss: 0.3441 - accuracy: 0.8567 - val_loss: 0.3702 - val_accuracy: 0.8490\n",
      "Epoch 34/100\n",
      "469/469 [==============================] - 2s 4ms/step - loss: 0.3431 - accuracy: 0.8586 - val_loss: 0.3700 - val_accuracy: 0.8468\n",
      "Epoch 35/100\n",
      "469/469 [==============================] - 2s 3ms/step - loss: 0.3429 - accuracy: 0.8578 - val_loss: 0.3690 - val_accuracy: 0.8451\n",
      "Epoch 36/100\n",
      "469/469 [==============================] - 1s 3ms/step - loss: 0.3422 - accuracy: 0.8567 - val_loss: 0.3692 - val_accuracy: 0.8447\n",
      "Epoch 37/100\n",
      "469/469 [==============================] - 1s 3ms/step - loss: 0.3417 - accuracy: 0.8612 - val_loss: 0.3680 - val_accuracy: 0.8473\n",
      "Epoch 38/100\n",
      "469/469 [==============================] - 2s 3ms/step - loss: 0.3418 - accuracy: 0.8592 - val_loss: 0.3685 - val_accuracy: 0.8498\n",
      "Epoch 39/100\n",
      "469/469 [==============================] - 2s 3ms/step - loss: 0.3406 - accuracy: 0.8601 - val_loss: 0.3672 - val_accuracy: 0.8442\n",
      "Epoch 40/100\n",
      "469/469 [==============================] - 1s 3ms/step - loss: 0.3403 - accuracy: 0.8590 - val_loss: 0.3705 - val_accuracy: 0.8507\n",
      "Epoch 41/100\n",
      "469/469 [==============================] - 2s 4ms/step - loss: 0.3400 - accuracy: 0.8616 - val_loss: 0.3682 - val_accuracy: 0.8481\n",
      "Epoch 42/100\n",
      "469/469 [==============================] - 2s 4ms/step - loss: 0.3386 - accuracy: 0.8624 - val_loss: 0.3680 - val_accuracy: 0.8486\n",
      "Epoch 43/100\n",
      "469/469 [==============================] - 2s 3ms/step - loss: 0.3393 - accuracy: 0.8629 - val_loss: 0.3678 - val_accuracy: 0.8447\n",
      "Epoch 44/100\n",
      "469/469 [==============================] - 1s 3ms/step - loss: 0.3386 - accuracy: 0.8605 - val_loss: 0.3698 - val_accuracy: 0.8503\n",
      "Epoch 45/100\n",
      "469/469 [==============================] - 1s 3ms/step - loss: 0.3387 - accuracy: 0.8616 - val_loss: 0.3665 - val_accuracy: 0.8451\n",
      "Epoch 46/100\n",
      "469/469 [==============================] - 1s 3ms/step - loss: 0.3387 - accuracy: 0.8616 - val_loss: 0.3657 - val_accuracy: 0.8498\n",
      "Epoch 47/100\n",
      "469/469 [==============================] - 2s 4ms/step - loss: 0.3386 - accuracy: 0.8610 - val_loss: 0.3661 - val_accuracy: 0.8481\n",
      "Epoch 48/100\n",
      "469/469 [==============================] - 2s 3ms/step - loss: 0.3376 - accuracy: 0.8607 - val_loss: 0.3672 - val_accuracy: 0.8477\n",
      "Epoch 49/100\n",
      "469/469 [==============================] - 2s 4ms/step - loss: 0.3376 - accuracy: 0.8592 - val_loss: 0.3663 - val_accuracy: 0.8486\n",
      "Epoch 50/100\n",
      "469/469 [==============================] - 2s 4ms/step - loss: 0.3369 - accuracy: 0.8614 - val_loss: 0.3681 - val_accuracy: 0.8486\n",
      "Epoch 51/100\n",
      "469/469 [==============================] - 2s 5ms/step - loss: 0.3375 - accuracy: 0.8614 - val_loss: 0.3663 - val_accuracy: 0.8486\n",
      "Epoch 52/100\n",
      "469/469 [==============================] - 2s 4ms/step - loss: 0.3366 - accuracy: 0.8629 - val_loss: 0.3669 - val_accuracy: 0.8498\n",
      "Epoch 53/100\n",
      "469/469 [==============================] - 2s 4ms/step - loss: 0.3367 - accuracy: 0.8614 - val_loss: 0.3653 - val_accuracy: 0.8498\n",
      "Epoch 54/100\n",
      "469/469 [==============================] - 2s 4ms/step - loss: 0.3362 - accuracy: 0.8616 - val_loss: 0.3662 - val_accuracy: 0.8486\n",
      "Epoch 55/100\n",
      "469/469 [==============================] - 2s 4ms/step - loss: 0.3362 - accuracy: 0.8607 - val_loss: 0.3640 - val_accuracy: 0.8490\n",
      "Epoch 56/100\n",
      "469/469 [==============================] - 1s 3ms/step - loss: 0.3360 - accuracy: 0.8605 - val_loss: 0.3651 - val_accuracy: 0.8498\n",
      "Epoch 57/100\n",
      "469/469 [==============================] - 2s 3ms/step - loss: 0.3358 - accuracy: 0.8614 - val_loss: 0.3664 - val_accuracy: 0.8486\n"
     ]
    },
    {
     "name": "stdout",
     "output_type": "stream",
     "text": [
      "Epoch 58/100\n",
      "469/469 [==============================] - 2s 4ms/step - loss: 0.3359 - accuracy: 0.8597 - val_loss: 0.3657 - val_accuracy: 0.8524\n",
      "Epoch 59/100\n",
      "469/469 [==============================] - 2s 5ms/step - loss: 0.3360 - accuracy: 0.8633 - val_loss: 0.3658 - val_accuracy: 0.8507\n",
      "Epoch 60/100\n",
      "469/469 [==============================] - 2s 4ms/step - loss: 0.3359 - accuracy: 0.8595 - val_loss: 0.3667 - val_accuracy: 0.8494\n",
      "Epoch 61/100\n",
      "469/469 [==============================] - 3s 6ms/step - loss: 0.3354 - accuracy: 0.8597 - val_loss: 0.3663 - val_accuracy: 0.8503\n",
      "Epoch 62/100\n",
      "469/469 [==============================] - 3s 6ms/step - loss: 0.3359 - accuracy: 0.8597 - val_loss: 0.3663 - val_accuracy: 0.8507\n",
      "Epoch 63/100\n",
      "469/469 [==============================] - 2s 5ms/step - loss: 0.3350 - accuracy: 0.8603 - val_loss: 0.3654 - val_accuracy: 0.8520\n",
      "Epoch 64/100\n",
      "469/469 [==============================] - 1s 3ms/step - loss: 0.3352 - accuracy: 0.8622 - val_loss: 0.3653 - val_accuracy: 0.8498\n",
      "Epoch 65/100\n",
      "469/469 [==============================] - 2s 4ms/step - loss: 0.3347 - accuracy: 0.8620 - val_loss: 0.3667 - val_accuracy: 0.8494\n",
      "Epoch 66/100\n",
      "469/469 [==============================] - 2s 4ms/step - loss: 0.3349 - accuracy: 0.8627 - val_loss: 0.3656 - val_accuracy: 0.8477\n",
      "Epoch 67/100\n",
      "469/469 [==============================] - 1s 3ms/step - loss: 0.3348 - accuracy: 0.8616 - val_loss: 0.3645 - val_accuracy: 0.8507\n",
      "Epoch 68/100\n",
      "469/469 [==============================] - 2s 4ms/step - loss: 0.3341 - accuracy: 0.8624 - val_loss: 0.3672 - val_accuracy: 0.8537\n",
      "Epoch 69/100\n",
      "469/469 [==============================] - 2s 4ms/step - loss: 0.3344 - accuracy: 0.8603 - val_loss: 0.3669 - val_accuracy: 0.8507\n",
      "Epoch 70/100\n",
      "469/469 [==============================] - 2s 4ms/step - loss: 0.3350 - accuracy: 0.8588 - val_loss: 0.3650 - val_accuracy: 0.8516\n",
      "Epoch 71/100\n",
      "469/469 [==============================] - 2s 5ms/step - loss: 0.3345 - accuracy: 0.8590 - val_loss: 0.3643 - val_accuracy: 0.8486\n",
      "Epoch 72/100\n",
      "469/469 [==============================] - 2s 4ms/step - loss: 0.3336 - accuracy: 0.8586 - val_loss: 0.3680 - val_accuracy: 0.8524\n",
      "Epoch 73/100\n",
      "469/469 [==============================] - 2s 3ms/step - loss: 0.3344 - accuracy: 0.8614 - val_loss: 0.3646 - val_accuracy: 0.8503\n",
      "Epoch 74/100\n",
      "469/469 [==============================] - 2s 4ms/step - loss: 0.3339 - accuracy: 0.8597 - val_loss: 0.3649 - val_accuracy: 0.8516\n",
      "Epoch 75/100\n",
      "469/469 [==============================] - 2s 5ms/step - loss: 0.3342 - accuracy: 0.8599 - val_loss: 0.3643 - val_accuracy: 0.8498\n",
      "Epoch 76/100\n",
      "469/469 [==============================] - 2s 4ms/step - loss: 0.3335 - accuracy: 0.8610 - val_loss: 0.3649 - val_accuracy: 0.8516\n",
      "Epoch 77/100\n",
      "469/469 [==============================] - 1s 3ms/step - loss: 0.3337 - accuracy: 0.8599 - val_loss: 0.3651 - val_accuracy: 0.8498\n",
      "Epoch 78/100\n",
      "469/469 [==============================] - 1s 3ms/step - loss: 0.3336 - accuracy: 0.8599 - val_loss: 0.3656 - val_accuracy: 0.8533\n",
      "Epoch 79/100\n",
      "469/469 [==============================] - 2s 3ms/step - loss: 0.3338 - accuracy: 0.8610 - val_loss: 0.3655 - val_accuracy: 0.8503\n",
      "Epoch 80/100\n",
      "469/469 [==============================] - 2s 4ms/step - loss: 0.3335 - accuracy: 0.8616 - val_loss: 0.3647 - val_accuracy: 0.8520\n",
      "Epoch 81/100\n",
      "469/469 [==============================] - 1s 3ms/step - loss: 0.3336 - accuracy: 0.8616 - val_loss: 0.3648 - val_accuracy: 0.8503\n",
      "Epoch 82/100\n",
      "469/469 [==============================] - 2s 3ms/step - loss: 0.3332 - accuracy: 0.8603 - val_loss: 0.3653 - val_accuracy: 0.8516\n",
      "Epoch 83/100\n",
      "469/469 [==============================] - 2s 5ms/step - loss: 0.3330 - accuracy: 0.8624 - val_loss: 0.3651 - val_accuracy: 0.8524\n",
      "Epoch 84/100\n",
      "469/469 [==============================] - 2s 4ms/step - loss: 0.3330 - accuracy: 0.8624 - val_loss: 0.3662 - val_accuracy: 0.8537\n",
      "Epoch 85/100\n",
      "469/469 [==============================] - 2s 4ms/step - loss: 0.3326 - accuracy: 0.8607 - val_loss: 0.3664 - val_accuracy: 0.8524\n",
      "Epoch 86/100\n",
      "469/469 [==============================] - 2s 4ms/step - loss: 0.3327 - accuracy: 0.8605 - val_loss: 0.3645 - val_accuracy: 0.8542\n",
      "Epoch 87/100\n",
      "469/469 [==============================] - 2s 4ms/step - loss: 0.3314 - accuracy: 0.8614 - val_loss: 0.3684 - val_accuracy: 0.8447\n",
      "Epoch 88/100\n",
      "469/469 [==============================] - 2s 3ms/step - loss: 0.3330 - accuracy: 0.8624 - val_loss: 0.3657 - val_accuracy: 0.8520\n",
      "Epoch 89/100\n",
      "469/469 [==============================] - 1s 3ms/step - loss: 0.3323 - accuracy: 0.8633 - val_loss: 0.3674 - val_accuracy: 0.8507\n",
      "Epoch 90/100\n",
      "469/469 [==============================] - 2s 3ms/step - loss: 0.3325 - accuracy: 0.8629 - val_loss: 0.3668 - val_accuracy: 0.8520\n",
      "Epoch 91/100\n",
      "469/469 [==============================] - 2s 3ms/step - loss: 0.3321 - accuracy: 0.8629 - val_loss: 0.3645 - val_accuracy: 0.8490\n",
      "Epoch 92/100\n",
      "469/469 [==============================] - 1s 3ms/step - loss: 0.3321 - accuracy: 0.8610 - val_loss: 0.3644 - val_accuracy: 0.8498\n",
      "Epoch 93/100\n",
      "469/469 [==============================] - 2s 3ms/step - loss: 0.3321 - accuracy: 0.8597 - val_loss: 0.3646 - val_accuracy: 0.8486\n",
      "Epoch 94/100\n",
      "469/469 [==============================] - 2s 4ms/step - loss: 0.3322 - accuracy: 0.8622 - val_loss: 0.3635 - val_accuracy: 0.8546\n",
      "Epoch 95/100\n",
      "469/469 [==============================] - 1s 3ms/step - loss: 0.3322 - accuracy: 0.8631 - val_loss: 0.3642 - val_accuracy: 0.8511\n",
      "Epoch 96/100\n",
      "469/469 [==============================] - 1s 3ms/step - loss: 0.3317 - accuracy: 0.8624 - val_loss: 0.3646 - val_accuracy: 0.8516\n",
      "Epoch 97/100\n",
      "469/469 [==============================] - 2s 4ms/step - loss: 0.3318 - accuracy: 0.8610 - val_loss: 0.3655 - val_accuracy: 0.8481\n",
      "Epoch 98/100\n",
      "469/469 [==============================] - 2s 4ms/step - loss: 0.3316 - accuracy: 0.8627 - val_loss: 0.3654 - val_accuracy: 0.8533\n",
      "Epoch 99/100\n",
      "469/469 [==============================] - 2s 3ms/step - loss: 0.3309 - accuracy: 0.8627 - val_loss: 0.3657 - val_accuracy: 0.8490\n",
      "Epoch 100/100\n",
      "469/469 [==============================] - 2s 4ms/step - loss: 0.3316 - accuracy: 0.8616 - val_loss: 0.3658 - val_accuracy: 0.8516\n"
     ]
    }
   ],
   "source": [
    "#fitting the ann for training dataset\n",
    "model_history=classifier.fit(scaled_xtrain,y_train,validation_split=0.33,batch_size=10,epochs=100)"
   ]
  },
  {
   "cell_type": "code",
   "execution_count": 86,
   "id": "c255e903",
   "metadata": {},
   "outputs": [],
   "source": [
    "y_pred=classifier.predict(scaled_xtest)\n",
    "y_pred=y_pred>0.5"
   ]
  },
  {
   "cell_type": "code",
   "execution_count": 87,
   "id": "f12cda04",
   "metadata": {},
   "outputs": [
    {
     "data": {
      "text/plain": [
       "array([[2324,   92],\n",
       "       [ 320,  264]], dtype=int64)"
      ]
     },
     "execution_count": 87,
     "metadata": {},
     "output_type": "execute_result"
    }
   ],
   "source": [
    "from sklearn.metrics import confusion_matrix\n",
    "confusion_matrix(y_test,y_pred)"
   ]
  },
  {
   "cell_type": "code",
   "execution_count": 88,
   "id": "2d2a3e0f",
   "metadata": {},
   "outputs": [
    {
     "data": {
      "text/plain": [
       "0.8626666666666667"
      ]
     },
     "execution_count": 88,
     "metadata": {},
     "output_type": "execute_result"
    }
   ],
   "source": [
    "from sklearn.metrics import accuracy_score\n",
    "accuracy_score(y_test,y_pred)"
   ]
  }
 ],
 "metadata": {
  "kernelspec": {
   "display_name": "Python 3",
   "language": "python",
   "name": "python3"
  },
  "language_info": {
   "codemirror_mode": {
    "name": "ipython",
    "version": 3
   },
   "file_extension": ".py",
   "mimetype": "text/x-python",
   "name": "python",
   "nbconvert_exporter": "python",
   "pygments_lexer": "ipython3",
   "version": "3.8.8"
  }
 },
 "nbformat": 4,
 "nbformat_minor": 5
}
