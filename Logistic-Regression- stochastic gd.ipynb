{
 "cells": [
  {
   "cell_type": "markdown",
   "metadata": {},
   "source": [
    "rohan 19btrcr011"
   ]
  },
  {
   "cell_type": "markdown",
   "metadata": {},
   "source": [
    "# Explore Logistic Regression"
   ]
  },
  {
   "cell_type": "markdown",
   "metadata": {},
   "source": [
    "Logistic Regression is a Machine Learning classification algorithm that is used to predict the probability of a categorical dependent variable. In logistic regression, the dependent variable is a binary variable that contains data coded as (good, success, etc.) or 0 (bad, failure, etc.). In other words, the logistic regression model predicts P(Y=1) as a function of X."
   ]
  },
  {
   "cell_type": "markdown",
   "metadata": {},
   "source": [
    "# Objective(Business Scenario):\n",
    "\n",
    "Predict a person as good or bad credit risk."
   ]
  },
  {
   "cell_type": "markdown",
   "metadata": {},
   "source": [
    "# Introduction : Credit Risk Analysis\n",
    "\n",
    "Credit risk\n",
    "\n",
    "Credit Risk is the probable risk of loss resulting from a borrower's failure to repay a loan or meet contractual obligations. If a company offers credit to its client,then there is a risk that its clients may not pay their invoices.\n",
    "\n",
    "Types of Credit Risk\n",
    "\n",
    "Good Risk: An investment that one believes is likely to be profitable. The term most often refers to a loan made to a creditworthy person or company. Good risks are considered exceptionally likely to be repaid.\n",
    "\n",
    "Bad Risk: A loan that is unlikely to be repaid because of bad credit history, insufficient income, or some other reason. A bad risk increases the risk to the lender and the likelihood of default on the part of the borrower.\n",
    "\n"
   ]
  },
  {
   "cell_type": "markdown",
   "metadata": {},
   "source": [
    "# Librarys\n",
    "    - Importing Librarys\n",
    "    - Importing Dataset\n"
   ]
  },
  {
   "cell_type": "code",
   "execution_count": 1,
   "metadata": {},
   "outputs": [
    {
     "data": {
      "text/html": [
       "<div>\n",
       "<style scoped>\n",
       "    .dataframe tbody tr th:only-of-type {\n",
       "        vertical-align: middle;\n",
       "    }\n",
       "\n",
       "    .dataframe tbody tr th {\n",
       "        vertical-align: top;\n",
       "    }\n",
       "\n",
       "    .dataframe thead th {\n",
       "        text-align: right;\n",
       "    }\n",
       "</style>\n",
       "<table border=\"1\" class=\"dataframe\">\n",
       "  <thead>\n",
       "    <tr style=\"text-align: right;\">\n",
       "      <th></th>\n",
       "      <th>Unnamed: 0</th>\n",
       "      <th>Age</th>\n",
       "      <th>Sex</th>\n",
       "      <th>Job</th>\n",
       "      <th>Housing</th>\n",
       "      <th>Saving accounts</th>\n",
       "      <th>Checking account</th>\n",
       "      <th>Credit amount</th>\n",
       "      <th>Duration</th>\n",
       "      <th>Purpose</th>\n",
       "      <th>Risk</th>\n",
       "    </tr>\n",
       "  </thead>\n",
       "  <tbody>\n",
       "    <tr>\n",
       "      <th>0</th>\n",
       "      <td>0</td>\n",
       "      <td>67</td>\n",
       "      <td>male</td>\n",
       "      <td>2</td>\n",
       "      <td>own</td>\n",
       "      <td>NaN</td>\n",
       "      <td>little</td>\n",
       "      <td>1169</td>\n",
       "      <td>6</td>\n",
       "      <td>radio/TV</td>\n",
       "      <td>good</td>\n",
       "    </tr>\n",
       "    <tr>\n",
       "      <th>1</th>\n",
       "      <td>1</td>\n",
       "      <td>22</td>\n",
       "      <td>female</td>\n",
       "      <td>2</td>\n",
       "      <td>own</td>\n",
       "      <td>little</td>\n",
       "      <td>moderate</td>\n",
       "      <td>5951</td>\n",
       "      <td>48</td>\n",
       "      <td>radio/TV</td>\n",
       "      <td>bad</td>\n",
       "    </tr>\n",
       "    <tr>\n",
       "      <th>2</th>\n",
       "      <td>2</td>\n",
       "      <td>49</td>\n",
       "      <td>male</td>\n",
       "      <td>1</td>\n",
       "      <td>own</td>\n",
       "      <td>little</td>\n",
       "      <td>NaN</td>\n",
       "      <td>2096</td>\n",
       "      <td>12</td>\n",
       "      <td>education</td>\n",
       "      <td>good</td>\n",
       "    </tr>\n",
       "    <tr>\n",
       "      <th>3</th>\n",
       "      <td>3</td>\n",
       "      <td>45</td>\n",
       "      <td>male</td>\n",
       "      <td>2</td>\n",
       "      <td>free</td>\n",
       "      <td>little</td>\n",
       "      <td>little</td>\n",
       "      <td>7882</td>\n",
       "      <td>42</td>\n",
       "      <td>furniture/equipment</td>\n",
       "      <td>good</td>\n",
       "    </tr>\n",
       "    <tr>\n",
       "      <th>4</th>\n",
       "      <td>4</td>\n",
       "      <td>53</td>\n",
       "      <td>male</td>\n",
       "      <td>2</td>\n",
       "      <td>free</td>\n",
       "      <td>little</td>\n",
       "      <td>little</td>\n",
       "      <td>4870</td>\n",
       "      <td>24</td>\n",
       "      <td>car</td>\n",
       "      <td>bad</td>\n",
       "    </tr>\n",
       "  </tbody>\n",
       "</table>\n",
       "</div>"
      ],
      "text/plain": [
       "   Unnamed: 0  Age     Sex  Job Housing Saving accounts Checking account  \\\n",
       "0           0   67    male    2     own             NaN           little   \n",
       "1           1   22  female    2     own          little         moderate   \n",
       "2           2   49    male    1     own          little              NaN   \n",
       "3           3   45    male    2    free          little           little   \n",
       "4           4   53    male    2    free          little           little   \n",
       "\n",
       "   Credit amount  Duration              Purpose  Risk  \n",
       "0           1169         6             radio/TV  good  \n",
       "1           5951        48             radio/TV   bad  \n",
       "2           2096        12            education  good  \n",
       "3           7882        42  furniture/equipment  good  \n",
       "4           4870        24                  car   bad  "
      ]
     },
     "execution_count": 1,
     "metadata": {},
     "output_type": "execute_result"
    }
   ],
   "source": [
    "#Load the librarys\n",
    "import pandas as pd #To work with dataset\n",
    "import numpy as np #Math library\n",
    "import seaborn as sns #Graph library that use matplot in background\n",
    "import matplotlib.pyplot as plt #to plot some parameters in seaborn\n",
    "\n",
    "#Importing the data\n",
    "df_credit = pd.read_csv(\"datasets_9109_12699_german_credit_data.csv\")\n",
    "df_credit.head()"
   ]
  },
  {
   "cell_type": "code",
   "execution_count": 2,
   "metadata": {},
   "outputs": [
    {
     "data": {
      "text/html": [
       "<div>\n",
       "<style scoped>\n",
       "    .dataframe tbody tr th:only-of-type {\n",
       "        vertical-align: middle;\n",
       "    }\n",
       "\n",
       "    .dataframe tbody tr th {\n",
       "        vertical-align: top;\n",
       "    }\n",
       "\n",
       "    .dataframe thead th {\n",
       "        text-align: right;\n",
       "    }\n",
       "</style>\n",
       "<table border=\"1\" class=\"dataframe\">\n",
       "  <thead>\n",
       "    <tr style=\"text-align: right;\">\n",
       "      <th></th>\n",
       "      <th>Age</th>\n",
       "      <th>Sex</th>\n",
       "      <th>Job</th>\n",
       "      <th>Housing</th>\n",
       "      <th>Saving accounts</th>\n",
       "      <th>Checking account</th>\n",
       "      <th>Credit amount</th>\n",
       "      <th>Duration</th>\n",
       "      <th>Purpose</th>\n",
       "      <th>Risk</th>\n",
       "    </tr>\n",
       "  </thead>\n",
       "  <tbody>\n",
       "    <tr>\n",
       "      <th>0</th>\n",
       "      <td>67</td>\n",
       "      <td>male</td>\n",
       "      <td>2</td>\n",
       "      <td>own</td>\n",
       "      <td>NaN</td>\n",
       "      <td>little</td>\n",
       "      <td>1169</td>\n",
       "      <td>6</td>\n",
       "      <td>radio/TV</td>\n",
       "      <td>good</td>\n",
       "    </tr>\n",
       "    <tr>\n",
       "      <th>1</th>\n",
       "      <td>22</td>\n",
       "      <td>female</td>\n",
       "      <td>2</td>\n",
       "      <td>own</td>\n",
       "      <td>little</td>\n",
       "      <td>moderate</td>\n",
       "      <td>5951</td>\n",
       "      <td>48</td>\n",
       "      <td>radio/TV</td>\n",
       "      <td>bad</td>\n",
       "    </tr>\n",
       "    <tr>\n",
       "      <th>2</th>\n",
       "      <td>49</td>\n",
       "      <td>male</td>\n",
       "      <td>1</td>\n",
       "      <td>own</td>\n",
       "      <td>little</td>\n",
       "      <td>NaN</td>\n",
       "      <td>2096</td>\n",
       "      <td>12</td>\n",
       "      <td>education</td>\n",
       "      <td>good</td>\n",
       "    </tr>\n",
       "    <tr>\n",
       "      <th>3</th>\n",
       "      <td>45</td>\n",
       "      <td>male</td>\n",
       "      <td>2</td>\n",
       "      <td>free</td>\n",
       "      <td>little</td>\n",
       "      <td>little</td>\n",
       "      <td>7882</td>\n",
       "      <td>42</td>\n",
       "      <td>furniture/equipment</td>\n",
       "      <td>good</td>\n",
       "    </tr>\n",
       "    <tr>\n",
       "      <th>4</th>\n",
       "      <td>53</td>\n",
       "      <td>male</td>\n",
       "      <td>2</td>\n",
       "      <td>free</td>\n",
       "      <td>little</td>\n",
       "      <td>little</td>\n",
       "      <td>4870</td>\n",
       "      <td>24</td>\n",
       "      <td>car</td>\n",
       "      <td>bad</td>\n",
       "    </tr>\n",
       "  </tbody>\n",
       "</table>\n",
       "</div>"
      ],
      "text/plain": [
       "   Age     Sex  Job Housing Saving accounts Checking account  Credit amount  \\\n",
       "0   67    male    2     own             NaN           little           1169   \n",
       "1   22  female    2     own          little         moderate           5951   \n",
       "2   49    male    1     own          little              NaN           2096   \n",
       "3   45    male    2    free          little           little           7882   \n",
       "4   53    male    2    free          little           little           4870   \n",
       "\n",
       "   Duration              Purpose  Risk  \n",
       "0         6             radio/TV  good  \n",
       "1        48             radio/TV   bad  \n",
       "2        12            education  good  \n",
       "3        42  furniture/equipment  good  \n",
       "4        24                  car   bad  "
      ]
     },
     "execution_count": 2,
     "metadata": {},
     "output_type": "execute_result"
    }
   ],
   "source": [
    "### Drop unnecessary columns\n",
    "df_credit=df_credit.drop(['Unnamed: 0'],axis=1)\n",
    "df_credit.head()"
   ]
  },
  {
   "cell_type": "code",
   "execution_count": 3,
   "metadata": {},
   "outputs": [
    {
     "data": {
      "text/html": [
       "<div>\n",
       "<style scoped>\n",
       "    .dataframe tbody tr th:only-of-type {\n",
       "        vertical-align: middle;\n",
       "    }\n",
       "\n",
       "    .dataframe tbody tr th {\n",
       "        vertical-align: top;\n",
       "    }\n",
       "\n",
       "    .dataframe thead th {\n",
       "        text-align: right;\n",
       "    }\n",
       "</style>\n",
       "<table border=\"1\" class=\"dataframe\">\n",
       "  <thead>\n",
       "    <tr style=\"text-align: right;\">\n",
       "      <th></th>\n",
       "      <th>Age</th>\n",
       "      <th>Job</th>\n",
       "      <th>Credit amount</th>\n",
       "      <th>Duration</th>\n",
       "    </tr>\n",
       "  </thead>\n",
       "  <tbody>\n",
       "    <tr>\n",
       "      <th>count</th>\n",
       "      <td>1000.000000</td>\n",
       "      <td>1000.000000</td>\n",
       "      <td>1000.000000</td>\n",
       "      <td>1000.000000</td>\n",
       "    </tr>\n",
       "    <tr>\n",
       "      <th>mean</th>\n",
       "      <td>35.546000</td>\n",
       "      <td>1.904000</td>\n",
       "      <td>3271.258000</td>\n",
       "      <td>20.903000</td>\n",
       "    </tr>\n",
       "    <tr>\n",
       "      <th>std</th>\n",
       "      <td>11.375469</td>\n",
       "      <td>0.653614</td>\n",
       "      <td>2822.736876</td>\n",
       "      <td>12.058814</td>\n",
       "    </tr>\n",
       "    <tr>\n",
       "      <th>min</th>\n",
       "      <td>19.000000</td>\n",
       "      <td>0.000000</td>\n",
       "      <td>250.000000</td>\n",
       "      <td>4.000000</td>\n",
       "    </tr>\n",
       "    <tr>\n",
       "      <th>25%</th>\n",
       "      <td>27.000000</td>\n",
       "      <td>2.000000</td>\n",
       "      <td>1365.500000</td>\n",
       "      <td>12.000000</td>\n",
       "    </tr>\n",
       "    <tr>\n",
       "      <th>50%</th>\n",
       "      <td>33.000000</td>\n",
       "      <td>2.000000</td>\n",
       "      <td>2319.500000</td>\n",
       "      <td>18.000000</td>\n",
       "    </tr>\n",
       "    <tr>\n",
       "      <th>75%</th>\n",
       "      <td>42.000000</td>\n",
       "      <td>2.000000</td>\n",
       "      <td>3972.250000</td>\n",
       "      <td>24.000000</td>\n",
       "    </tr>\n",
       "    <tr>\n",
       "      <th>max</th>\n",
       "      <td>75.000000</td>\n",
       "      <td>3.000000</td>\n",
       "      <td>18424.000000</td>\n",
       "      <td>72.000000</td>\n",
       "    </tr>\n",
       "  </tbody>\n",
       "</table>\n",
       "</div>"
      ],
      "text/plain": [
       "               Age          Job  Credit amount     Duration\n",
       "count  1000.000000  1000.000000    1000.000000  1000.000000\n",
       "mean     35.546000     1.904000    3271.258000    20.903000\n",
       "std      11.375469     0.653614    2822.736876    12.058814\n",
       "min      19.000000     0.000000     250.000000     4.000000\n",
       "25%      27.000000     2.000000    1365.500000    12.000000\n",
       "50%      33.000000     2.000000    2319.500000    18.000000\n",
       "75%      42.000000     2.000000    3972.250000    24.000000\n",
       "max      75.000000     3.000000   18424.000000    72.000000"
      ]
     },
     "execution_count": 3,
     "metadata": {},
     "output_type": "execute_result"
    }
   ],
   "source": [
    "# Calculate Measures of central tendency and Dispersion\n",
    "df_credit.describe()"
   ]
  },
  {
   "cell_type": "markdown",
   "metadata": {},
   "source": [
    "# First Look at the data:\n",
    "\n",
    "Looking the Type of Data\n",
    "\n",
    "Null Numbers\n",
    "\n",
    "Unique values\n",
    "\n",
    "The first rows of our dataset"
   ]
  },
  {
   "cell_type": "markdown",
   "metadata": {},
   "source": [
    "# Analysing missing Values"
   ]
  },
  {
   "cell_type": "code",
   "execution_count": 4,
   "metadata": {},
   "outputs": [
    {
     "name": "stdout",
     "output_type": "stream",
     "text": [
      "<class 'pandas.core.frame.DataFrame'>\n",
      "RangeIndex: 1000 entries, 0 to 999\n",
      "Data columns (total 10 columns):\n",
      " #   Column            Non-Null Count  Dtype \n",
      "---  ------            --------------  ----- \n",
      " 0   Age               1000 non-null   int64 \n",
      " 1   Sex               1000 non-null   object\n",
      " 2   Job               1000 non-null   int64 \n",
      " 3   Housing           1000 non-null   object\n",
      " 4   Saving accounts   817 non-null    object\n",
      " 5   Checking account  606 non-null    object\n",
      " 6   Credit amount     1000 non-null   int64 \n",
      " 7   Duration          1000 non-null   int64 \n",
      " 8   Purpose           1000 non-null   object\n",
      " 9   Risk              1000 non-null   object\n",
      "dtypes: int64(4), object(6)\n",
      "memory usage: 78.2+ KB\n",
      "None\n"
     ]
    }
   ],
   "source": [
    "#Searching for Missings,type of data and also known the shape of data\n",
    "print(df_credit.info())"
   ]
  },
  {
   "cell_type": "markdown",
   "metadata": {},
   "source": [
    "As you can see, Saving accounts and Checking account has missing values"
   ]
  },
  {
   "cell_type": "markdown",
   "metadata": {},
   "source": [
    "# Replace missing values"
   ]
  },
  {
   "cell_type": "code",
   "execution_count": 5,
   "metadata": {},
   "outputs": [],
   "source": [
    "## Replace null values with forword and backword fill for Saving accounts and Checking account\n",
    "df_credit[\"Saving accounts\"].fillna( method ='ffill', inplace = True)\n",
    "df_credit[\"Saving accounts\"].fillna( method ='bfill', inplace = True)\n",
    "df_credit[\"Checking account\"].fillna( method ='ffill', inplace = True)\n",
    "df_credit[\"Checking account\"].fillna( method ='bfill', inplace = True)"
   ]
  },
  {
   "cell_type": "code",
   "execution_count": 6,
   "metadata": {},
   "outputs": [
    {
     "name": "stdout",
     "output_type": "stream",
     "text": [
      "<class 'pandas.core.frame.DataFrame'>\n",
      "RangeIndex: 1000 entries, 0 to 999\n",
      "Data columns (total 10 columns):\n",
      " #   Column            Non-Null Count  Dtype \n",
      "---  ------            --------------  ----- \n",
      " 0   Age               1000 non-null   int64 \n",
      " 1   Sex               1000 non-null   object\n",
      " 2   Job               1000 non-null   int64 \n",
      " 3   Housing           1000 non-null   object\n",
      " 4   Saving accounts   1000 non-null   object\n",
      " 5   Checking account  1000 non-null   object\n",
      " 6   Credit amount     1000 non-null   int64 \n",
      " 7   Duration          1000 non-null   int64 \n",
      " 8   Purpose           1000 non-null   object\n",
      " 9   Risk              1000 non-null   object\n",
      "dtypes: int64(4), object(6)\n",
      "memory usage: 78.2+ KB\n",
      "None\n"
     ]
    }
   ],
   "source": [
    "#Searching for Missings,type of data and also known the shape of data\n",
    "print(df_credit.info())"
   ]
  },
  {
   "cell_type": "markdown",
   "metadata": {},
   "source": [
    "Now as you can see, there are no null values"
   ]
  },
  {
   "cell_type": "code",
   "execution_count": 7,
   "metadata": {},
   "outputs": [
    {
     "name": "stdout",
     "output_type": "stream",
     "text": [
      "Age                  53\n",
      "Sex                   2\n",
      "Job                   4\n",
      "Housing               3\n",
      "Saving accounts       4\n",
      "Checking account      3\n",
      "Credit amount       921\n",
      "Duration             33\n",
      "Purpose               8\n",
      "Risk                  2\n",
      "dtype: int64\n",
      "   Age     Sex  Job Housing Saving accounts Checking account  Credit amount  \\\n",
      "0   67    male    2     own          little           little           1169   \n",
      "1   22  female    2     own          little         moderate           5951   \n",
      "2   49    male    1     own          little         moderate           2096   \n",
      "3   45    male    2    free          little           little           7882   \n",
      "4   53    male    2    free          little           little           4870   \n",
      "\n",
      "   Duration              Purpose  Risk  \n",
      "0         6             radio/TV  good  \n",
      "1        48             radio/TV   bad  \n",
      "2        12            education  good  \n",
      "3        42  furniture/equipment  good  \n",
      "4        24                  car   bad  \n"
     ]
    }
   ],
   "source": [
    "#Looking unique values\n",
    "print(df_credit.nunique())\n",
    "#Looking the data\n",
    "print(df_credit.head())"
   ]
  },
  {
   "cell_type": "markdown",
   "metadata": {},
   "source": [
    "# Univariate Analysis"
   ]
  },
  {
   "cell_type": "markdown",
   "metadata": {},
   "source": [
    "Will do univariate analysis. It is the simplest form of analyzing data where we examine each variable individually."
   ]
  },
  {
   "cell_type": "markdown",
   "metadata": {},
   "source": [
    "# Target Variable"
   ]
  },
  {
   "cell_type": "markdown",
   "metadata": {},
   "source": [
    "We will first look at the target variable, i.e., Risk.\n",
    "\n",
    "As it is a categorical variable, let us look at its frequency table, percentage distribution and bar plot."
   ]
  },
  {
   "cell_type": "markdown",
   "metadata": {},
   "source": [
    "Frequency table of a variable will give us the count of each category in that variable.\n",
    "\n"
   ]
  },
  {
   "cell_type": "code",
   "execution_count": 8,
   "metadata": {},
   "outputs": [
    {
     "data": {
      "text/plain": [
       "1000"
      ]
     },
     "execution_count": 8,
     "metadata": {},
     "output_type": "execute_result"
    }
   ],
   "source": [
    "df_credit['Risk'].count()"
   ]
  },
  {
   "cell_type": "markdown",
   "metadata": {},
   "source": [
    "Size of our target variable is : 1000"
   ]
  },
  {
   "cell_type": "code",
   "execution_count": 9,
   "metadata": {},
   "outputs": [
    {
     "data": {
      "text/plain": [
       "good    700\n",
       "bad     300\n",
       "Name: Risk, dtype: int64"
      ]
     },
     "execution_count": 9,
     "metadata": {},
     "output_type": "execute_result"
    }
   ],
   "source": [
    "df_credit['Risk'].value_counts()"
   ]
  },
  {
   "cell_type": "markdown",
   "metadata": {},
   "source": [
    "Among 1000, Risk : Good : 700, Bad : 300"
   ]
  },
  {
   "cell_type": "code",
   "execution_count": 10,
   "metadata": {},
   "outputs": [
    {
     "data": {
      "text/plain": [
       "good    70.0\n",
       "bad     30.0\n",
       "Name: Risk, dtype: float64"
      ]
     },
     "execution_count": 10,
     "metadata": {},
     "output_type": "execute_result"
    }
   ],
   "source": [
    "# Normalize can be set to True to print proportions instead of number\n",
    "df_credit['Risk'].value_counts(normalize=True)*100"
   ]
  },
  {
   "cell_type": "code",
   "execution_count": 11,
   "metadata": {},
   "outputs": [
    {
     "data": {
      "text/plain": [
       "<matplotlib.axes._subplots.AxesSubplot at 0x20bb8294288>"
      ]
     },
     "execution_count": 11,
     "metadata": {},
     "output_type": "execute_result"
    },
    {
     "data": {
      "image/png": "[encoded data removed]",
      "text/plain": [
       "<Figure size 432x288 with 1 Axes>"
      ]
     },
     "metadata": {
      "needs_background": "light"
     },
     "output_type": "display_data"
    }
   ],
   "source": [
    "df_credit[\"Risk\"].value_counts(normalize=True).plot.bar(title = 'Risk')"
   ]
  },
  {
   "cell_type": "markdown",
   "metadata": {},
   "source": [
    "The Risk of 700(around 70%) people out of 1000 was Good and 300(around 30%) are Bad."
   ]
  },
  {
   "cell_type": "markdown",
   "metadata": {},
   "source": [
    "Now lets visualize each variable separately. Different types of variables are Categorical, ordinal and numerical."
   ]
  },
  {
   "cell_type": "markdown",
   "metadata": {},
   "source": [
    "# Independent Variables"
   ]
  },
  {
   "cell_type": "markdown",
   "metadata": {},
   "source": [
    "# Analysis on \"Age\" variable :"
   ]
  },
  {
   "cell_type": "code",
   "execution_count": 12,
   "metadata": {},
   "outputs": [
    {
     "data": {
      "image/png": "[encoded data removed]",
      "text/plain": [
       "<Figure size 1152x360 with 2 Axes>"
      ]
     },
     "metadata": {
      "needs_background": "light"
     },
     "output_type": "display_data"
    }
   ],
   "source": [
    "plt.figure(1)\n",
    "plt.subplot(121)\n",
    "sns.distplot(df_credit[\"Age\"]);\n",
    "\n",
    "plt.subplot(122)\n",
    "df_credit[\"Age\"].plot.box(figsize=(16,5))\n",
    "plt.show()"
   ]
  },
  {
   "cell_type": "markdown",
   "metadata": {},
   "source": [
    "# Analysis on \"Sex\" variable :"
   ]
  },
  {
   "cell_type": "code",
   "execution_count": 13,
   "metadata": {},
   "outputs": [
    {
     "data": {
      "text/plain": [
       "male      690\n",
       "female    310\n",
       "Name: Sex, dtype: int64"
      ]
     },
     "execution_count": 13,
     "metadata": {},
     "output_type": "execute_result"
    }
   ],
   "source": [
    "df_credit['Sex'].value_counts()"
   ]
  },
  {
   "cell_type": "markdown",
   "metadata": {},
   "source": [
    "Among 1000, Sex : Male : 690, Female : 310"
   ]
  },
  {
   "cell_type": "code",
   "execution_count": 14,
   "metadata": {},
   "outputs": [
    {
     "data": {
      "text/plain": [
       "male      69.0\n",
       "female    31.0\n",
       "Name: Sex, dtype: float64"
      ]
     },
     "execution_count": 14,
     "metadata": {},
     "output_type": "execute_result"
    }
   ],
   "source": [
    "# Normalize can be set to True to print proportions instead of number\n",
    "df_credit['Sex'].value_counts(normalize=True)*100"
   ]
  },
  {
   "cell_type": "code",
   "execution_count": 15,
   "metadata": {},
   "outputs": [
    {
     "data": {
      "text/plain": [
       "<matplotlib.axes._subplots.AxesSubplot at 0x20bb8b2eec8>"
      ]
     },
     "execution_count": 15,
     "metadata": {},
     "output_type": "execute_result"
    },
    {
     "data": {
      "image/png": "[encoded data removed]",
      "text/plain": [
       "<Figure size 432x288 with 1 Axes>"
      ]
     },
     "metadata": {
      "needs_background": "light"
     },
     "output_type": "display_data"
    }
   ],
   "source": [
    "df_credit[\"Sex\"].value_counts(normalize=True).plot.bar(title = 'Sex')"
   ]
  },
  {
   "cell_type": "markdown",
   "metadata": {},
   "source": [
    "The Risk of 690(around 69%) people out of 1000 was Male and 310(around 31%) are Female."
   ]
  },
  {
   "cell_type": "markdown",
   "metadata": {},
   "source": [
    "# Analysis on \"Job\" variable :"
   ]
  },
  {
   "cell_type": "code",
   "execution_count": 16,
   "metadata": {},
   "outputs": [
    {
     "data": {
      "text/plain": [
       "2    630\n",
       "1    200\n",
       "3    148\n",
       "0     22\n",
       "Name: Job, dtype: int64"
      ]
     },
     "execution_count": 16,
     "metadata": {},
     "output_type": "execute_result"
    }
   ],
   "source": [
    "df_credit['Job'].value_counts()"
   ]
  },
  {
   "cell_type": "code",
   "execution_count": 17,
   "metadata": {},
   "outputs": [
    {
     "data": {
      "text/plain": [
       "2    63.0\n",
       "1    20.0\n",
       "3    14.8\n",
       "0     2.2\n",
       "Name: Job, dtype: float64"
      ]
     },
     "execution_count": 17,
     "metadata": {},
     "output_type": "execute_result"
    }
   ],
   "source": [
    "# Normalize can be set to True to print proportions instead of number\n",
    "df_credit['Job'].value_counts(normalize=True)*100"
   ]
  },
  {
   "cell_type": "code",
   "execution_count": 18,
   "metadata": {},
   "outputs": [
    {
     "data": {
      "text/plain": [
       "<matplotlib.axes._subplots.AxesSubplot at 0x20bb8b6a188>"
      ]
     },
     "execution_count": 18,
     "metadata": {},
     "output_type": "execute_result"
    },
    {
     "data": {
      "image/png": "[encoded data removed]",
      "text/plain": [
       "<Figure size 432x288 with 1 Axes>"
      ]
     },
     "metadata": {
      "needs_background": "light"
     },
     "output_type": "display_data"
    }
   ],
   "source": [
    "df_credit[\"Job\"].value_counts(normalize=True).plot.bar(title = 'Job')"
   ]
  },
  {
   "cell_type": "markdown",
   "metadata": {},
   "source": [
    "63% people have 2 level Job\n",
    "\n",
    "20% people have 1 level Job\n",
    "\n",
    "14.8% people have 3 level Job\n",
    "\n",
    "2.2% people have 0 level Job"
   ]
  },
  {
   "cell_type": "markdown",
   "metadata": {},
   "source": [
    "# Analysis on \"Housing\" variable :"
   ]
  },
  {
   "cell_type": "code",
   "execution_count": 19,
   "metadata": {},
   "outputs": [
    {
     "data": {
      "text/plain": [
       "own     713\n",
       "rent    179\n",
       "free    108\n",
       "Name: Housing, dtype: int64"
      ]
     },
     "execution_count": 19,
     "metadata": {},
     "output_type": "execute_result"
    }
   ],
   "source": [
    "df_credit['Housing'].value_counts()"
   ]
  },
  {
   "cell_type": "code",
   "execution_count": 20,
   "metadata": {},
   "outputs": [
    {
     "data": {
      "text/plain": [
       "own     71.3\n",
       "rent    17.9\n",
       "free    10.8\n",
       "Name: Housing, dtype: float64"
      ]
     },
     "execution_count": 20,
     "metadata": {},
     "output_type": "execute_result"
    }
   ],
   "source": [
    "# Normalize can be set to True to print proportions instead of number\n",
    "df_credit['Housing'].value_counts(normalize=True)*100"
   ]
  },
  {
   "cell_type": "code",
   "execution_count": 21,
   "metadata": {},
   "outputs": [
    {
     "data": {
      "text/plain": [
       "<matplotlib.axes._subplots.AxesSubplot at 0x20bb8bcc988>"
      ]
     },
     "execution_count": 21,
     "metadata": {},
     "output_type": "execute_result"
    },
    {
     "data": {
      "image/png": "[encoded data removed]",
      "text/plain": [
       "<Figure size 432x288 with 1 Axes>"
      ]
     },
     "metadata": {
      "needs_background": "light"
     },
     "output_type": "display_data"
    }
   ],
   "source": [
    "df_credit[\"Housing\"].value_counts(normalize=True).plot.bar(title = 'Housing')"
   ]
  },
  {
   "cell_type": "markdown",
   "metadata": {},
   "source": [
    "71.3% people have Own House\n",
    "\n",
    "17.9% people are staying at Rent House\n",
    "\n",
    "10.8% people are staying  at free House"
   ]
  },
  {
   "cell_type": "markdown",
   "metadata": {},
   "source": [
    "# Analysis on \"Saving accounts\" variable :"
   ]
  },
  {
   "cell_type": "code",
   "execution_count": 22,
   "metadata": {},
   "outputs": [
    {
     "name": "stdout",
     "output_type": "stream",
     "text": [
      "little        741\n",
      "moderate      127\n",
      "quite rich     75\n",
      "rich           57\n",
      "Name: Saving accounts, dtype: int64\n",
      "little        74.1\n",
      "moderate      12.7\n",
      "quite rich     7.5\n",
      "rich           5.7\n",
      "Name: Saving accounts, dtype: float64\n"
     ]
    },
    {
     "data": {
      "image/png": "[encoded data removed]",
      "text/plain": [
       "<Figure size 432x288 with 1 Axes>"
      ]
     },
     "metadata": {
      "needs_background": "light"
     },
     "output_type": "display_data"
    }
   ],
   "source": [
    "print(df_credit['Saving accounts'].value_counts())\n",
    "df_credit[\"Saving accounts\"].value_counts(normalize=True).plot.bar(title = 'Saving accounts')\n",
    "# Normalize can be set to True to print proportions instead of number\n",
    "print(df_credit['Saving accounts'].value_counts(normalize=True)*100)"
   ]
  },
  {
   "cell_type": "markdown",
   "metadata": {},
   "source": [
    "74.1% people have Little Saving Accounts\n",
    "\n",
    "12.7% people have Moderate Saving Accounts\n",
    "\n",
    "7.5% people have quite rich Saving Accounts\n",
    "\n",
    "5.7% people have rich Saving Accounts"
   ]
  },
  {
   "cell_type": "markdown",
   "metadata": {},
   "source": [
    "# Analysis on \"Checking account\" variable :"
   ]
  },
  {
   "cell_type": "code",
   "execution_count": 23,
   "metadata": {},
   "outputs": [
    {
     "name": "stdout",
     "output_type": "stream",
     "text": [
      "moderate    459\n",
      "little      452\n",
      "rich         89\n",
      "Name: Checking account, dtype: int64\n",
      "moderate    45.9\n",
      "little      45.2\n",
      "rich         8.9\n",
      "Name: Checking account, dtype: float64\n"
     ]
    },
    {
     "data": {
      "image/png": "[encoded data removed]",
      "text/plain": [
       "<Figure size 432x288 with 1 Axes>"
      ]
     },
     "metadata": {
      "needs_background": "light"
     },
     "output_type": "display_data"
    }
   ],
   "source": [
    "print(df_credit['Checking account'].value_counts())\n",
    "df_credit[\"Checking account\"].value_counts(normalize=True).plot.bar(title = 'Checking account')\n",
    "# Normalize can be set to True to print proportions instead of number\n",
    "print(df_credit['Checking account'].value_counts(normalize=True)*100)"
   ]
  },
  {
   "cell_type": "markdown",
   "metadata": {},
   "source": [
    "45.9% people have Moderate Checking Account\n",
    "\n",
    "45.2% people have Little Checking Account\n",
    "\n",
    "8.9% people have rich Checking Account"
   ]
  },
  {
   "cell_type": "markdown",
   "metadata": {},
   "source": [
    "# Analysis on \"Credit amount\" variable :"
   ]
  },
  {
   "cell_type": "code",
   "execution_count": 24,
   "metadata": {},
   "outputs": [
    {
     "data": {
      "image/png": "[encoded data removed]",
      "text/plain": [
       "<Figure size 1152x360 with 2 Axes>"
      ]
     },
     "metadata": {
      "needs_background": "light"
     },
     "output_type": "display_data"
    }
   ],
   "source": [
    "plt.figure(1)\n",
    "plt.subplot(121)\n",
    "sns.distplot(df_credit[\"Credit amount\"]);\n",
    "\n",
    "plt.subplot(122)\n",
    "df_credit[\"Credit amount\"].plot.box(figsize=(16,5))\n",
    "plt.show()"
   ]
  },
  {
   "cell_type": "markdown",
   "metadata": {},
   "source": [
    "30% of the people have 0 - 5000 Credit Amount"
   ]
  },
  {
   "cell_type": "markdown",
   "metadata": {},
   "source": [
    "# Analysis on \"Duration\" variable :"
   ]
  },
  {
   "cell_type": "code",
   "execution_count": 25,
   "metadata": {},
   "outputs": [
    {
     "data": {
      "image/png": "[encoded data removed]",
      "text/plain": [
       "<Figure size 1152x360 with 2 Axes>"
      ]
     },
     "metadata": {
      "needs_background": "light"
     },
     "output_type": "display_data"
    }
   ],
   "source": [
    "plt.figure(1)\n",
    "plt.subplot(121)\n",
    "sns.distplot(df_credit[\"Duration\"]);\n",
    "\n",
    "plt.subplot(122)\n",
    "df_credit[\"Duration\"].plot.box(figsize=(16,5))\n",
    "plt.show()"
   ]
  },
  {
   "cell_type": "markdown",
   "metadata": {},
   "source": [
    "80% of the people have 12 and 24 months Duration"
   ]
  },
  {
   "cell_type": "markdown",
   "metadata": {},
   "source": [
    "# Analysis on \"Purpose\" variable :"
   ]
  },
  {
   "cell_type": "code",
   "execution_count": 26,
   "metadata": {},
   "outputs": [
    {
     "name": "stdout",
     "output_type": "stream",
     "text": [
      "car                    337\n",
      "radio/TV               280\n",
      "furniture/equipment    181\n",
      "business                97\n",
      "education               59\n",
      "repairs                 22\n",
      "vacation/others         12\n",
      "domestic appliances     12\n",
      "Name: Purpose, dtype: int64\n",
      "car                    33.7\n",
      "radio/TV               28.0\n",
      "furniture/equipment    18.1\n",
      "business                9.7\n",
      "education               5.9\n",
      "repairs                 2.2\n",
      "vacation/others         1.2\n",
      "domestic appliances     1.2\n",
      "Name: Purpose, dtype: float64\n"
     ]
    },
    {
     "data": {
      "image/png": "[encoded data removed]",
      "text/plain": [
       "<Figure size 432x288 with 1 Axes>"
      ]
     },
     "metadata": {
      "needs_background": "light"
     },
     "output_type": "display_data"
    }
   ],
   "source": [
    "print(df_credit['Purpose'].value_counts())\n",
    "df_credit[\"Purpose\"].value_counts(normalize=True).plot.bar(title = 'Purpose')\n",
    "# Normalize can be set to True to print proportions instead of number\n",
    "print(df_credit['Purpose'].value_counts(normalize=True)*100)"
   ]
  },
  {
   "cell_type": "markdown",
   "metadata": {},
   "source": [
    "33.7% people have Car loan Purpose\n",
    "\n",
    "28% people have Radio/TV loan Purpose\n",
    "\n",
    "18.1% people have furniture/equipment loan Purpose\n",
    "\n",
    "9.7% people have Business loan Purpose\n",
    "\n",
    "5.9% people have Education loan Purpose\n",
    "\n",
    "2.2% people have Repairs loan Purpose\n",
    "\n",
    "1.2% people have vacation/others loan Purpose\n",
    "\n",
    "1.2% people have domestic appliances loan Purpose"
   ]
  },
  {
   "cell_type": "markdown",
   "metadata": {},
   "source": [
    "# Bivariate Analysis"
   ]
  },
  {
   "cell_type": "markdown",
   "metadata": {},
   "source": [
    "After looking at every variable individually in univariate analysis, we will now explore them again with respect to the target variable."
   ]
  },
  {
   "cell_type": "markdown",
   "metadata": {},
   "source": [
    "# Independent Variables vs Target Variable"
   ]
  },
  {
   "cell_type": "markdown",
   "metadata": {},
   "source": [
    "First of all we will find the relation between target variable and independent variables. Let us look at the stacked bar plot now"
   ]
  },
  {
   "cell_type": "markdown",
   "metadata": {},
   "source": [
    "# Relation between \"Risk\" and \"Age\""
   ]
  },
  {
   "cell_type": "code",
   "execution_count": 27,
   "metadata": {},
   "outputs": [
    {
     "data": {
      "image/png": "[encoded data removed]",
      "text/plain": [
       "<Figure size 864x576 with 2 Axes>"
      ]
     },
     "metadata": {
      "needs_background": "light"
     },
     "output_type": "display_data"
    }
   ],
   "source": [
    "df_good = df_credit[df_credit[\"Risk\"] == 'good']\n",
    "df_bad = df_credit[df_credit[\"Risk\"] == 'bad']\n",
    "\n",
    "fig, ax = plt.subplots(nrows=2, figsize=(12,8))\n",
    "plt.subplots_adjust(hspace = 0.4, top = 0.8)\n",
    "\n",
    "g1 = sns.distplot(df_good[\"Age\"], ax=ax[0], \n",
    "             color=\"g\")\n",
    "g1 = sns.distplot(df_bad[\"Age\"], ax=ax[0], \n",
    "             color='r')\n",
    "g1.set_title(\"Age Distribuition\", fontsize=15)\n",
    "g1.set_xlabel(\"Age\")\n",
    "#g1.set_xlabel(\"Frequency\")\n",
    "\n",
    "g2 = sns.countplot(x=\"Age\",data=df_credit, \n",
    "              palette=\"hls\", ax=ax[1], \n",
    "              hue = \"Risk\")\n",
    "g2.set_title(\"Age Counting by Risk\", fontsize=15)\n",
    "g2.set_xlabel(\"Age\")\n",
    "g2.set_xlabel(\"Count\")\n",
    "#plt.savefig('Age_Distribution_plot.png')\n",
    "plt.show()"
   ]
  },
  {
   "cell_type": "code",
   "execution_count": 28,
   "metadata": {},
   "outputs": [
    {
     "data": {
      "text/html": [
       "        <script type=\"text/javascript\">\n",
       "        window.PlotlyConfig = {MathJaxConfig: 'local'};\n",
       "        if (window.MathJax) {MathJax.Hub.Config({SVG: {font: \"STIX-Web\"}});}\n",
       "        if (typeof require !== 'undefined') {\n",
       "        require.undef(\"plotly\");\n",
       "        requirejs.config({\n",
       "            paths: {\n",
       "                'plotly': ['https://cdn.plot.ly/plotly-latest.min']\n",
       "            }\n",
       "        });\n",
       "        require(['plotly'], function(Plotly) {\n",
       "            window._Plotly = Plotly;\n",
       "        });\n",
       "        }\n",
       "        </script>\n",
       "        "
      ]
     },
     "metadata": {},
     "output_type": "display_data"
    },
    {
     "name": "stderr",
     "output_type": "stream",
     "text": [
      "C:\\Users\\nehag\\anaconda3\\lib\\site-packages\\plotly\\tools.py:465: DeprecationWarning:\n",
      "\n",
      "plotly.tools.make_subplots is deprecated, please use plotly.subplots.make_subplots instead\n",
      "\n"
     ]
    },
    {
     "data": {
      "application/vnd.plotly.v1+json": {
       "config": {
        "linkText": "Export to plot.ly",
        "plotlyServerURL": "https://plot.ly",
        "showLink": false
       },
       "data": [
        {
         "histnorm": "probability",
         "name": "Good Credit",
         "type": "histogram",
         "x": [
          67,
          49,
          45,
          35,
          53,
          35,
          61,
          22,
          28,
          53,
          25,
          31,
          48,
          44,
          48,
          44,
          26,
          36,
          39,
          42,
          34,
          36,
          27,
          30,
          57,
          33,
          31,
          37,
          24,
          30,
          26,
          44,
          24,
          35,
          39,
          23,
          39,
          28,
          29,
          30,
          25,
          31,
          26,
          31,
          23,
          27,
          50,
          26,
          48,
          29,
          22,
          25,
          30,
          46,
          51,
          41,
          66,
          51,
          39,
          22,
          47,
          24,
          58,
          52,
          29,
          27,
          30,
          56,
          54,
          20,
          54,
          61,
          34,
          36,
          36,
          41,
          24,
          24,
          35,
          26,
          32,
          30,
          35,
          31,
          23,
          28,
          35,
          47,
          27,
          36,
          41,
          24,
          63,
          30,
          40,
          34,
          24,
          27,
          47,
          21,
          38,
          27,
          35,
          44,
          27,
          30,
          27,
          23,
          30,
          39,
          51,
          28,
          46,
          42,
          38,
          24,
          29,
          36,
          48,
          45,
          38,
          34,
          36,
          30,
          36,
          70,
          36,
          32,
          20,
          25,
          26,
          33,
          42,
          52,
          31,
          65,
          50,
          31,
          68,
          33,
          29,
          28,
          36,
          52,
          27,
          26,
          38,
          38,
          43,
          26,
          21,
          55,
          33,
          45,
          51,
          39,
          31,
          23,
          24,
          64,
          26,
          23,
          30,
          32,
          30,
          27,
          22,
          51,
          35,
          25,
          42,
          35,
          39,
          51,
          27,
          35,
          25,
          52,
          35,
          26,
          39,
          46,
          35,
          24,
          27,
          35,
          23,
          57,
          27,
          55,
          36,
          57,
          32,
          36,
          38,
          25,
          32,
          37,
          36,
          32,
          26,
          49,
          29,
          23,
          50,
          49,
          63,
          37,
          35,
          26,
          31,
          49,
          26,
          44,
          56,
          46,
          20,
          45,
          43,
          32,
          54,
          49,
          33,
          24,
          22,
          40,
          25,
          26,
          29,
          38,
          48,
          32,
          27,
          34,
          28,
          36,
          39,
          49,
          34,
          31,
          28,
          75,
          23,
          28,
          31,
          24,
          26,
          25,
          33,
          37,
          43,
          23,
          23,
          34,
          23,
          38,
          46,
          49,
          28,
          61,
          37,
          36,
          21,
          36,
          27,
          22,
          40,
          36,
          33,
          23,
          63,
          34,
          36,
          52,
          39,
          25,
          26,
          26,
          25,
          21,
          40,
          27,
          27,
          30,
          19,
          39,
          31,
          31,
          32,
          55,
          46,
          43,
          39,
          28,
          27,
          43,
          43,
          27,
          26,
          20,
          35,
          40,
          35,
          23,
          31,
          20,
          30,
          47,
          34,
          21,
          29,
          46,
          20,
          74,
          36,
          33,
          25,
          23,
          37,
          65,
          39,
          30,
          29,
          41,
          35,
          55,
          30,
          29,
          34,
          35,
          29,
          36,
          27,
          32,
          37,
          36,
          34,
          38,
          34,
          63,
          32,
          26,
          35,
          36,
          24,
          25,
          39,
          44,
          23,
          26,
          57,
          30,
          44,
          52,
          62,
          35,
          26,
          26,
          27,
          38,
          39,
          40,
          32,
          28,
          42,
          49,
          36,
          28,
          45,
          32,
          26,
          20,
          54,
          37,
          40,
          43,
          36,
          44,
          23,
          26,
          30,
          31,
          42,
          41,
          32,
          41,
          26,
          25,
          75,
          37,
          45,
          60,
          61,
          37,
          32,
          35,
          23,
          45,
          27,
          67,
          49,
          29,
          37,
          23,
          34,
          41,
          38,
          26,
          22,
          27,
          24,
          27,
          33,
          27,
          49,
          26,
          52,
          36,
          21,
          58,
          42,
          36,
          32,
          45,
          23,
          22,
          74,
          33,
          45,
          29,
          22,
          48,
          27,
          37,
          49,
          27,
          22,
          35,
          41,
          36,
          64,
          28,
          23,
          47,
          28,
          21,
          34,
          38,
          33,
          32,
          32,
          50,
          35,
          22,
          37,
          28,
          41,
          23,
          50,
          35,
          50,
          27,
          34,
          27,
          47,
          27,
          31,
          42,
          24,
          26,
          33,
          64,
          26,
          56,
          37,
          33,
          47,
          31,
          34,
          27,
          30,
          35,
          31,
          25,
          25,
          29,
          44,
          28,
          50,
          29,
          38,
          24,
          40,
          47,
          41,
          32,
          35,
          25,
          37,
          32,
          46,
          25,
          63,
          40,
          32,
          31,
          31,
          66,
          41,
          47,
          36,
          33,
          44,
          28,
          37,
          29,
          35,
          45,
          32,
          23,
          41,
          22,
          30,
          28,
          23,
          26,
          33,
          49,
          23,
          25,
          74,
          31,
          59,
          24,
          27,
          40,
          31,
          28,
          63,
          26,
          36,
          52,
          66,
          37,
          25,
          38,
          67,
          60,
          31,
          60,
          35,
          40,
          38,
          41,
          27,
          51,
          32,
          22,
          22,
          54,
          35,
          54,
          48,
          24,
          35,
          24,
          26,
          65,
          55,
          26,
          28,
          54,
          62,
          24,
          43,
          27,
          24,
          47,
          35,
          30,
          38,
          44,
          42,
          21,
          23,
          63,
          46,
          28,
          50,
          47,
          35,
          28,
          59,
          43,
          35,
          45,
          33,
          40,
          28,
          26,
          27,
          32,
          20,
          27,
          42,
          37,
          24,
          40,
          46,
          26,
          24,
          29,
          40,
          36,
          28,
          36,
          38,
          48,
          36,
          65,
          34,
          34,
          40,
          43,
          46,
          38,
          34,
          29,
          31,
          28,
          35,
          33,
          44,
          42,
          40,
          36,
          20,
          24,
          27,
          46,
          33,
          34,
          25,
          28,
          32,
          28,
          37,
          30,
          21,
          58,
          43,
          24,
          30,
          42,
          23,
          30,
          46,
          45,
          31,
          31,
          42,
          46,
          30,
          38,
          40,
          29,
          57,
          49,
          37,
          30,
          30,
          47,
          29,
          22,
          26,
          54,
          29,
          40,
          22,
          43,
          33,
          57,
          64,
          42,
          28,
          30,
          25,
          33,
          64,
          29,
          48,
          37,
          34,
          23,
          30,
          50,
          31,
          40,
          38,
          27
         ],
         "xaxis": "x",
         "yaxis": "y"
        },
        {
         "histnorm": "probability",
         "name": "Bad Credit",
         "type": "histogram",
         "x": [
          22,
          53,
          28,
          25,
          24,
          60,
          32,
          44,
          63,
          25,
          37,
          58,
          57,
          52,
          23,
          61,
          25,
          37,
          40,
          34,
          44,
          47,
          28,
          33,
          58,
          39,
          39,
          25,
          30,
          23,
          25,
          27,
          30,
          29,
          29,
          66,
          22,
          20,
          33,
          31,
          33,
          34,
          26,
          53,
          28,
          30,
          40,
          36,
          74,
          20,
          54,
          34,
          36,
          21,
          34,
          27,
          40,
          21,
          50,
          66,
          27,
          53,
          22,
          26,
          30,
          23,
          61,
          29,
          24,
          22,
          24,
          29,
          37,
          45,
          28,
          34,
          32,
          48,
          28,
          26,
          42,
          37,
          44,
          33,
          24,
          25,
          31,
          28,
          32,
          30,
          24,
          24,
          23,
          44,
          24,
          32,
          29,
          28,
          23,
          26,
          23,
          25,
          42,
          60,
          37,
          57,
          38,
          46,
          27,
          22,
          28,
          42,
          35,
          33,
          33,
          25,
          55,
          29,
          25,
          26,
          41,
          30,
          34,
          61,
          31,
          35,
          29,
          22,
          23,
          28,
          33,
          26,
          47,
          42,
          20,
          29,
          27,
          38,
          24,
          27,
          34,
          26,
          23,
          24,
          53,
          31,
          28,
          33,
          42,
          23,
          31,
          34,
          43,
          24,
          34,
          22,
          28,
          29,
          27,
          31,
          24,
          37,
          36,
          31,
          23,
          27,
          30,
          33,
          20,
          47,
          60,
          20,
          40,
          32,
          23,
          36,
          31,
          30,
          34,
          28,
          50,
          22,
          48,
          22,
          21,
          32,
          38,
          65,
          29,
          44,
          19,
          25,
          26,
          27,
          40,
          27,
          26,
          38,
          40,
          37,
          45,
          42,
          41,
          23,
          43,
          41,
          24,
          29,
          46,
          24,
          25,
          35,
          27,
          34,
          24,
          24,
          21,
          25,
          59,
          21,
          23,
          26,
          37,
          23,
          55,
          32,
          39,
          35,
          24,
          30,
          31,
          25,
          25,
          25,
          23,
          50,
          27,
          39,
          51,
          24,
          26,
          24,
          54,
          46,
          26,
          41,
          33,
          36,
          47,
          23,
          29,
          25,
          48,
          29,
          23,
          68,
          57,
          33,
          32,
          29,
          28,
          35,
          25,
          27,
          43,
          53,
          23,
          42,
          43,
          25,
          31,
          32,
          68,
          33,
          39,
          22,
          55,
          46,
          39,
          22,
          30,
          28,
          42,
          30,
          43,
          31,
          24,
          28,
          26,
          45,
          35,
          23,
          29,
          36,
          47,
          25,
          49,
          33,
          26,
          23
         ],
         "xaxis": "x2",
         "yaxis": "y2"
        },
        {
         "histnorm": "probability",
         "name": "Overall Age",
         "type": "histogram",
         "x": [
          67,
          22,
          49,
          45,
          53,
          35,
          53,
          35,
          61,
          28,
          25,
          24,
          22,
          60,
          28,
          32,
          53,
          25,
          44,
          31,
          48,
          44,
          48,
          44,
          26,
          36,
          39,
          42,
          34,
          63,
          36,
          27,
          30,
          57,
          33,
          25,
          31,
          37,
          37,
          24,
          30,
          26,
          44,
          24,
          58,
          35,
          39,
          23,
          39,
          28,
          29,
          30,
          25,
          31,
          57,
          26,
          52,
          31,
          23,
          23,
          27,
          50,
          61,
          25,
          26,
          48,
          29,
          22,
          37,
          25,
          30,
          46,
          51,
          41,
          40,
          66,
          34,
          51,
          39,
          22,
          44,
          47,
          24,
          58,
          52,
          29,
          27,
          47,
          30,
          28,
          56,
          54,
          33,
          20,
          54,
          58,
          61,
          34,
          36,
          36,
          41,
          24,
          24,
          35,
          26,
          39,
          39,
          32,
          30,
          35,
          31,
          23,
          28,
          25,
          35,
          47,
          30,
          27,
          23,
          36,
          25,
          41,
          24,
          63,
          27,
          30,
          40,
          30,
          34,
          29,
          24,
          29,
          27,
          47,
          21,
          38,
          27,
          66,
          35,
          44,
          27,
          30,
          27,
          22,
          23,
          30,
          39,
          51,
          28,
          46,
          42,
          38,
          24,
          29,
          36,
          20,
          48,
          45,
          38,
          34,
          36,
          30,
          36,
          70,
          36,
          32,
          33,
          20,
          25,
          31,
          33,
          26,
          34,
          33,
          26,
          53,
          42,
          52,
          31,
          65,
          28,
          30,
          40,
          50,
          36,
          31,
          74,
          68,
          20,
          33,
          54,
          34,
          36,
          29,
          21,
          34,
          28,
          27,
          36,
          40,
          52,
          27,
          26,
          21,
          38,
          38,
          43,
          26,
          21,
          55,
          33,
          45,
          50,
          66,
          51,
          39,
          31,
          23,
          24,
          64,
          26,
          23,
          30,
          32,
          30,
          27,
          27,
          53,
          22,
          22,
          26,
          51,
          35,
          25,
          42,
          30,
          23,
          61,
          35,
          39,
          29,
          51,
          24,
          27,
          35,
          25,
          52,
          35,
          26,
          22,
          39,
          46,
          24,
          35,
          24,
          27,
          35,
          29,
          23,
          57,
          27,
          55,
          36,
          57,
          32,
          37,
          36,
          38,
          45,
          25,
          32,
          37,
          36,
          28,
          34,
          32,
          26,
          49,
          32,
          29,
          23,
          50,
          49,
          63,
          37,
          35,
          26,
          31,
          49,
          48,
          26,
          28,
          44,
          56,
          46,
          26,
          20,
          45,
          43,
          32,
          54,
          42,
          37,
          49,
          44,
          33,
          24,
          33,
          24,
          22,
          40,
          25,
          26,
          25,
          29,
          31,
          38,
          48,
          32,
          27,
          28,
          32,
          34,
          28,
          36,
          39,
          49,
          34,
          31,
          28,
          75,
          30,
          24,
          24,
          23,
          44,
          23,
          24,
          28,
          31,
          24,
          26,
          25,
          33,
          37,
          43,
          23,
          23,
          34,
          32,
          23,
          29,
          38,
          28,
          46,
          23,
          49,
          26,
          28,
          23,
          61,
          37,
          36,
          21,
          25,
          36,
          27,
          22,
          42,
          40,
          36,
          33,
          23,
          63,
          60,
          37,
          34,
          36,
          57,
          52,
          39,
          38,
          25,
          26,
          26,
          25,
          21,
          40,
          27,
          27,
          30,
          19,
          39,
          31,
          31,
          32,
          55,
          46,
          46,
          43,
          39,
          28,
          27,
          27,
          43,
          22,
          43,
          27,
          26,
          28,
          20,
          35,
          42,
          40,
          35,
          35,
          33,
          23,
          31,
          33,
          20,
          30,
          47,
          34,
          25,
          21,
          29,
          46,
          20,
          55,
          74,
          29,
          36,
          33,
          25,
          25,
          23,
          37,
          65,
          26,
          39,
          30,
          29,
          41,
          30,
          41,
          34,
          35,
          55,
          61,
          30,
          29,
          34,
          35,
          31,
          29,
          36,
          35,
          27,
          32,
          37,
          36,
          34,
          38,
          34,
          63,
          29,
          32,
          26,
          35,
          22,
          23,
          28,
          36,
          33,
          26,
          24,
          25,
          39,
          44,
          23,
          26,
          57,
          30,
          44,
          47,
          52,
          62,
          35,
          26,
          26,
          42,
          27,
          38,
          39,
          20,
          29,
          40,
          32,
          28,
          27,
          42,
          49,
          38,
          24,
          27,
          36,
          34,
          28,
          45,
          26,
          32,
          26,
          20,
          54,
          37,
          40,
          23,
          43,
          36,
          44,
          24,
          53,
          23,
          26,
          30,
          31,
          42,
          31,
          41,
          32,
          28,
          41,
          26,
          25,
          33,
          75,
          37,
          42,
          45,
          23,
          60,
          31,
          34,
          61,
          43,
          37,
          32,
          24,
          35,
          23,
          45,
          34,
          27,
          67,
          22,
          28,
          29,
          27,
          31,
          49,
          24,
          29,
          37,
          37,
          23,
          36,
          34,
          41,
          31,
          23,
          38,
          26,
          22,
          27,
          24,
          27,
          33,
          27,
          27,
          30,
          49,
          26,
          33,
          52,
          20,
          36,
          21,
          47,
          60,
          58,
          42,
          36,
          20,
          40,
          32,
          23,
          36,
          31,
          32,
          45,
          30,
          34,
          28,
          23,
          22,
          74,
          50,
          33,
          45,
          22,
          48,
          29,
          22,
          22,
          48,
          27,
          37,
          21,
          49,
          27,
          32,
          38,
          22,
          65,
          35,
          41,
          29,
          36,
          64,
          28,
          44,
          23,
          19,
          25,
          47,
          28,
          21,
          34,
          26,
          27,
          38,
          40,
          33,
          32,
          27,
          32,
          26,
          38,
          40,
          50,
          37,
          45,
          42,
          35,
          22,
          41,
          37,
          28,
          41,
          23,
          23,
          50,
          35,
          50,
          27,
          34,
          27,
          43,
          47,
          27,
          31,
          42,
          24,
          41,
          26,
          33,
          24,
          64,
          26,
          56,
          37,
          33,
          47,
          31,
          34,
          27,
          30,
          35,
          31,
          25,
          25,
          29,
          44,
          28,
          50,
          29,
          38,
          24,
          40,
          29,
          46,
          47,
          41,
          32,
          35,
          24,
          25,
          25,
          37,
          32,
          35,
          46,
          25,
          27,
          63,
          40,
          32,
          31,
          31,
          34,
          24,
          24,
          66,
          21,
          41,
          47,
          25,
          59,
          36,
          33,
          21,
          44,
          28,
          37,
          29,
          23,
          35,
          45,
          26,
          32,
          23,
          41,
          22,
          30,
          28,
          23,
          37,
          26,
          33,
          49,
          23,
          23,
          25,
          55,
          32,
          74,
          39,
          31,
          35,
          59,
          24,
          24,
          30,
          27,
          40,
          31,
          31,
          28,
          63,
          26,
          25,
          36,
          52,
          66,
          25,
          37,
          25,
          38,
          67,
          25,
          60,
          31,
          23,
          60,
          35,
          40,
          38,
          50,
          27,
          39,
          41,
          27,
          51,
          32,
          22,
          51,
          22,
          54,
          35,
          54,
          48,
          24,
          35,
          24,
          24,
          26,
          65,
          55,
          26,
          26,
          28,
          24,
          54,
          46,
          54,
          62,
          24,
          43,
          26,
          27,
          24,
          41,
          47,
          35,
          30,
          33,
          36,
          47,
          38,
          44,
          23,
          29,
          42,
          25,
          48,
          21,
          23,
          63,
          46,
          29,
          28,
          23,
          50,
          47,
          35,
          68,
          28,
          59,
          57,
          33,
          43,
          35,
          32,
          45,
          33,
          40,
          28,
          29,
          26,
          27,
          28,
          35,
          32,
          25,
          20,
          27,
          42,
          37,
          24,
          40,
          46,
          26,
          24,
          29,
          40,
          36,
          28,
          27,
          36,
          38,
          48,
          36,
          65,
          43,
          53,
          34,
          23,
          34,
          40,
          43,
          46,
          38,
          34,
          29,
          31,
          28,
          35,
          33,
          42,
          43,
          44,
          42,
          40,
          36,
          20,
          24,
          27,
          46,
          33,
          34,
          25,
          25,
          28,
          31,
          32,
          32,
          68,
          33,
          39,
          28,
          37,
          22,
          30,
          55,
          46,
          21,
          39,
          58,
          43,
          24,
          22,
          30,
          42,
          23,
          30,
          28,
          30,
          42,
          46,
          45,
          31,
          31,
          42,
          46,
          30,
          30,
          38,
          43,
          31,
          40,
          24,
          28,
          26,
          29,
          57,
          49,
          37,
          45,
          30,
          30,
          47,
          29,
          35,
          22,
          26,
          23,
          54,
          29,
          40,
          22,
          43,
          29,
          36,
          33,
          57,
          64,
          42,
          47,
          25,
          49,
          33,
          28,
          26,
          30,
          25,
          33,
          64,
          29,
          48,
          37,
          34,
          23,
          30,
          50,
          31,
          40,
          38,
          23,
          27
         ],
         "xaxis": "x3",
         "yaxis": "y3"
        }
       ],
       "layout": {
        "annotations": [
         {
          "font": {
           "size": 16
          },
          "showarrow": false,
          "text": "Good",
          "x": 0.225,
          "xanchor": "center",
          "xref": "paper",
          "y": 1,
          "yanchor": "bottom",
          "yref": "paper"
         },
         {
          "font": {
           "size": 16
          },
          "showarrow": false,
          "text": "Bad",
          "x": 0.775,
          "xanchor": "center",
          "xref": "paper",
          "y": 1,
          "yanchor": "bottom",
          "yref": "paper"
         },
         {
          "font": {
           "size": 16
          },
          "showarrow": false,
          "text": "General Distribuition",
          "x": 0.5,
          "xanchor": "center",
          "xref": "paper",
          "y": 0.375,
          "yanchor": "bottom",
          "yref": "paper"
         }
        ],
        "bargap": 0.05,
        "showlegend": true,
        "template": {
         "data": {
          "bar": [
           {
            "error_x": {
             "color": "#2a3f5f"
            },
            "error_y": {
             "color": "#2a3f5f"
            },
            "marker": {
             "line": {
              "color": "#E5ECF6",
              "width": 0.5
             }
            },
            "type": "bar"
           }
          ],
          "barpolar": [
           {
            "marker": {
             "line": {
              "color": "#E5ECF6",
              "width": 0.5
             }
            },
            "type": "barpolar"
           }
          ],
          "carpet": [
           {
            "aaxis": {
             "endlinecolor": "#2a3f5f",
             "gridcolor": "white",
             "linecolor": "white",
             "minorgridcolor": "white",
             "startlinecolor": "#2a3f5f"
            },
            "baxis": {
             "endlinecolor": "#2a3f5f",
             "gridcolor": "white",
             "linecolor": "white",
             "minorgridcolor": "white",
             "startlinecolor": "#2a3f5f"
            },
            "type": "carpet"
           }
          ],
          "choropleth": [
           {
            "colorbar": {
             "outlinewidth": 0,
             "ticks": ""
            },
            "type": "choropleth"
           }
          ],
          "contour": [
           {
            "colorbar": {
             "outlinewidth": 0,
             "ticks": ""
            },
            "colorscale": [
             [
              0,
              "#0d0887"
             ],
             [
              0.1111111111111111,
              "#46039f"
             ],
             [
              0.2222222222222222,
              "#7201a8"
             ],
             [
              0.3333333333333333,
              "#9c179e"
             ],
             [
              0.4444444444444444,
              "#bd3786"
             ],
             [
              0.5555555555555556,
              "#d8576b"
             ],
             [
              0.6666666666666666,
              "#ed7953"
             ],
             [
              0.7777777777777778,
              "#fb9f3a"
             ],
             [
              0.8888888888888888,
              "#fdca26"
             ],
             [
              1,
              "#f0f921"
             ]
            ],
            "type": "contour"
           }
          ],
          "contourcarpet": [
           {
            "colorbar": {
             "outlinewidth": 0,
             "ticks": ""
            },
            "type": "contourcarpet"
           }
          ],
          "heatmap": [
           {
            "colorbar": {
             "outlinewidth": 0,
             "ticks": ""
            },
            "colorscale": [
             [
              0,
              "#0d0887"
             ],
             [
              0.1111111111111111,
              "#46039f"
             ],
             [
              0.2222222222222222,
              "#7201a8"
             ],
             [
              0.3333333333333333,
              "#9c179e"
             ],
             [
              0.4444444444444444,
              "#bd3786"
             ],
             [
              0.5555555555555556,
              "#d8576b"
             ],
             [
              0.6666666666666666,
              "#ed7953"
             ],
             [
              0.7777777777777778,
              "#fb9f3a"
             ],
             [
              0.8888888888888888,
              "#fdca26"
             ],
             [
              1,
              "#f0f921"
             ]
            ],
            "type": "heatmap"
           }
          ],
          "heatmapgl": [
           {
            "colorbar": {
             "outlinewidth": 0,
             "ticks": ""
            },
            "colorscale": [
             [
              0,
              "#0d0887"
             ],
             [
              0.1111111111111111,
              "#46039f"
             ],
             [
              0.2222222222222222,
              "#7201a8"
             ],
             [
              0.3333333333333333,
              "#9c179e"
             ],
             [
              0.4444444444444444,
              "#bd3786"
             ],
             [
              0.5555555555555556,
              "#d8576b"
             ],
             [
              0.6666666666666666,
              "#ed7953"
             ],
             [
              0.7777777777777778,
              "#fb9f3a"
             ],
             [
              0.8888888888888888,
              "#fdca26"
             ],
             [
              1,
              "#f0f921"
             ]
            ],
            "type": "heatmapgl"
           }
          ],
          "histogram": [
           {
            "marker": {
             "colorbar": {
              "outlinewidth": 0,
              "ticks": ""
             }
            },
            "type": "histogram"
           }
          ],
          "histogram2d": [
           {
            "colorbar": {
             "outlinewidth": 0,
             "ticks": ""
            },
            "colorscale": [
             [
              0,
              "#0d0887"
             ],
             [
              0.1111111111111111,
              "#46039f"
             ],
             [
              0.2222222222222222,
              "#7201a8"
             ],
             [
              0.3333333333333333,
              "#9c179e"
             ],
             [
              0.4444444444444444,
              "#bd3786"
             ],
             [
              0.5555555555555556,
              "#d8576b"
             ],
             [
              0.6666666666666666,
              "#ed7953"
             ],
             [
              0.7777777777777778,
              "#fb9f3a"
             ],
             [
              0.8888888888888888,
              "#fdca26"
             ],
             [
              1,
              "#f0f921"
             ]
            ],
            "type": "histogram2d"
           }
          ],
          "histogram2dcontour": [
           {
            "colorbar": {
             "outlinewidth": 0,
             "ticks": ""
            },
            "colorscale": [
             [
              0,
              "#0d0887"
             ],
             [
              0.1111111111111111,
              "#46039f"
             ],
             [
              0.2222222222222222,
              "#7201a8"
             ],
             [
              0.3333333333333333,
              "#9c179e"
             ],
             [
              0.4444444444444444,
              "#bd3786"
             ],
             [
              0.5555555555555556,
              "#d8576b"
             ],
             [
              0.6666666666666666,
              "#ed7953"
             ],
             [
              0.7777777777777778,
              "#fb9f3a"
             ],
             [
              0.8888888888888888,
              "#fdca26"
             ],
             [
              1,
              "#f0f921"
             ]
            ],
            "type": "histogram2dcontour"
           }
          ],
          "mesh3d": [
           {
            "colorbar": {
             "outlinewidth": 0,
             "ticks": ""
            },
            "type": "mesh3d"
           }
          ],
          "parcoords": [
           {
            "line": {
             "colorbar": {
              "outlinewidth": 0,
              "ticks": ""
             }
            },
            "type": "parcoords"
           }
          ],
          "pie": [
           {
            "automargin": true,
            "type": "pie"
           }
          ],
          "scatter": [
           {
            "marker": {
             "colorbar": {
              "outlinewidth": 0,
              "ticks": ""
             }
            },
            "type": "scatter"
           }
          ],
          "scatter3d": [
           {
            "line": {
             "colorbar": {
              "outlinewidth": 0,
              "ticks": ""
             }
            },
            "marker": {
             "colorbar": {
              "outlinewidth": 0,
              "ticks": ""
             }
            },
            "type": "scatter3d"
           }
          ],
          "scattercarpet": [
           {
            "marker": {
             "colorbar": {
              "outlinewidth": 0,
              "ticks": ""
             }
            },
            "type": "scattercarpet"
           }
          ],
          "scattergeo": [
           {
            "marker": {
             "colorbar": {
              "outlinewidth": 0,
              "ticks": ""
             }
            },
            "type": "scattergeo"
           }
          ],
          "scattergl": [
           {
            "marker": {
             "colorbar": {
              "outlinewidth": 0,
              "ticks": ""
             }
            },
            "type": "scattergl"
           }
          ],
          "scattermapbox": [
           {
            "marker": {
             "colorbar": {
              "outlinewidth": 0,
              "ticks": ""
             }
            },
            "type": "scattermapbox"
           }
          ],
          "scatterpolar": [
           {
            "marker": {
             "colorbar": {
              "outlinewidth": 0,
              "ticks": ""
             }
            },
            "type": "scatterpolar"
           }
          ],
          "scatterpolargl": [
           {
            "marker": {
             "colorbar": {
              "outlinewidth": 0,
              "ticks": ""
             }
            },
            "type": "scatterpolargl"
           }
          ],
          "scatterternary": [
           {
            "marker": {
             "colorbar": {
              "outlinewidth": 0,
              "ticks": ""
             }
            },
            "type": "scatterternary"
           }
          ],
          "surface": [
           {
            "colorbar": {
             "outlinewidth": 0,
             "ticks": ""
            },
            "colorscale": [
             [
              0,
              "#0d0887"
             ],
             [
              0.1111111111111111,
              "#46039f"
             ],
             [
              0.2222222222222222,
              "#7201a8"
             ],
             [
              0.3333333333333333,
              "#9c179e"
             ],
             [
              0.4444444444444444,
              "#bd3786"
             ],
             [
              0.5555555555555556,
              "#d8576b"
             ],
             [
              0.6666666666666666,
              "#ed7953"
             ],
             [
              0.7777777777777778,
              "#fb9f3a"
             ],
             [
              0.8888888888888888,
              "#fdca26"
             ],
             [
              1,
              "#f0f921"
             ]
            ],
            "type": "surface"
           }
          ],
          "table": [
           {
            "cells": {
             "fill": {
              "color": "#EBF0F8"
             },
             "line": {
              "color": "white"
             }
            },
            "header": {
             "fill": {
              "color": "#C8D4E3"
             },
             "line": {
              "color": "white"
             }
            },
            "type": "table"
           }
          ]
         },
         "layout": {
          "annotationdefaults": {
           "arrowcolor": "#2a3f5f",
           "arrowhead": 0,
           "arrowwidth": 1
          },
          "coloraxis": {
           "colorbar": {
            "outlinewidth": 0,
            "ticks": ""
           }
          },
          "colorscale": {
           "diverging": [
            [
             0,
             "#8e0152"
            ],
            [
             0.1,
             "#c51b7d"
            ],
            [
             0.2,
             "#de77ae"
            ],
            [
             0.3,
             "#f1b6da"
            ],
            [
             0.4,
             "#fde0ef"
            ],
            [
             0.5,
             "#f7f7f7"
            ],
            [
             0.6,
             "#e6f5d0"
            ],
            [
             0.7,
             "#b8e186"
            ],
            [
             0.8,
             "#7fbc41"
            ],
            [
             0.9,
             "#4d9221"
            ],
            [
             1,
             "#276419"
            ]
           ],
           "sequential": [
            [
             0,
             "#0d0887"
            ],
            [
             0.1111111111111111,
             "#46039f"
            ],
            [
             0.2222222222222222,
             "#7201a8"
            ],
            [
             0.3333333333333333,
             "#9c179e"
            ],
            [
             0.4444444444444444,
             "#bd3786"
            ],
            [
             0.5555555555555556,
             "#d8576b"
            ],
            [
             0.6666666666666666,
             "#ed7953"
            ],
            [
             0.7777777777777778,
             "#fb9f3a"
            ],
            [
             0.8888888888888888,
             "#fdca26"
            ],
            [
             1,
             "#f0f921"
            ]
           ],
           "sequentialminus": [
            [
             0,
             "#0d0887"
            ],
            [
             0.1111111111111111,
             "#46039f"
            ],
            [
             0.2222222222222222,
             "#7201a8"
            ],
            [
             0.3333333333333333,
             "#9c179e"
            ],
            [
             0.4444444444444444,
             "#bd3786"
            ],
            [
             0.5555555555555556,
             "#d8576b"
            ],
            [
             0.6666666666666666,
             "#ed7953"
            ],
            [
             0.7777777777777778,
             "#fb9f3a"
            ],
            [
             0.8888888888888888,
             "#fdca26"
            ],
            [
             1,
             "#f0f921"
            ]
           ]
          },
          "colorway": [
           "#636efa",
           "#EF553B",
           "#00cc96",
           "#ab63fa",
           "#FFA15A",
           "#19d3f3",
           "#FF6692",
           "#B6E880",
           "#FF97FF",
           "#FECB52"
          ],
          "font": {
           "color": "#2a3f5f"
          },
          "geo": {
           "bgcolor": "white",
           "lakecolor": "white",
           "landcolor": "#E5ECF6",
           "showlakes": true,
           "showland": true,
           "subunitcolor": "white"
          },
          "hoverlabel": {
           "align": "left"
          },
          "hovermode": "closest",
          "mapbox": {
           "style": "light"
          },
          "paper_bgcolor": "white",
          "plot_bgcolor": "#E5ECF6",
          "polar": {
           "angularaxis": {
            "gridcolor": "white",
            "linecolor": "white",
            "ticks": ""
           },
           "bgcolor": "#E5ECF6",
           "radialaxis": {
            "gridcolor": "white",
            "linecolor": "white",
            "ticks": ""
           }
          },
          "scene": {
           "xaxis": {
            "backgroundcolor": "#E5ECF6",
            "gridcolor": "white",
            "gridwidth": 2,
            "linecolor": "white",
            "showbackground": true,
            "ticks": "",
            "zerolinecolor": "white"
           },
           "yaxis": {
            "backgroundcolor": "#E5ECF6",
            "gridcolor": "white",
            "gridwidth": 2,
            "linecolor": "white",
            "showbackground": true,
            "ticks": "",
            "zerolinecolor": "white"
           },
           "zaxis": {
            "backgroundcolor": "#E5ECF6",
            "gridcolor": "white",
            "gridwidth": 2,
            "linecolor": "white",
            "showbackground": true,
            "ticks": "",
            "zerolinecolor": "white"
           }
          },
          "shapedefaults": {
           "line": {
            "color": "#2a3f5f"
           }
          },
          "ternary": {
           "aaxis": {
            "gridcolor": "white",
            "linecolor": "white",
            "ticks": ""
           },
           "baxis": {
            "gridcolor": "white",
            "linecolor": "white",
            "ticks": ""
           },
           "bgcolor": "#E5ECF6",
           "caxis": {
            "gridcolor": "white",
            "linecolor": "white",
            "ticks": ""
           }
          },
          "title": {
           "x": 0.05
          },
          "xaxis": {
           "automargin": true,
           "gridcolor": "white",
           "linecolor": "white",
           "ticks": "",
           "title": {
            "standoff": 15
           },
           "zerolinecolor": "white",
           "zerolinewidth": 2
          },
          "yaxis": {
           "automargin": true,
           "gridcolor": "white",
           "linecolor": "white",
           "ticks": "",
           "title": {
            "standoff": 15
           },
           "zerolinecolor": "white",
           "zerolinewidth": 2
          }
         }
        },
        "title": {
         "text": "Age Distribuition"
        },
        "xaxis": {
         "anchor": "y",
         "domain": [
          0,
          0.45
         ]
        },
        "xaxis2": {
         "anchor": "y2",
         "domain": [
          0.55,
          1
         ]
        },
        "xaxis3": {
         "anchor": "y3",
         "domain": [
          0,
          1
         ]
        },
        "yaxis": {
         "anchor": "x",
         "domain": [
          0.625,
          1
         ]
        },
        "yaxis2": {
         "anchor": "x2",
         "domain": [
          0.625,
          1
         ]
        },
        "yaxis3": {
         "anchor": "x3",
         "domain": [
          0,
          0.375
         ]
        }
       }
      },
      "text/html": [
       "<div>\n",
       "        \n",
       "        \n",
       "            <div id=\"0fad3d47-f486-4ff6-89bc-82ef2d4228d8\" class=\"plotly-graph-div\" style=\"height:525px; width:100%;\"></div>\n",
       "            <script type=\"text/javascript\">\n",
       "                require([\"plotly\"], function(Plotly) {\n",
       "                    window.PLOTLYENV=window.PLOTLYENV || {};\n",
       "                    \n",
       "                if (document.getElementById(\"0fad3d47-f486-4ff6-89bc-82ef2d4228d8\")) {\n",
       "                    Plotly.newPlot(\n",
       "                        '0fad3d47-f486-4ff6-89bc-82ef2d4228d8',\n",
       "                        [{\"histnorm\": \"probability\", \"name\": \"Good Credit\", \"type\": \"histogram\", \"x\": [67, 49, 45, 35, 53, 35, 61, 22, 28, 53, 25, 31, 48, 44, 48, 44, 26, 36, 39, 42, 34, 36, 27, 30, 57, 33, 31, 37, 24, 30, 26, 44, 24, 35, 39, 23, 39, 28, 29, 30, 25, 31, 26, 31, 23, 27, 50, 26, 48, 29, 22, 25, 30, 46, 51, 41, 66, 51, 39, 22, 47, 24, 58, 52, 29, 27, 30, 56, 54, 20, 54, 61, 34, 36, 36, 41, 24, 24, 35, 26, 32, 30, 35, 31, 23, 28, 35, 47, 27, 36, 41, 24, 63, 30, 40, 34, 24, 27, 47, 21, 38, 27, 35, 44, 27, 30, 27, 23, 30, 39, 51, 28, 46, 42, 38, 24, 29, 36, 48, 45, 38, 34, 36, 30, 36, 70, 36, 32, 20, 25, 26, 33, 42, 52, 31, 65, 50, 31, 68, 33, 29, 28, 36, 52, 27, 26, 38, 38, 43, 26, 21, 55, 33, 45, 51, 39, 31, 23, 24, 64, 26, 23, 30, 32, 30, 27, 22, 51, 35, 25, 42, 35, 39, 51, 27, 35, 25, 52, 35, 26, 39, 46, 35, 24, 27, 35, 23, 57, 27, 55, 36, 57, 32, 36, 38, 25, 32, 37, 36, 32, 26, 49, 29, 23, 50, 49, 63, 37, 35, 26, 31, 49, 26, 44, 56, 46, 20, 45, 43, 32, 54, 49, 33, 24, 22, 40, 25, 26, 29, 38, 48, 32, 27, 34, 28, 36, 39, 49, 34, 31, 28, 75, 23, 28, 31, 24, 26, 25, 33, 37, 43, 23, 23, 34, 23, 38, 46, 49, 28, 61, 37, 36, 21, 36, 27, 22, 40, 36, 33, 23, 63, 34, 36, 52, 39, 25, 26, 26, 25, 21, 40, 27, 27, 30, 19, 39, 31, 31, 32, 55, 46, 43, 39, 28, 27, 43, 43, 27, 26, 20, 35, 40, 35, 23, 31, 20, 30, 47, 34, 21, 29, 46, 20, 74, 36, 33, 25, 23, 37, 65, 39, 30, 29, 41, 35, 55, 30, 29, 34, 35, 29, 36, 27, 32, 37, 36, 34, 38, 34, 63, 32, 26, 35, 36, 24, 25, 39, 44, 23, 26, 57, 30, 44, 52, 62, 35, 26, 26, 27, 38, 39, 40, 32, 28, 42, 49, 36, 28, 45, 32, 26, 20, 54, 37, 40, 43, 36, 44, 23, 26, 30, 31, 42, 41, 32, 41, 26, 25, 75, 37, 45, 60, 61, 37, 32, 35, 23, 45, 27, 67, 49, 29, 37, 23, 34, 41, 38, 26, 22, 27, 24, 27, 33, 27, 49, 26, 52, 36, 21, 58, 42, 36, 32, 45, 23, 22, 74, 33, 45, 29, 22, 48, 27, 37, 49, 27, 22, 35, 41, 36, 64, 28, 23, 47, 28, 21, 34, 38, 33, 32, 32, 50, 35, 22, 37, 28, 41, 23, 50, 35, 50, 27, 34, 27, 47, 27, 31, 42, 24, 26, 33, 64, 26, 56, 37, 33, 47, 31, 34, 27, 30, 35, 31, 25, 25, 29, 44, 28, 50, 29, 38, 24, 40, 47, 41, 32, 35, 25, 37, 32, 46, 25, 63, 40, 32, 31, 31, 66, 41, 47, 36, 33, 44, 28, 37, 29, 35, 45, 32, 23, 41, 22, 30, 28, 23, 26, 33, 49, 23, 25, 74, 31, 59, 24, 27, 40, 31, 28, 63, 26, 36, 52, 66, 37, 25, 38, 67, 60, 31, 60, 35, 40, 38, 41, 27, 51, 32, 22, 22, 54, 35, 54, 48, 24, 35, 24, 26, 65, 55, 26, 28, 54, 62, 24, 43, 27, 24, 47, 35, 30, 38, 44, 42, 21, 23, 63, 46, 28, 50, 47, 35, 28, 59, 43, 35, 45, 33, 40, 28, 26, 27, 32, 20, 27, 42, 37, 24, 40, 46, 26, 24, 29, 40, 36, 28, 36, 38, 48, 36, 65, 34, 34, 40, 43, 46, 38, 34, 29, 31, 28, 35, 33, 44, 42, 40, 36, 20, 24, 27, 46, 33, 34, 25, 28, 32, 28, 37, 30, 21, 58, 43, 24, 30, 42, 23, 30, 46, 45, 31, 31, 42, 46, 30, 38, 40, 29, 57, 49, 37, 30, 30, 47, 29, 22, 26, 54, 29, 40, 22, 43, 33, 57, 64, 42, 28, 30, 25, 33, 64, 29, 48, 37, 34, 23, 30, 50, 31, 40, 38, 27], \"xaxis\": \"x\", \"yaxis\": \"y\"}, {\"histnorm\": \"probability\", \"name\": \"Bad Credit\", \"type\": \"histogram\", \"x\": [22, 53, 28, 25, 24, 60, 32, 44, 63, 25, 37, 58, 57, 52, 23, 61, 25, 37, 40, 34, 44, 47, 28, 33, 58, 39, 39, 25, 30, 23, 25, 27, 30, 29, 29, 66, 22, 20, 33, 31, 33, 34, 26, 53, 28, 30, 40, 36, 74, 20, 54, 34, 36, 21, 34, 27, 40, 21, 50, 66, 27, 53, 22, 26, 30, 23, 61, 29, 24, 22, 24, 29, 37, 45, 28, 34, 32, 48, 28, 26, 42, 37, 44, 33, 24, 25, 31, 28, 32, 30, 24, 24, 23, 44, 24, 32, 29, 28, 23, 26, 23, 25, 42, 60, 37, 57, 38, 46, 27, 22, 28, 42, 35, 33, 33, 25, 55, 29, 25, 26, 41, 30, 34, 61, 31, 35, 29, 22, 23, 28, 33, 26, 47, 42, 20, 29, 27, 38, 24, 27, 34, 26, 23, 24, 53, 31, 28, 33, 42, 23, 31, 34, 43, 24, 34, 22, 28, 29, 27, 31, 24, 37, 36, 31, 23, 27, 30, 33, 20, 47, 60, 20, 40, 32, 23, 36, 31, 30, 34, 28, 50, 22, 48, 22, 21, 32, 38, 65, 29, 44, 19, 25, 26, 27, 40, 27, 26, 38, 40, 37, 45, 42, 41, 23, 43, 41, 24, 29, 46, 24, 25, 35, 27, 34, 24, 24, 21, 25, 59, 21, 23, 26, 37, 23, 55, 32, 39, 35, 24, 30, 31, 25, 25, 25, 23, 50, 27, 39, 51, 24, 26, 24, 54, 46, 26, 41, 33, 36, 47, 23, 29, 25, 48, 29, 23, 68, 57, 33, 32, 29, 28, 35, 25, 27, 43, 53, 23, 42, 43, 25, 31, 32, 68, 33, 39, 22, 55, 46, 39, 22, 30, 28, 42, 30, 43, 31, 24, 28, 26, 45, 35, 23, 29, 36, 47, 25, 49, 33, 26, 23], \"xaxis\": \"x2\", \"yaxis\": \"y2\"}, {\"histnorm\": \"probability\", \"name\": \"Overall Age\", \"type\": \"histogram\", \"x\": [67, 22, 49, 45, 53, 35, 53, 35, 61, 28, 25, 24, 22, 60, 28, 32, 53, 25, 44, 31, 48, 44, 48, 44, 26, 36, 39, 42, 34, 63, 36, 27, 30, 57, 33, 25, 31, 37, 37, 24, 30, 26, 44, 24, 58, 35, 39, 23, 39, 28, 29, 30, 25, 31, 57, 26, 52, 31, 23, 23, 27, 50, 61, 25, 26, 48, 29, 22, 37, 25, 30, 46, 51, 41, 40, 66, 34, 51, 39, 22, 44, 47, 24, 58, 52, 29, 27, 47, 30, 28, 56, 54, 33, 20, 54, 58, 61, 34, 36, 36, 41, 24, 24, 35, 26, 39, 39, 32, 30, 35, 31, 23, 28, 25, 35, 47, 30, 27, 23, 36, 25, 41, 24, 63, 27, 30, 40, 30, 34, 29, 24, 29, 27, 47, 21, 38, 27, 66, 35, 44, 27, 30, 27, 22, 23, 30, 39, 51, 28, 46, 42, 38, 24, 29, 36, 20, 48, 45, 38, 34, 36, 30, 36, 70, 36, 32, 33, 20, 25, 31, 33, 26, 34, 33, 26, 53, 42, 52, 31, 65, 28, 30, 40, 50, 36, 31, 74, 68, 20, 33, 54, 34, 36, 29, 21, 34, 28, 27, 36, 40, 52, 27, 26, 21, 38, 38, 43, 26, 21, 55, 33, 45, 50, 66, 51, 39, 31, 23, 24, 64, 26, 23, 30, 32, 30, 27, 27, 53, 22, 22, 26, 51, 35, 25, 42, 30, 23, 61, 35, 39, 29, 51, 24, 27, 35, 25, 52, 35, 26, 22, 39, 46, 24, 35, 24, 27, 35, 29, 23, 57, 27, 55, 36, 57, 32, 37, 36, 38, 45, 25, 32, 37, 36, 28, 34, 32, 26, 49, 32, 29, 23, 50, 49, 63, 37, 35, 26, 31, 49, 48, 26, 28, 44, 56, 46, 26, 20, 45, 43, 32, 54, 42, 37, 49, 44, 33, 24, 33, 24, 22, 40, 25, 26, 25, 29, 31, 38, 48, 32, 27, 28, 32, 34, 28, 36, 39, 49, 34, 31, 28, 75, 30, 24, 24, 23, 44, 23, 24, 28, 31, 24, 26, 25, 33, 37, 43, 23, 23, 34, 32, 23, 29, 38, 28, 46, 23, 49, 26, 28, 23, 61, 37, 36, 21, 25, 36, 27, 22, 42, 40, 36, 33, 23, 63, 60, 37, 34, 36, 57, 52, 39, 38, 25, 26, 26, 25, 21, 40, 27, 27, 30, 19, 39, 31, 31, 32, 55, 46, 46, 43, 39, 28, 27, 27, 43, 22, 43, 27, 26, 28, 20, 35, 42, 40, 35, 35, 33, 23, 31, 33, 20, 30, 47, 34, 25, 21, 29, 46, 20, 55, 74, 29, 36, 33, 25, 25, 23, 37, 65, 26, 39, 30, 29, 41, 30, 41, 34, 35, 55, 61, 30, 29, 34, 35, 31, 29, 36, 35, 27, 32, 37, 36, 34, 38, 34, 63, 29, 32, 26, 35, 22, 23, 28, 36, 33, 26, 24, 25, 39, 44, 23, 26, 57, 30, 44, 47, 52, 62, 35, 26, 26, 42, 27, 38, 39, 20, 29, 40, 32, 28, 27, 42, 49, 38, 24, 27, 36, 34, 28, 45, 26, 32, 26, 20, 54, 37, 40, 23, 43, 36, 44, 24, 53, 23, 26, 30, 31, 42, 31, 41, 32, 28, 41, 26, 25, 33, 75, 37, 42, 45, 23, 60, 31, 34, 61, 43, 37, 32, 24, 35, 23, 45, 34, 27, 67, 22, 28, 29, 27, 31, 49, 24, 29, 37, 37, 23, 36, 34, 41, 31, 23, 38, 26, 22, 27, 24, 27, 33, 27, 27, 30, 49, 26, 33, 52, 20, 36, 21, 47, 60, 58, 42, 36, 20, 40, 32, 23, 36, 31, 32, 45, 30, 34, 28, 23, 22, 74, 50, 33, 45, 22, 48, 29, 22, 22, 48, 27, 37, 21, 49, 27, 32, 38, 22, 65, 35, 41, 29, 36, 64, 28, 44, 23, 19, 25, 47, 28, 21, 34, 26, 27, 38, 40, 33, 32, 27, 32, 26, 38, 40, 50, 37, 45, 42, 35, 22, 41, 37, 28, 41, 23, 23, 50, 35, 50, 27, 34, 27, 43, 47, 27, 31, 42, 24, 41, 26, 33, 24, 64, 26, 56, 37, 33, 47, 31, 34, 27, 30, 35, 31, 25, 25, 29, 44, 28, 50, 29, 38, 24, 40, 29, 46, 47, 41, 32, 35, 24, 25, 25, 37, 32, 35, 46, 25, 27, 63, 40, 32, 31, 31, 34, 24, 24, 66, 21, 41, 47, 25, 59, 36, 33, 21, 44, 28, 37, 29, 23, 35, 45, 26, 32, 23, 41, 22, 30, 28, 23, 37, 26, 33, 49, 23, 23, 25, 55, 32, 74, 39, 31, 35, 59, 24, 24, 30, 27, 40, 31, 31, 28, 63, 26, 25, 36, 52, 66, 25, 37, 25, 38, 67, 25, 60, 31, 23, 60, 35, 40, 38, 50, 27, 39, 41, 27, 51, 32, 22, 51, 22, 54, 35, 54, 48, 24, 35, 24, 24, 26, 65, 55, 26, 26, 28, 24, 54, 46, 54, 62, 24, 43, 26, 27, 24, 41, 47, 35, 30, 33, 36, 47, 38, 44, 23, 29, 42, 25, 48, 21, 23, 63, 46, 29, 28, 23, 50, 47, 35, 68, 28, 59, 57, 33, 43, 35, 32, 45, 33, 40, 28, 29, 26, 27, 28, 35, 32, 25, 20, 27, 42, 37, 24, 40, 46, 26, 24, 29, 40, 36, 28, 27, 36, 38, 48, 36, 65, 43, 53, 34, 23, 34, 40, 43, 46, 38, 34, 29, 31, 28, 35, 33, 42, 43, 44, 42, 40, 36, 20, 24, 27, 46, 33, 34, 25, 25, 28, 31, 32, 32, 68, 33, 39, 28, 37, 22, 30, 55, 46, 21, 39, 58, 43, 24, 22, 30, 42, 23, 30, 28, 30, 42, 46, 45, 31, 31, 42, 46, 30, 30, 38, 43, 31, 40, 24, 28, 26, 29, 57, 49, 37, 45, 30, 30, 47, 29, 35, 22, 26, 23, 54, 29, 40, 22, 43, 29, 36, 33, 57, 64, 42, 47, 25, 49, 33, 28, 26, 30, 25, 33, 64, 29, 48, 37, 34, 23, 30, 50, 31, 40, 38, 23, 27], \"xaxis\": \"x3\", \"yaxis\": \"y3\"}],\n",
       "                        {\"annotations\": [{\"font\": {\"size\": 16}, \"showarrow\": false, \"text\": \"Good\", \"x\": 0.225, \"xanchor\": \"center\", \"xref\": \"paper\", \"y\": 1.0, \"yanchor\": \"bottom\", \"yref\": \"paper\"}, {\"font\": {\"size\": 16}, \"showarrow\": false, \"text\": \"Bad\", \"x\": 0.775, \"xanchor\": \"center\", \"xref\": \"paper\", \"y\": 1.0, \"yanchor\": \"bottom\", \"yref\": \"paper\"}, {\"font\": {\"size\": 16}, \"showarrow\": false, \"text\": \"General Distribuition\", \"x\": 0.5, \"xanchor\": \"center\", \"xref\": \"paper\", \"y\": 0.375, \"yanchor\": \"bottom\", \"yref\": \"paper\"}], \"bargap\": 0.05, \"showlegend\": true, \"template\": {\"data\": {\"bar\": [{\"error_x\": {\"color\": \"#2a3f5f\"}, \"error_y\": {\"color\": \"#2a3f5f\"}, \"marker\": {\"line\": {\"color\": \"#E5ECF6\", \"width\": 0.5}}, \"type\": \"bar\"}], \"barpolar\": [{\"marker\": {\"line\": {\"color\": \"#E5ECF6\", \"width\": 0.5}}, \"type\": \"barpolar\"}], \"carpet\": [{\"aaxis\": {\"endlinecolor\": \"#2a3f5f\", \"gridcolor\": \"white\", \"linecolor\": \"white\", \"minorgridcolor\": \"white\", \"startlinecolor\": \"#2a3f5f\"}, \"baxis\": {\"endlinecolor\": \"#2a3f5f\", \"gridcolor\": \"white\", \"linecolor\": \"white\", \"minorgridcolor\": \"white\", \"startlinecolor\": \"#2a3f5f\"}, \"type\": \"carpet\"}], \"choropleth\": [{\"colorbar\": {\"outlinewidth\": 0, \"ticks\": \"\"}, \"type\": \"choropleth\"}], \"contour\": [{\"colorbar\": {\"outlinewidth\": 0, \"ticks\": \"\"}, \"colorscale\": [[0.0, \"#0d0887\"], [0.1111111111111111, \"#46039f\"], [0.2222222222222222, \"#7201a8\"], [0.3333333333333333, \"#9c179e\"], [0.4444444444444444, \"#bd3786\"], [0.5555555555555556, \"#d8576b\"], [0.6666666666666666, \"#ed7953\"], [0.7777777777777778, \"#fb9f3a\"], [0.8888888888888888, \"#fdca26\"], [1.0, \"#f0f921\"]], \"type\": \"contour\"}], \"contourcarpet\": [{\"colorbar\": {\"outlinewidth\": 0, \"ticks\": \"\"}, \"type\": \"contourcarpet\"}], \"heatmap\": [{\"colorbar\": {\"outlinewidth\": 0, \"ticks\": \"\"}, \"colorscale\": [[0.0, \"#0d0887\"], [0.1111111111111111, \"#46039f\"], [0.2222222222222222, \"#7201a8\"], [0.3333333333333333, \"#9c179e\"], [0.4444444444444444, \"#bd3786\"], [0.5555555555555556, \"#d8576b\"], [0.6666666666666666, \"#ed7953\"], [0.7777777777777778, \"#fb9f3a\"], [0.8888888888888888, \"#fdca26\"], [1.0, \"#f0f921\"]], \"type\": \"heatmap\"}], \"heatmapgl\": [{\"colorbar\": {\"outlinewidth\": 0, \"ticks\": \"\"}, \"colorscale\": [[0.0, \"#0d0887\"], [0.1111111111111111, \"#46039f\"], [0.2222222222222222, \"#7201a8\"], [0.3333333333333333, \"#9c179e\"], [0.4444444444444444, \"#bd3786\"], [0.5555555555555556, \"#d8576b\"], [0.6666666666666666, \"#ed7953\"], [0.7777777777777778, \"#fb9f3a\"], [0.8888888888888888, \"#fdca26\"], [1.0, \"#f0f921\"]], \"type\": \"heatmapgl\"}], \"histogram\": [{\"marker\": {\"colorbar\": {\"outlinewidth\": 0, \"ticks\": \"\"}}, \"type\": \"histogram\"}], \"histogram2d\": [{\"colorbar\": {\"outlinewidth\": 0, \"ticks\": \"\"}, \"colorscale\": [[0.0, \"#0d0887\"], [0.1111111111111111, \"#46039f\"], [0.2222222222222222, \"#7201a8\"], [0.3333333333333333, \"#9c179e\"], [0.4444444444444444, \"#bd3786\"], [0.5555555555555556, \"#d8576b\"], [0.6666666666666666, \"#ed7953\"], [0.7777777777777778, \"#fb9f3a\"], [0.8888888888888888, \"#fdca26\"], [1.0, \"#f0f921\"]], \"type\": \"histogram2d\"}], \"histogram2dcontour\": [{\"colorbar\": {\"outlinewidth\": 0, \"ticks\": \"\"}, \"colorscale\": [[0.0, \"#0d0887\"], [0.1111111111111111, \"#46039f\"], [0.2222222222222222, \"#7201a8\"], [0.3333333333333333, \"#9c179e\"], [0.4444444444444444, \"#bd3786\"], [0.5555555555555556, \"#d8576b\"], [0.6666666666666666, \"#ed7953\"], [0.7777777777777778, \"#fb9f3a\"], [0.8888888888888888, \"#fdca26\"], [1.0, \"#f0f921\"]], \"type\": \"histogram2dcontour\"}], \"mesh3d\": [{\"colorbar\": {\"outlinewidth\": 0, \"ticks\": \"\"}, \"type\": \"mesh3d\"}], \"parcoords\": [{\"line\": {\"colorbar\": {\"outlinewidth\": 0, \"ticks\": \"\"}}, \"type\": \"parcoords\"}], \"pie\": [{\"automargin\": true, \"type\": \"pie\"}], \"scatter\": [{\"marker\": {\"colorbar\": {\"outlinewidth\": 0, \"ticks\": \"\"}}, \"type\": \"scatter\"}], \"scatter3d\": [{\"line\": {\"colorbar\": {\"outlinewidth\": 0, \"ticks\": \"\"}}, \"marker\": {\"colorbar\": {\"outlinewidth\": 0, \"ticks\": \"\"}}, \"type\": \"scatter3d\"}], \"scattercarpet\": [{\"marker\": {\"colorbar\": {\"outlinewidth\": 0, \"ticks\": \"\"}}, \"type\": \"scattercarpet\"}], \"scattergeo\": [{\"marker\": {\"colorbar\": {\"outlinewidth\": 0, \"ticks\": \"\"}}, \"type\": \"scattergeo\"}], \"scattergl\": [{\"marker\": {\"colorbar\": {\"outlinewidth\": 0, \"ticks\": \"\"}}, \"type\": \"scattergl\"}], \"scattermapbox\": [{\"marker\": {\"colorbar\": {\"outlinewidth\": 0, \"ticks\": \"\"}}, \"type\": \"scattermapbox\"}], \"scatterpolar\": [{\"marker\": {\"colorbar\": {\"outlinewidth\": 0, \"ticks\": \"\"}}, \"type\": \"scatterpolar\"}], \"scatterpolargl\": [{\"marker\": {\"colorbar\": {\"outlinewidth\": 0, \"ticks\": \"\"}}, \"type\": \"scatterpolargl\"}], \"scatterternary\": [{\"marker\": {\"colorbar\": {\"outlinewidth\": 0, \"ticks\": \"\"}}, \"type\": \"scatterternary\"}], \"surface\": [{\"colorbar\": {\"outlinewidth\": 0, \"ticks\": \"\"}, \"colorscale\": [[0.0, \"#0d0887\"], [0.1111111111111111, \"#46039f\"], [0.2222222222222222, \"#7201a8\"], [0.3333333333333333, \"#9c179e\"], [0.4444444444444444, \"#bd3786\"], [0.5555555555555556, \"#d8576b\"], [0.6666666666666666, \"#ed7953\"], [0.7777777777777778, \"#fb9f3a\"], [0.8888888888888888, \"#fdca26\"], [1.0, \"#f0f921\"]], \"type\": \"surface\"}], \"table\": [{\"cells\": {\"fill\": {\"color\": \"#EBF0F8\"}, \"line\": {\"color\": \"white\"}}, \"header\": {\"fill\": {\"color\": \"#C8D4E3\"}, \"line\": {\"color\": \"white\"}}, \"type\": \"table\"}]}, \"layout\": {\"annotationdefaults\": {\"arrowcolor\": \"#2a3f5f\", \"arrowhead\": 0, \"arrowwidth\": 1}, \"coloraxis\": {\"colorbar\": {\"outlinewidth\": 0, \"ticks\": \"\"}}, \"colorscale\": {\"diverging\": [[0, \"#8e0152\"], [0.1, \"#c51b7d\"], [0.2, \"#de77ae\"], [0.3, \"#f1b6da\"], [0.4, \"#fde0ef\"], [0.5, \"#f7f7f7\"], [0.6, \"#e6f5d0\"], [0.7, \"#b8e186\"], [0.8, \"#7fbc41\"], [0.9, \"#4d9221\"], [1, \"#276419\"]], \"sequential\": [[0.0, \"#0d0887\"], [0.1111111111111111, \"#46039f\"], [0.2222222222222222, \"#7201a8\"], [0.3333333333333333, \"#9c179e\"], [0.4444444444444444, \"#bd3786\"], [0.5555555555555556, \"#d8576b\"], [0.6666666666666666, \"#ed7953\"], [0.7777777777777778, \"#fb9f3a\"], [0.8888888888888888, \"#fdca26\"], [1.0, \"#f0f921\"]], \"sequentialminus\": [[0.0, \"#0d0887\"], [0.1111111111111111, \"#46039f\"], [0.2222222222222222, \"#7201a8\"], [0.3333333333333333, \"#9c179e\"], [0.4444444444444444, \"#bd3786\"], [0.5555555555555556, \"#d8576b\"], [0.6666666666666666, \"#ed7953\"], [0.7777777777777778, \"#fb9f3a\"], [0.8888888888888888, \"#fdca26\"], [1.0, \"#f0f921\"]]}, \"colorway\": [\"#636efa\", \"#EF553B\", \"#00cc96\", \"#ab63fa\", \"#FFA15A\", \"#19d3f3\", \"#FF6692\", \"#B6E880\", \"#FF97FF\", \"#FECB52\"], \"font\": {\"color\": \"#2a3f5f\"}, \"geo\": {\"bgcolor\": \"white\", \"lakecolor\": \"white\", \"landcolor\": \"#E5ECF6\", \"showlakes\": true, \"showland\": true, \"subunitcolor\": \"white\"}, \"hoverlabel\": {\"align\": \"left\"}, \"hovermode\": \"closest\", \"mapbox\": {\"style\": \"light\"}, \"paper_bgcolor\": \"white\", \"plot_bgcolor\": \"#E5ECF6\", \"polar\": {\"angularaxis\": {\"gridcolor\": \"white\", \"linecolor\": \"white\", \"ticks\": \"\"}, \"bgcolor\": \"#E5ECF6\", \"radialaxis\": {\"gridcolor\": \"white\", \"linecolor\": \"white\", \"ticks\": \"\"}}, \"scene\": {\"xaxis\": {\"backgroundcolor\": \"#E5ECF6\", \"gridcolor\": \"white\", \"gridwidth\": 2, \"linecolor\": \"white\", \"showbackground\": true, \"ticks\": \"\", \"zerolinecolor\": \"white\"}, \"yaxis\": {\"backgroundcolor\": \"#E5ECF6\", \"gridcolor\": \"white\", \"gridwidth\": 2, \"linecolor\": \"white\", \"showbackground\": true, \"ticks\": \"\", \"zerolinecolor\": \"white\"}, \"zaxis\": {\"backgroundcolor\": \"#E5ECF6\", \"gridcolor\": \"white\", \"gridwidth\": 2, \"linecolor\": \"white\", \"showbackground\": true, \"ticks\": \"\", \"zerolinecolor\": \"white\"}}, \"shapedefaults\": {\"line\": {\"color\": \"#2a3f5f\"}}, \"ternary\": {\"aaxis\": {\"gridcolor\": \"white\", \"linecolor\": \"white\", \"ticks\": \"\"}, \"baxis\": {\"gridcolor\": \"white\", \"linecolor\": \"white\", \"ticks\": \"\"}, \"bgcolor\": \"#E5ECF6\", \"caxis\": {\"gridcolor\": \"white\", \"linecolor\": \"white\", \"ticks\": \"\"}}, \"title\": {\"x\": 0.05}, \"xaxis\": {\"automargin\": true, \"gridcolor\": \"white\", \"linecolor\": \"white\", \"ticks\": \"\", \"title\": {\"standoff\": 15}, \"zerolinecolor\": \"white\", \"zerolinewidth\": 2}, \"yaxis\": {\"automargin\": true, \"gridcolor\": \"white\", \"linecolor\": \"white\", \"ticks\": \"\", \"title\": {\"standoff\": 15}, \"zerolinecolor\": \"white\", \"zerolinewidth\": 2}}}, \"title\": {\"text\": \"Age Distribuition\"}, \"xaxis\": {\"anchor\": \"y\", \"domain\": [0.0, 0.45]}, \"xaxis2\": {\"anchor\": \"y2\", \"domain\": [0.55, 1.0]}, \"xaxis3\": {\"anchor\": \"y3\", \"domain\": [0.0, 1.0]}, \"yaxis\": {\"anchor\": \"x\", \"domain\": [0.625, 1.0]}, \"yaxis2\": {\"anchor\": \"x2\", \"domain\": [0.625, 1.0]}, \"yaxis3\": {\"anchor\": \"x3\", \"domain\": [0.0, 0.375]}},\n",
       "                        {\"responsive\": true}\n",
       "                    ).then(function(){\n",
       "                            \n",
       "var gd = document.getElementById('0fad3d47-f486-4ff6-89bc-82ef2d4228d8');\n",
       "var x = new MutationObserver(function (mutations, observer) {{\n",
       "        var display = window.getComputedStyle(gd).display;\n",
       "        if (!display || display === 'none') {{\n",
       "            console.log([gd, 'removed!']);\n",
       "            Plotly.purge(gd);\n",
       "            observer.disconnect();\n",
       "        }}\n",
       "}});\n",
       "\n",
       "// Listen for the removal of the full notebook cells\n",
       "var notebookContainer = gd.closest('#notebook-container');\n",
       "if (notebookContainer) {{\n",
       "    x.observe(notebookContainer, {childList: true});\n",
       "}}\n",
       "\n",
       "// Listen for the clearing of the current output cell\n",
       "var outputEl = gd.closest('.output');\n",
       "if (outputEl) {{\n",
       "    x.observe(outputEl, {childList: true});\n",
       "}}\n",
       "\n",
       "                        })\n",
       "                };\n",
       "                });\n",
       "            </script>\n",
       "        </div>"
      ]
     },
     "metadata": {},
     "output_type": "display_data"
    }
   ],
   "source": [
    "# it's a library that we work with plotly\n",
    "import plotly.offline as py \n",
    "py.init_notebook_mode(connected=True) # this code, allow us to work with offline plotly version\n",
    "import plotly.graph_objs as go # it's like \"plt\" of matplot\n",
    "import plotly.tools as tls # It's useful to we get some tools of plotly\n",
    "import warnings # This library will be used to ignore some warnings\n",
    "from collections import Counter # To do counter of some features\n",
    "\n",
    "\n",
    "df_good = df_credit.loc[df_credit[\"Risk\"] == 'good']['Age'].values.tolist()\n",
    "df_bad = df_credit.loc[df_credit[\"Risk\"] == 'bad']['Age'].values.tolist()\n",
    "df_age = df_credit['Age'].values.tolist()\n",
    "\n",
    "#First plot\n",
    "trace0 = go.Histogram(\n",
    "    x=df_good,\n",
    "    histnorm='probability',\n",
    "    name=\"Good Credit\"\n",
    ")\n",
    "#Second plot\n",
    "trace1 = go.Histogram(\n",
    "    x=df_bad,\n",
    "    histnorm='probability',\n",
    "    name=\"Bad Credit\"\n",
    ")\n",
    "#Third plot\n",
    "trace2 = go.Histogram(\n",
    "    x=df_age,\n",
    "    histnorm='probability',\n",
    "    name=\"Overall Age\"\n",
    ")\n",
    "\n",
    "#Creating the grid\n",
    "fig = tls.make_subplots(rows=2, cols=2, specs=[[{}, {}], [{'colspan': 2}, None]],\n",
    "                          subplot_titles=('Good','Bad', 'General Distribuition'))\n",
    "\n",
    "#setting the figs\n",
    "fig.append_trace(trace0, 1, 1)\n",
    "fig.append_trace(trace1, 1, 2)\n",
    "fig.append_trace(trace2, 2, 1)\n",
    "\n",
    "fig['layout'].update(showlegend=True, title='Age Distribuition', bargap=0.05)\n",
    "py.iplot(fig, filename='custom-sized-subplot-with-subplot-titles')"
   ]
  },
  {
   "cell_type": "code",
   "execution_count": 29,
   "metadata": {},
   "outputs": [
    {
     "name": "stdout",
     "output_type": "stream",
     "text": [
      "Risk            bad  good\n",
      "Age_cat                  \n",
      "Student          80   110\n",
      "Young           148   388\n",
      "Middle           53   150\n",
      "Senior           14    39\n",
      "Senior-citizen    5    13\n"
     ]
    },
    {
     "data": {
      "image/png": "[encoded data removed]",
      "text/plain": [
       "<Figure size 864x864 with 1 Axes>"
      ]
     },
     "metadata": {
      "needs_background": "light"
     },
     "output_type": "display_data"
    },
    {
     "name": "stdout",
     "output_type": "stream",
     "text": [
      "Risk                 bad      good\n",
      "Age_cat                           \n",
      "Student         0.421053  0.578947\n",
      "Young           0.276119  0.723881\n",
      "Middle          0.261084  0.738916\n",
      "Senior          0.264151  0.735849\n",
      "Senior-citizen  0.277778  0.722222\n"
     ]
    }
   ],
   "source": [
    "#Let's look the Credit Amount column\n",
    "interval = (0,25, 40, 55, 65, 80)\n",
    "\n",
    "cats = ['Student', 'Young', 'Middle', 'Senior','Senior-citizen']\n",
    "\n",
    "df_credit[\"Age_cat\"] = pd.cut(df_credit.Age, interval, labels=cats)\n",
    "\n",
    "print(pd.crosstab(df_credit[\"Age_cat\"],df_credit[\"Risk\"]))\n",
    "Income_bin = pd.crosstab(df_credit[\"Age_cat\"],df_credit[\"Risk\"])\n",
    "Income_bin.div(Income_bin.sum(1).astype(float),axis=0).plot(kind=\"bar\",stacked=True,figsize=(12,12))\n",
    "plt.xlabel(\"Age_cat\")\n",
    "plt.ylabel(\"Percentage\")\n",
    "plt.savefig('Age_vs_Risk.jpg')\n",
    "plt.show()\n",
    "print(Income_bin.div(Income_bin.sum(1).astype(float),axis=0))\n",
    "\n",
    "\n"
   ]
  },
  {
   "cell_type": "markdown",
   "metadata": {},
   "source": [
    "57% Student(19-25 Age) have Good Risk and 42% have Bad Risk\n",
    "\n",
    "72% Young(25-40 Age) have Good Risk and 28% have Bad Risk\n",
    "\n",
    "74% Middle Age(40-55 Age) have Good Risk and 26% have Bad Risk\n",
    "\n",
    "74% Senior(55-65 Age) have Good Risk and 26% have Bad Risk\n",
    "\n",
    "72% Senior-citizens(65-80 Age) have Good Risk and 28% have Bad Risk\n"
   ]
  },
  {
   "cell_type": "markdown",
   "metadata": {},
   "source": [
    "# Relation between \"Risk\" and \"Sex\""
   ]
  },
  {
   "cell_type": "code",
   "execution_count": 30,
   "metadata": {},
   "outputs": [
    {
     "name": "stdout",
     "output_type": "stream",
     "text": [
      "Risk    bad  good\n",
      "Sex              \n",
      "female  109   201\n",
      "male    191   499\n"
     ]
    },
    {
     "data": {
      "image/png": "[encoded data removed]",
      "text/plain": [
       "<Figure size 864x864 with 1 Axes>"
      ]
     },
     "metadata": {
      "needs_background": "light"
     },
     "output_type": "display_data"
    },
    {
     "name": "stdout",
     "output_type": "stream",
     "text": [
      "Risk         bad      good\n",
      "Sex                       \n",
      "female  0.351613  0.648387\n",
      "male    0.276812  0.723188\n"
     ]
    }
   ],
   "source": [
    "\n",
    "print(pd.crosstab(df_credit[\"Sex\"],df_credit[\"Risk\"]))\n",
    "Income_bin = pd.crosstab(df_credit[\"Sex\"],df_credit[\"Risk\"])\n",
    "Income_bin.div(Income_bin.sum(1).astype(float),axis=0).plot(kind=\"bar\",stacked=True,figsize=(12,12))\n",
    "plt.xlabel(\"Sex\")\n",
    "plt.ylabel(\"Percentage\")\n",
    "#plt.savefig('Sex_vs_Risk.jpg')\n",
    "plt.show()\n",
    "print(Income_bin.div(Income_bin.sum(1).astype(float),axis=0))\n",
    "\n",
    "\n"
   ]
  },
  {
   "cell_type": "markdown",
   "metadata": {},
   "source": [
    "65% Female have Good Risk and 35% have Bad Risk\n",
    "\n",
    "72% male have Good Risk and 28% have Bad Risk"
   ]
  },
  {
   "cell_type": "markdown",
   "metadata": {},
   "source": [
    "# Relation between \"Risk\" and \"Job\""
   ]
  },
  {
   "cell_type": "code",
   "execution_count": 31,
   "metadata": {},
   "outputs": [
    {
     "name": "stdout",
     "output_type": "stream",
     "text": [
      "Risk  bad  good\n",
      "Job            \n",
      "0       7    15\n",
      "1      56   144\n",
      "2     186   444\n",
      "3      51    97\n"
     ]
    },
    {
     "data": {
      "image/png": "[encoded data removed]",
      "text/plain": [
       "<Figure size 864x864 with 1 Axes>"
      ]
     },
     "metadata": {
      "needs_background": "light"
     },
     "output_type": "display_data"
    },
    {
     "name": "stdout",
     "output_type": "stream",
     "text": [
      "Risk       bad      good\n",
      "Job                     \n",
      "0     0.318182  0.681818\n",
      "1     0.280000  0.720000\n",
      "2     0.295238  0.704762\n",
      "3     0.344595  0.655405\n"
     ]
    }
   ],
   "source": [
    "\n",
    "print(pd.crosstab(df_credit[\"Job\"],df_credit[\"Risk\"]))\n",
    "Income_bin = pd.crosstab(df_credit[\"Job\"],df_credit[\"Risk\"])\n",
    "Income_bin.div(Income_bin.sum(1).astype(float),axis=0).plot(kind=\"bar\",stacked=True,figsize=(12,12))\n",
    "plt.xlabel(\"Job\")\n",
    "plt.ylabel(\"Percentage\")\n",
    "#plt.savefig('Job_vs_Risk.jpg')\n",
    "plt.show()\n",
    "print(Income_bin.div(Income_bin.sum(1).astype(float),axis=0))\n",
    "\n",
    "\n"
   ]
  },
  {
   "cell_type": "markdown",
   "metadata": {},
   "source": [
    "68% Job level '0' have Good Risk and 32% bad Risk\n",
    "\n",
    "72% Job level '1' have Good Risk and 28% bad Risk\n",
    "\n",
    "70% Job level '2' have Good Risk and 30% bad Risk\n",
    "\n",
    "66% Job level '3' have Good Risk and 34% bad Risk"
   ]
  },
  {
   "cell_type": "markdown",
   "metadata": {},
   "source": [
    "# Relation between \"Risk\" and \"Housing\""
   ]
  },
  {
   "cell_type": "code",
   "execution_count": 32,
   "metadata": {},
   "outputs": [
    {
     "name": "stdout",
     "output_type": "stream",
     "text": [
      "Risk     bad  good\n",
      "Housing           \n",
      "free      44    64\n",
      "own      186   527\n",
      "rent      70   109\n"
     ]
    },
    {
     "data": {
      "image/png": "[encoded data removed]",
      "text/plain": [
       "<Figure size 864x864 with 1 Axes>"
      ]
     },
     "metadata": {
      "needs_background": "light"
     },
     "output_type": "display_data"
    },
    {
     "name": "stdout",
     "output_type": "stream",
     "text": [
      "Risk          bad      good\n",
      "Housing                    \n",
      "free     0.407407  0.592593\n",
      "own      0.260870  0.739130\n",
      "rent     0.391061  0.608939\n"
     ]
    }
   ],
   "source": [
    "\n",
    "print(pd.crosstab(df_credit[\"Housing\"],df_credit[\"Risk\"]))\n",
    "Income_bin = pd.crosstab(df_credit[\"Housing\"],df_credit[\"Risk\"])\n",
    "Income_bin.div(Income_bin.sum(1).astype(float),axis=0).plot(kind=\"bar\",stacked=True,figsize=(12,12))\n",
    "plt.xlabel(\"Housing\")\n",
    "plt.ylabel(\"Percentage\")\n",
    "#plt.savefig('Housing_vs_Risk.jpg')\n",
    "plt.show()\n",
    "print(Income_bin.div(Income_bin.sum(1).astype(float),axis=0))\n",
    "\n",
    "\n"
   ]
  },
  {
   "cell_type": "markdown",
   "metadata": {},
   "source": [
    "59% Staying for Free have Good Risk and 40% have bad Risk\n",
    "\n",
    "74% Staying at own House have Good Risk and 26% have bad Risk\n",
    "\n",
    "61% Staying for Rent have Good Risk and 39% have bad Risk"
   ]
  },
  {
   "cell_type": "markdown",
   "metadata": {},
   "source": [
    "# Relation between \"Risk\" and \"Saving Accounts\""
   ]
  },
  {
   "cell_type": "code",
   "execution_count": 33,
   "metadata": {},
   "outputs": [
    {
     "name": "stdout",
     "output_type": "stream",
     "text": [
      "Risk             bad  good\n",
      "Saving accounts           \n",
      "little           241   500\n",
      "moderate          37    90\n",
      "quite rich        15    60\n",
      "rich               7    50\n"
     ]
    },
    {
     "data": {
      "image/png": "[encoded data removed]",
      "text/plain": [
       "<Figure size 864x864 with 1 Axes>"
      ]
     },
     "metadata": {
      "needs_background": "light"
     },
     "output_type": "display_data"
    },
    {
     "name": "stdout",
     "output_type": "stream",
     "text": [
      "Risk                  bad      good\n",
      "Saving accounts                    \n",
      "little           0.325236  0.674764\n",
      "moderate         0.291339  0.708661\n",
      "quite rich       0.200000  0.800000\n",
      "rich             0.122807  0.877193\n"
     ]
    }
   ],
   "source": [
    "\n",
    "print(pd.crosstab(df_credit[\"Saving accounts\"],df_credit[\"Risk\"]))\n",
    "Income_bin = pd.crosstab(df_credit[\"Saving accounts\"],df_credit[\"Risk\"])\n",
    "Income_bin.div(Income_bin.sum(1).astype(float),axis=0).plot(kind=\"bar\",stacked=True,figsize=(12,12))\n",
    "plt.xlabel(\"Saving accounts\")\n",
    "plt.ylabel(\"Percentage\")\n",
    "#plt.savefig('Saving accounts_vs_Risk.jpg')\n",
    "plt.show()\n",
    "print(Income_bin.div(Income_bin.sum(1).astype(float),axis=0))\n",
    "\n",
    "\n"
   ]
  },
  {
   "cell_type": "markdown",
   "metadata": {},
   "source": [
    "67% Little Savings Accounts have Good Risk and 33% have Bad Risk\n",
    "\n",
    "71% Moderate Savings Accounts have Good Risk and 29% have Bad Risk\n",
    "\n",
    "80% Quite-rich Savings Accounts have Good Risk and 20% have Bad Risk\n",
    "\n",
    "88% Rich Savings Accounts have Good Risk and 12% have Bad Risk"
   ]
  },
  {
   "cell_type": "markdown",
   "metadata": {},
   "source": [
    "# Relation between \"Risk\" and \"Checking Account\""
   ]
  },
  {
   "cell_type": "code",
   "execution_count": 34,
   "metadata": {},
   "outputs": [
    {
     "name": "stdout",
     "output_type": "stream",
     "text": [
      "Risk              bad  good\n",
      "Checking account           \n",
      "little            154   298\n",
      "moderate          129   330\n",
      "rich               17    72\n"
     ]
    },
    {
     "data": {
      "image/png": "[encoded data removed]",
      "text/plain": [
       "<Figure size 864x864 with 1 Axes>"
      ]
     },
     "metadata": {
      "needs_background": "light"
     },
     "output_type": "display_data"
    },
    {
     "name": "stdout",
     "output_type": "stream",
     "text": [
      "Risk                   bad      good\n",
      "Checking account                    \n",
      "little            0.340708  0.659292\n",
      "moderate          0.281046  0.718954\n",
      "rich              0.191011  0.808989\n"
     ]
    }
   ],
   "source": [
    "\n",
    "print(pd.crosstab(df_credit[\"Checking account\"],df_credit[\"Risk\"]))\n",
    "Income_bin = pd.crosstab(df_credit[\"Checking account\"],df_credit[\"Risk\"])\n",
    "Income_bin.div(Income_bin.sum(1).astype(float),axis=0).plot(kind=\"bar\",stacked=True,figsize=(12,12))\n",
    "plt.xlabel(\"Checking account\")\n",
    "plt.ylabel(\"Percentage\")\n",
    "#plt.savefig('Checking account_vs_Risk.jpg')\n",
    "plt.show()\n",
    "print(Income_bin.div(Income_bin.sum(1).astype(float),axis=0))\n",
    "\n",
    "\n"
   ]
  },
  {
   "cell_type": "markdown",
   "metadata": {},
   "source": [
    "66% Little Checking Account have Good Risk and 34% Bad Risk\n",
    "\n",
    "72% Moderate Checking Account have Good Risk and 28% Bad Risk\n",
    "\n",
    "81% Rich Checking Account have Good Risk and 19% Bad Risk"
   ]
  },
  {
   "cell_type": "markdown",
   "metadata": {},
   "source": [
    "# Relation between \"Risk\" and \"Purpose\""
   ]
  },
  {
   "cell_type": "code",
   "execution_count": 35,
   "metadata": {},
   "outputs": [
    {
     "name": "stdout",
     "output_type": "stream",
     "text": [
      "Risk                 bad  good\n",
      "Purpose                       \n",
      "business              34    63\n",
      "car                  106   231\n",
      "domestic appliances    4     8\n",
      "education             23    36\n",
      "furniture/equipment   58   123\n",
      "radio/TV              62   218\n",
      "repairs                8    14\n",
      "vacation/others        5     7\n"
     ]
    },
    {
     "data": {
      "image/png": "[encoded data removed]",
      "text/plain": [
       "<Figure size 864x864 with 1 Axes>"
      ]
     },
     "metadata": {
      "needs_background": "light"
     },
     "output_type": "display_data"
    },
    {
     "name": "stdout",
     "output_type": "stream",
     "text": [
      "Risk                      bad      good\n",
      "Purpose                                \n",
      "business             0.350515  0.649485\n",
      "car                  0.314540  0.685460\n",
      "domestic appliances  0.333333  0.666667\n",
      "education            0.389831  0.610169\n",
      "furniture/equipment  0.320442  0.679558\n",
      "radio/TV             0.221429  0.778571\n",
      "repairs              0.363636  0.636364\n",
      "vacation/others      0.416667  0.583333\n"
     ]
    }
   ],
   "source": [
    "\n",
    "print(pd.crosstab(df_credit[\"Purpose\"],df_credit[\"Risk\"]))\n",
    "Income_bin = pd.crosstab(df_credit[\"Purpose\"],df_credit[\"Risk\"])\n",
    "Income_bin.div(Income_bin.sum(1).astype(float),axis=0).plot(kind=\"bar\",stacked=True,figsize=(12,12))\n",
    "plt.xlabel(\"Purpose\")\n",
    "plt.ylabel(\"Percentage\")\n",
    "#plt.savefig('Purpose_vs_Risk.jpg')\n",
    "plt.show()\n",
    "print(Income_bin.div(Income_bin.sum(1).astype(float),axis=0))\n",
    "\n",
    "\n"
   ]
  },
  {
   "cell_type": "markdown",
   "metadata": {},
   "source": [
    "65% Business Purpose loans have Good Risk and 35% Bad Risk\n",
    "\n",
    "69% Car Purpose loans have Good Risk and 31% Bad Risk\n",
    "\n",
    "67% domestic appliances Purpose loans have Good Risk and 33% Bad Risk\n",
    "\n",
    "61% Education Purpose loans have Good Risk and 38% Bad Risk\n",
    "\n",
    "68% furniture/equipment Purpose loans have Good Risk and 32% Bad Risk\n",
    "\n",
    "78% radio/TV Purpose loans have Good Risk and 22% Bad Risk\n",
    "\n",
    "64% repairs Purpose loans have Good Risk and 36% Bad Risk\n",
    "\n",
    "58% vacation/others Purpose loans have Good Risk and 42% Bad Risk"
   ]
  },
  {
   "cell_type": "markdown",
   "metadata": {},
   "source": [
    "# Relation between \"Risk\" and \"Credit Amount\""
   ]
  },
  {
   "cell_type": "code",
   "execution_count": 36,
   "metadata": {},
   "outputs": [
    {
     "data": {
      "image/png": "[encoded data removed]",
      "text/plain": [
       "<Figure size 864x576 with 2 Axes>"
      ]
     },
     "metadata": {
      "needs_background": "light"
     },
     "output_type": "display_data"
    }
   ],
   "source": [
    "df_good = df_credit[df_credit[\"Risk\"] == 'good']\n",
    "df_bad = df_credit[df_credit[\"Risk\"] == 'bad']\n",
    "\n",
    "fig, ax = plt.subplots(nrows=2, figsize=(12,8))\n",
    "plt.subplots_adjust(hspace = 0.4, top = 0.8)\n",
    "\n",
    "g1 = sns.distplot(df_good[\"Credit amount\"], ax=ax[0], \n",
    "             color=\"g\")\n",
    "g1 = sns.distplot(df_bad[\"Credit amount\"], ax=ax[0], \n",
    "             color='r')\n",
    "g1.set_title(\"Credit amount Distribuition\", fontsize=15)\n",
    "g1.set_xlabel(\"Credit amount\")\n",
    "#g1.set_xlabel(\"Frequency\")\n",
    "\n",
    "g2 = sns.countplot(x=\"Credit amount\",data=df_credit, \n",
    "              palette=\"hls\", ax=ax[1], \n",
    "              hue = \"Risk\")\n",
    "g2.set_title(\"Credit amount Counting by Risk\", fontsize=15)\n",
    "g2.set_xlabel(\"Credit amount\")\n",
    "g2.set_xlabel(\"Count\")\n",
    "#plt.savefig('Credit amount_Distribution_plot.png')\n",
    "plt.show()"
   ]
  },
  {
   "cell_type": "code",
   "execution_count": 37,
   "metadata": {},
   "outputs": [],
   "source": [
    "bins=[0,5000,10000,15000,20000]\n",
    "group=['Low','Average','High', 'Very high']\n",
    "df_credit['Credit_amount_bin']=pd.cut(df_credit['Credit amount'],bins,labels=group)"
   ]
  },
  {
   "cell_type": "code",
   "execution_count": 38,
   "metadata": {},
   "outputs": [
    {
     "name": "stdout",
     "output_type": "stream",
     "text": [
      "Risk               bad  good\n",
      "Credit_amount_bin           \n",
      "Low                222   590\n",
      "Average             54    94\n",
      "High                21    14\n",
      "Very high            3     2\n"
     ]
    },
    {
     "data": {
      "image/png": "[encoded data removed]",
      "text/plain": [
       "<Figure size 288x288 with 1 Axes>"
      ]
     },
     "metadata": {
      "needs_background": "light"
     },
     "output_type": "display_data"
    },
    {
     "name": "stdout",
     "output_type": "stream",
     "text": [
      "Risk                    bad      good\n",
      "Credit_amount_bin                    \n",
      "Low                0.273399  0.726601\n",
      "Average            0.364865  0.635135\n",
      "High               0.600000  0.400000\n",
      "Very high          0.600000  0.400000\n"
     ]
    }
   ],
   "source": [
    "print(pd.crosstab(df_credit[\"Credit_amount_bin\"],df_credit[\"Risk\"]))\n",
    "Income_bin = pd.crosstab(df_credit[\"Credit_amount_bin\"],df_credit[\"Risk\"])\n",
    "Income_bin.div(Income_bin.sum(1).astype(float),axis=0).plot(kind=\"bar\",stacked=True,figsize=(4,4))\n",
    "plt.xlabel(\"Credit_amount_bin\")\n",
    "plt.ylabel(\"Percentage\")\n",
    "plt.show()\n",
    "print(Income_bin.div(Income_bin.sum(1).astype(float),axis=0))"
   ]
  },
  {
   "cell_type": "markdown",
   "metadata": {},
   "source": [
    "73% Low(0- 5000) Credit Amount have Good Risk and 27% Bad Risk\n",
    "\n",
    "64% Average(5000- 10000) Credit Amount have Good Risk and 36% Bad Risk\n",
    "\n",
    "40% High(10000- 15000) Credit Amount have Good Risk and 60% Bad Risk\n",
    "\n",
    "40% Very High(15000- 20000) Credit Amount have Good Risk and 60% Bad Risk"
   ]
  },
  {
   "cell_type": "markdown",
   "metadata": {},
   "source": [
    "# Relation between \"Risk\" and \"Duration\""
   ]
  },
  {
   "cell_type": "code",
   "execution_count": 39,
   "metadata": {},
   "outputs": [],
   "source": [
    "bins=[0,12,24,36,48,60,72]\n",
    "group=['1-year','2-year','3-year', '4-year','5-year','6-year']\n",
    "df_credit['Duration_bin']=pd.cut(df_credit['Duration'],bins,labels=group)"
   ]
  },
  {
   "cell_type": "code",
   "execution_count": 40,
   "metadata": {},
   "outputs": [
    {
     "name": "stdout",
     "output_type": "stream",
     "text": [
      "Risk          bad  good\n",
      "Duration_bin           \n",
      "1-year         76   283\n",
      "2-year        122   289\n",
      "3-year         57    86\n",
      "4-year         37    34\n",
      "5-year          7     8\n",
      "6-year          1     0\n"
     ]
    },
    {
     "data": {
      "image/png": "[encoded data removed]",
      "text/plain": [
       "<Figure size 288x288 with 1 Axes>"
      ]
     },
     "metadata": {
      "needs_background": "light"
     },
     "output_type": "display_data"
    },
    {
     "name": "stdout",
     "output_type": "stream",
     "text": [
      "Risk               bad      good\n",
      "Duration_bin                    \n",
      "1-year        0.211699  0.788301\n",
      "2-year        0.296837  0.703163\n",
      "3-year        0.398601  0.601399\n",
      "4-year        0.521127  0.478873\n",
      "5-year        0.466667  0.533333\n",
      "6-year        1.000000  0.000000\n"
     ]
    }
   ],
   "source": [
    "print(pd.crosstab(df_credit[\"Duration_bin\"],df_credit[\"Risk\"]))\n",
    "Income_bin = pd.crosstab(df_credit[\"Duration_bin\"],df_credit[\"Risk\"])\n",
    "Income_bin.div(Income_bin.sum(1).astype(float),axis=0).plot(kind=\"bar\",stacked=True,figsize=(4,4))\n",
    "plt.xlabel(\"Duration_bin\")\n",
    "plt.ylabel(\"Percentage\")\n",
    "plt.show()\n",
    "print(Income_bin.div(Income_bin.sum(1).astype(float),axis=0))"
   ]
  },
  {
   "cell_type": "markdown",
   "metadata": {},
   "source": [
    "79% Duration(6-12 Months) have Good Risk and 21% Bad Risk\n",
    "\n",
    "70% Duration(12-24 Months) have Good Risk and 30% Bad Risk\n",
    "\n",
    "60% Duration(24-36 Months) have Good Risk and 40% Bad Risk\n",
    "\n",
    "48% Duration(36-48 Months) have Good Risk and 52% Bad Risk\n",
    "\n",
    "53% Duration(48-60 Months) have Good Risk and 47% Bad Risk\n",
    "\n",
    "0% Duration(60-72 Months) have Good Risk and 100% Bad Risk"
   ]
  },
  {
   "cell_type": "code",
   "execution_count": 41,
   "metadata": {},
   "outputs": [
    {
     "name": "stdout",
     "output_type": "stream",
     "text": [
      "<class 'pandas.core.frame.DataFrame'>\n",
      "RangeIndex: 1000 entries, 0 to 999\n",
      "Data columns (total 13 columns):\n",
      " #   Column             Non-Null Count  Dtype   \n",
      "---  ------             --------------  -----   \n",
      " 0   Age                1000 non-null   int64   \n",
      " 1   Sex                1000 non-null   object  \n",
      " 2   Job                1000 non-null   int64   \n",
      " 3   Housing            1000 non-null   object  \n",
      " 4   Saving accounts    1000 non-null   object  \n",
      " 5   Checking account   1000 non-null   object  \n",
      " 6   Credit amount      1000 non-null   int64   \n",
      " 7   Duration           1000 non-null   int64   \n",
      " 8   Purpose            1000 non-null   object  \n",
      " 9   Risk               1000 non-null   object  \n",
      " 10  Age_cat            1000 non-null   category\n",
      " 11  Credit_amount_bin  1000 non-null   category\n",
      " 12  Duration_bin       1000 non-null   category\n",
      "dtypes: category(3), int64(4), object(6)\n",
      "memory usage: 81.8+ KB\n"
     ]
    }
   ],
   "source": [
    "df_credit.info()"
   ]
  },
  {
   "cell_type": "code",
   "execution_count": 42,
   "metadata": {},
   "outputs": [],
   "source": [
    "######## Drop Binned variables\n",
    "df_credit=df_credit.drop(['Age_cat','Credit_amount_bin','Duration_bin'],axis=1)"
   ]
  },
  {
   "cell_type": "code",
   "execution_count": 43,
   "metadata": {},
   "outputs": [
    {
     "name": "stdout",
     "output_type": "stream",
     "text": [
      "<class 'pandas.core.frame.DataFrame'>\n",
      "RangeIndex: 1000 entries, 0 to 999\n",
      "Data columns (total 10 columns):\n",
      " #   Column            Non-Null Count  Dtype \n",
      "---  ------            --------------  ----- \n",
      " 0   Age               1000 non-null   int64 \n",
      " 1   Sex               1000 non-null   object\n",
      " 2   Job               1000 non-null   int64 \n",
      " 3   Housing           1000 non-null   object\n",
      " 4   Saving accounts   1000 non-null   object\n",
      " 5   Checking account  1000 non-null   object\n",
      " 6   Credit amount     1000 non-null   int64 \n",
      " 7   Duration          1000 non-null   int64 \n",
      " 8   Purpose           1000 non-null   object\n",
      " 9   Risk              1000 non-null   object\n",
      "dtypes: int64(4), object(6)\n",
      "memory usage: 78.2+ KB\n"
     ]
    }
   ],
   "source": [
    "df_credit.info()"
   ]
  },
  {
   "cell_type": "code",
   "execution_count": 44,
   "metadata": {},
   "outputs": [],
   "source": [
    "# Map risk column good to 0 and bad to 1\n",
    "df_credit['Risk'] = df_credit['Risk'].map({'bad':1, 'good':0})"
   ]
  },
  {
   "cell_type": "markdown",
   "metadata": {},
   "source": [
    "# Transforming the data into Dummy variables"
   ]
  },
  {
   "cell_type": "markdown",
   "metadata": {},
   "source": [
    "Now we will make dummy variables for the categorical variables. Dummy variable turns categorical variables into a series of 0 and 1, making them lot easier to quantify and compare.\n",
    "\n",
    "Let us understand the process of dummies first:"
   ]
  },
  {
   "cell_type": "markdown",
   "metadata": {},
   "source": [
    "Consider the “Sex” variable. It has two classes, Male and Female.\n",
    "\n",
    "As logistic regression takes only the numerical values as input, we have to change male and female into numerical value."
   ]
  },
  {
   "cell_type": "code",
   "execution_count": 45,
   "metadata": {},
   "outputs": [],
   "source": [
    "cat_features=['Sex','Housing','Saving accounts','Checking account','Purpose']\n",
    "num_features=['Age','Credit amount','Duration','Risk','Job']\n",
    "for variable in cat_features:\n",
    "    dummies = pd.get_dummies(df_credit[cat_features])\n",
    "    df1= pd.concat([df_credit[num_features], dummies],axis=1)\n",
    "    \n",
    "df1['Age'] = np.log(df1['Age'])\n",
    "df1['Credit amount'] = np.log(df1['Credit amount'])\n",
    "df1['Duration'] = np.log(df1['Duration'])\n",
    "Risk= df1['Risk']          \n",
    "df2=df1.drop(['Risk'],axis=1)\n"
   ]
  },
  {
   "cell_type": "code",
   "execution_count": 46,
   "metadata": {},
   "outputs": [
    {
     "data": {
      "text/plain": [
       "(1000, 25)"
      ]
     },
     "execution_count": 46,
     "metadata": {},
     "output_type": "execute_result"
    }
   ],
   "source": [
    "df1.shape"
   ]
  },
  {
   "cell_type": "code",
   "execution_count": 47,
   "metadata": {},
   "outputs": [
    {
     "data": {
      "text/html": [
       "<div>\n",
       "<style scoped>\n",
       "    .dataframe tbody tr th:only-of-type {\n",
       "        vertical-align: middle;\n",
       "    }\n",
       "\n",
       "    .dataframe tbody tr th {\n",
       "        vertical-align: top;\n",
       "    }\n",
       "\n",
       "    .dataframe thead th {\n",
       "        text-align: right;\n",
       "    }\n",
       "</style>\n",
       "<table border=\"1\" class=\"dataframe\">\n",
       "  <thead>\n",
       "    <tr style=\"text-align: right;\">\n",
       "      <th></th>\n",
       "      <th>Age</th>\n",
       "      <th>Credit amount</th>\n",
       "      <th>Duration</th>\n",
       "      <th>Risk</th>\n",
       "      <th>Job</th>\n",
       "      <th>Sex_female</th>\n",
       "      <th>Sex_male</th>\n",
       "      <th>Housing_free</th>\n",
       "      <th>Housing_own</th>\n",
       "      <th>Housing_rent</th>\n",
       "      <th>...</th>\n",
       "      <th>Checking account_moderate</th>\n",
       "      <th>Checking account_rich</th>\n",
       "      <th>Purpose_business</th>\n",
       "      <th>Purpose_car</th>\n",
       "      <th>Purpose_domestic appliances</th>\n",
       "      <th>Purpose_education</th>\n",
       "      <th>Purpose_furniture/equipment</th>\n",
       "      <th>Purpose_radio/TV</th>\n",
       "      <th>Purpose_repairs</th>\n",
       "      <th>Purpose_vacation/others</th>\n",
       "    </tr>\n",
       "  </thead>\n",
       "  <tbody>\n",
       "    <tr>\n",
       "      <th>0</th>\n",
       "      <td>4.204693</td>\n",
       "      <td>7.063904</td>\n",
       "      <td>1.791759</td>\n",
       "      <td>0</td>\n",
       "      <td>2</td>\n",
       "      <td>0</td>\n",
       "      <td>1</td>\n",
       "      <td>0</td>\n",
       "      <td>1</td>\n",
       "      <td>0</td>\n",
       "      <td>...</td>\n",
       "      <td>0</td>\n",
       "      <td>0</td>\n",
       "      <td>0</td>\n",
       "      <td>0</td>\n",
       "      <td>0</td>\n",
       "      <td>0</td>\n",
       "      <td>0</td>\n",
       "      <td>1</td>\n",
       "      <td>0</td>\n",
       "      <td>0</td>\n",
       "    </tr>\n",
       "    <tr>\n",
       "      <th>1</th>\n",
       "      <td>3.091042</td>\n",
       "      <td>8.691315</td>\n",
       "      <td>3.871201</td>\n",
       "      <td>1</td>\n",
       "      <td>2</td>\n",
       "      <td>1</td>\n",
       "      <td>0</td>\n",
       "      <td>0</td>\n",
       "      <td>1</td>\n",
       "      <td>0</td>\n",
       "      <td>...</td>\n",
       "      <td>1</td>\n",
       "      <td>0</td>\n",
       "      <td>0</td>\n",
       "      <td>0</td>\n",
       "      <td>0</td>\n",
       "      <td>0</td>\n",
       "      <td>0</td>\n",
       "      <td>1</td>\n",
       "      <td>0</td>\n",
       "      <td>0</td>\n",
       "    </tr>\n",
       "    <tr>\n",
       "      <th>2</th>\n",
       "      <td>3.891820</td>\n",
       "      <td>7.647786</td>\n",
       "      <td>2.484907</td>\n",
       "      <td>0</td>\n",
       "      <td>1</td>\n",
       "      <td>0</td>\n",
       "      <td>1</td>\n",
       "      <td>0</td>\n",
       "      <td>1</td>\n",
       "      <td>0</td>\n",
       "      <td>...</td>\n",
       "      <td>1</td>\n",
       "      <td>0</td>\n",
       "      <td>0</td>\n",
       "      <td>0</td>\n",
       "      <td>0</td>\n",
       "      <td>1</td>\n",
       "      <td>0</td>\n",
       "      <td>0</td>\n",
       "      <td>0</td>\n",
       "      <td>0</td>\n",
       "    </tr>\n",
       "    <tr>\n",
       "      <th>3</th>\n",
       "      <td>3.806662</td>\n",
       "      <td>8.972337</td>\n",
       "      <td>3.737670</td>\n",
       "      <td>0</td>\n",
       "      <td>2</td>\n",
       "      <td>0</td>\n",
       "      <td>1</td>\n",
       "      <td>1</td>\n",
       "      <td>0</td>\n",
       "      <td>0</td>\n",
       "      <td>...</td>\n",
       "      <td>0</td>\n",
       "      <td>0</td>\n",
       "      <td>0</td>\n",
       "      <td>0</td>\n",
       "      <td>0</td>\n",
       "      <td>0</td>\n",
       "      <td>1</td>\n",
       "      <td>0</td>\n",
       "      <td>0</td>\n",
       "      <td>0</td>\n",
       "    </tr>\n",
       "    <tr>\n",
       "      <th>4</th>\n",
       "      <td>3.970292</td>\n",
       "      <td>8.490849</td>\n",
       "      <td>3.178054</td>\n",
       "      <td>1</td>\n",
       "      <td>2</td>\n",
       "      <td>0</td>\n",
       "      <td>1</td>\n",
       "      <td>1</td>\n",
       "      <td>0</td>\n",
       "      <td>0</td>\n",
       "      <td>...</td>\n",
       "      <td>0</td>\n",
       "      <td>0</td>\n",
       "      <td>0</td>\n",
       "      <td>1</td>\n",
       "      <td>0</td>\n",
       "      <td>0</td>\n",
       "      <td>0</td>\n",
       "      <td>0</td>\n",
       "      <td>0</td>\n",
       "      <td>0</td>\n",
       "    </tr>\n",
       "  </tbody>\n",
       "</table>\n",
       "<p>5 rows × 25 columns</p>\n",
       "</div>"
      ],
      "text/plain": [
       "        Age  Credit amount  Duration  Risk  Job  Sex_female  Sex_male  \\\n",
       "0  4.204693       7.063904  1.791759     0    2           0         1   \n",
       "1  3.091042       8.691315  3.871201     1    2           1         0   \n",
       "2  3.891820       7.647786  2.484907     0    1           0         1   \n",
       "3  3.806662       8.972337  3.737670     0    2           0         1   \n",
       "4  3.970292       8.490849  3.178054     1    2           0         1   \n",
       "\n",
       "   Housing_free  Housing_own  Housing_rent  ...  Checking account_moderate  \\\n",
       "0             0            1             0  ...                          0   \n",
       "1             0            1             0  ...                          1   \n",
       "2             0            1             0  ...                          1   \n",
       "3             1            0             0  ...                          0   \n",
       "4             1            0             0  ...                          0   \n",
       "\n",
       "   Checking account_rich  Purpose_business  Purpose_car  \\\n",
       "0                      0                 0            0   \n",
       "1                      0                 0            0   \n",
       "2                      0                 0            0   \n",
       "3                      0                 0            0   \n",
       "4                      0                 0            1   \n",
       "\n",
       "   Purpose_domestic appliances  Purpose_education  \\\n",
       "0                            0                  0   \n",
       "1                            0                  0   \n",
       "2                            0                  1   \n",
       "3                            0                  0   \n",
       "4                            0                  0   \n",
       "\n",
       "   Purpose_furniture/equipment  Purpose_radio/TV  Purpose_repairs  \\\n",
       "0                            0                 1                0   \n",
       "1                            0                 1                0   \n",
       "2                            0                 0                0   \n",
       "3                            1                 0                0   \n",
       "4                            0                 0                0   \n",
       "\n",
       "   Purpose_vacation/others  \n",
       "0                        0  \n",
       "1                        0  \n",
       "2                        0  \n",
       "3                        0  \n",
       "4                        0  \n",
       "\n",
       "[5 rows x 25 columns]"
      ]
     },
     "execution_count": 47,
     "metadata": {},
     "output_type": "execute_result"
    }
   ],
   "source": [
    "df1.head()"
   ]
  },
  {
   "cell_type": "code",
   "execution_count": 48,
   "metadata": {},
   "outputs": [
    {
     "data": {
      "text/plain": [
       "(1000, 24)"
      ]
     },
     "execution_count": 48,
     "metadata": {},
     "output_type": "execute_result"
    }
   ],
   "source": [
    "df2.shape"
   ]
  },
  {
   "cell_type": "code",
   "execution_count": 49,
   "metadata": {},
   "outputs": [
    {
     "name": "stdout",
     "output_type": "stream",
     "text": [
      "<class 'pandas.core.frame.DataFrame'>\n",
      "RangeIndex: 1000 entries, 0 to 999\n",
      "Data columns (total 24 columns):\n",
      " #   Column                       Non-Null Count  Dtype  \n",
      "---  ------                       --------------  -----  \n",
      " 0   Age                          1000 non-null   float64\n",
      " 1   Credit amount                1000 non-null   float64\n",
      " 2   Duration                     1000 non-null   float64\n",
      " 3   Job                          1000 non-null   int64  \n",
      " 4   Sex_female                   1000 non-null   uint8  \n",
      " 5   Sex_male                     1000 non-null   uint8  \n",
      " 6   Housing_free                 1000 non-null   uint8  \n",
      " 7   Housing_own                  1000 non-null   uint8  \n",
      " 8   Housing_rent                 1000 non-null   uint8  \n",
      " 9   Saving accounts_little       1000 non-null   uint8  \n",
      " 10  Saving accounts_moderate     1000 non-null   uint8  \n",
      " 11  Saving accounts_quite rich   1000 non-null   uint8  \n",
      " 12  Saving accounts_rich         1000 non-null   uint8  \n",
      " 13  Checking account_little      1000 non-null   uint8  \n",
      " 14  Checking account_moderate    1000 non-null   uint8  \n",
      " 15  Checking account_rich        1000 non-null   uint8  \n",
      " 16  Purpose_business             1000 non-null   uint8  \n",
      " 17  Purpose_car                  1000 non-null   uint8  \n",
      " 18  Purpose_domestic appliances  1000 non-null   uint8  \n",
      " 19  Purpose_education            1000 non-null   uint8  \n",
      " 20  Purpose_furniture/equipment  1000 non-null   uint8  \n",
      " 21  Purpose_radio/TV             1000 non-null   uint8  \n",
      " 22  Purpose_repairs              1000 non-null   uint8  \n",
      " 23  Purpose_vacation/others      1000 non-null   uint8  \n",
      "dtypes: float64(3), int64(1), uint8(20)\n",
      "memory usage: 50.9 KB\n"
     ]
    }
   ],
   "source": [
    "df2.info()"
   ]
  },
  {
   "cell_type": "markdown",
   "metadata": {},
   "source": [
    "# Correlation:"
   ]
  },
  {
   "cell_type": "code",
   "execution_count": 50,
   "metadata": {},
   "outputs": [
    {
     "data": {
      "text/html": [
       "<div>\n",
       "<style scoped>\n",
       "    .dataframe tbody tr th:only-of-type {\n",
       "        vertical-align: middle;\n",
       "    }\n",
       "\n",
       "    .dataframe tbody tr th {\n",
       "        vertical-align: top;\n",
       "    }\n",
       "\n",
       "    .dataframe thead th {\n",
       "        text-align: right;\n",
       "    }\n",
       "</style>\n",
       "<table border=\"1\" class=\"dataframe\">\n",
       "  <thead>\n",
       "    <tr style=\"text-align: right;\">\n",
       "      <th></th>\n",
       "      <th>Age</th>\n",
       "      <th>Credit amount</th>\n",
       "      <th>Duration</th>\n",
       "      <th>Risk</th>\n",
       "      <th>Job</th>\n",
       "      <th>Sex_female</th>\n",
       "      <th>Sex_male</th>\n",
       "      <th>Housing_free</th>\n",
       "      <th>Housing_own</th>\n",
       "      <th>Housing_rent</th>\n",
       "      <th>...</th>\n",
       "      <th>Checking account_moderate</th>\n",
       "      <th>Checking account_rich</th>\n",
       "      <th>Purpose_business</th>\n",
       "      <th>Purpose_car</th>\n",
       "      <th>Purpose_domestic appliances</th>\n",
       "      <th>Purpose_education</th>\n",
       "      <th>Purpose_furniture/equipment</th>\n",
       "      <th>Purpose_radio/TV</th>\n",
       "      <th>Purpose_repairs</th>\n",
       "      <th>Purpose_vacation/others</th>\n",
       "    </tr>\n",
       "  </thead>\n",
       "  <tbody>\n",
       "    <tr>\n",
       "      <th>Age</th>\n",
       "      <td>1.000000</td>\n",
       "      <td>0.024362</td>\n",
       "      <td>-0.047761</td>\n",
       "      <td>-0.102740</td>\n",
       "      <td>0.029232</td>\n",
       "      <td>-0.195855</td>\n",
       "      <td>0.195855</td>\n",
       "      <td>0.251938</td>\n",
       "      <td>0.035014</td>\n",
       "      <td>-0.245297</td>\n",
       "      <td>...</td>\n",
       "      <td>-0.024410</td>\n",
       "      <td>0.028313</td>\n",
       "      <td>0.002292</td>\n",
       "      <td>0.108228</td>\n",
       "      <td>-0.019223</td>\n",
       "      <td>0.064561</td>\n",
       "      <td>-0.134717</td>\n",
       "      <td>-0.049976</td>\n",
       "      <td>0.028998</td>\n",
       "      <td>0.046828</td>\n",
       "    </tr>\n",
       "    <tr>\n",
       "      <th>Credit amount</th>\n",
       "      <td>0.024362</td>\n",
       "      <td>1.000000</td>\n",
       "      <td>0.622245</td>\n",
       "      <td>0.109570</td>\n",
       "      <td>0.304627</td>\n",
       "      <td>-0.116764</td>\n",
       "      <td>0.116764</td>\n",
       "      <td>0.182918</td>\n",
       "      <td>-0.118636</td>\n",
       "      <td>-0.008107</td>\n",
       "      <td>...</td>\n",
       "      <td>0.053826</td>\n",
       "      <td>-0.078360</td>\n",
       "      <td>0.119263</td>\n",
       "      <td>0.110200</td>\n",
       "      <td>-0.092835</td>\n",
       "      <td>-0.077832</td>\n",
       "      <td>0.036385</td>\n",
       "      <td>-0.178815</td>\n",
       "      <td>-0.039958</td>\n",
       "      <td>0.121234</td>\n",
       "    </tr>\n",
       "    <tr>\n",
       "      <th>Duration</th>\n",
       "      <td>-0.047761</td>\n",
       "      <td>0.622245</td>\n",
       "      <td>1.000000</td>\n",
       "      <td>0.214981</td>\n",
       "      <td>0.220554</td>\n",
       "      <td>-0.070397</td>\n",
       "      <td>0.070397</td>\n",
       "      <td>0.158695</td>\n",
       "      <td>-0.064272</td>\n",
       "      <td>-0.052644</td>\n",
       "      <td>...</td>\n",
       "      <td>0.029611</td>\n",
       "      <td>-0.061643</td>\n",
       "      <td>0.159750</td>\n",
       "      <td>-0.005529</td>\n",
       "      <td>-0.047373</td>\n",
       "      <td>-0.044034</td>\n",
       "      <td>-0.031674</td>\n",
       "      <td>-0.054982</td>\n",
       "      <td>-0.014321</td>\n",
       "      <td>0.090470</td>\n",
       "    </tr>\n",
       "    <tr>\n",
       "      <th>Risk</th>\n",
       "      <td>-0.102740</td>\n",
       "      <td>0.109570</td>\n",
       "      <td>0.214981</td>\n",
       "      <td>1.000000</td>\n",
       "      <td>0.032735</td>\n",
       "      <td>0.075493</td>\n",
       "      <td>-0.075493</td>\n",
       "      <td>0.081556</td>\n",
       "      <td>-0.134589</td>\n",
       "      <td>0.092785</td>\n",
       "      <td>...</td>\n",
       "      <td>-0.038098</td>\n",
       "      <td>-0.074337</td>\n",
       "      <td>0.036129</td>\n",
       "      <td>0.022621</td>\n",
       "      <td>0.008016</td>\n",
       "      <td>0.049085</td>\n",
       "      <td>0.020971</td>\n",
       "      <td>-0.106922</td>\n",
       "      <td>0.020828</td>\n",
       "      <td>0.028058</td>\n",
       "    </tr>\n",
       "    <tr>\n",
       "      <th>Job</th>\n",
       "      <td>0.029232</td>\n",
       "      <td>0.304627</td>\n",
       "      <td>0.220554</td>\n",
       "      <td>0.032735</td>\n",
       "      <td>1.000000</td>\n",
       "      <td>-0.070298</td>\n",
       "      <td>0.070298</td>\n",
       "      <td>0.134972</td>\n",
       "      <td>-0.059393</td>\n",
       "      <td>-0.039195</td>\n",
       "      <td>...</td>\n",
       "      <td>0.000197</td>\n",
       "      <td>-0.040082</td>\n",
       "      <td>0.001614</td>\n",
       "      <td>0.036762</td>\n",
       "      <td>-0.025979</td>\n",
       "      <td>-0.021672</td>\n",
       "      <td>0.013422</td>\n",
       "      <td>-0.027683</td>\n",
       "      <td>-0.092751</td>\n",
       "      <td>0.100544</td>\n",
       "    </tr>\n",
       "    <tr>\n",
       "      <th>Sex_female</th>\n",
       "      <td>-0.195855</td>\n",
       "      <td>-0.116764</td>\n",
       "      <td>-0.070397</td>\n",
       "      <td>0.075493</td>\n",
       "      <td>-0.070298</td>\n",
       "      <td>1.000000</td>\n",
       "      <td>-1.000000</td>\n",
       "      <td>-0.100872</td>\n",
       "      <td>-0.119638</td>\n",
       "      <td>0.222845</td>\n",
       "      <td>...</td>\n",
       "      <td>-0.005597</td>\n",
       "      <td>0.003113</td>\n",
       "      <td>-0.080875</td>\n",
       "      <td>-0.047893</td>\n",
       "      <td>0.045275</td>\n",
       "      <td>0.052397</td>\n",
       "      <td>0.100467</td>\n",
       "      <td>-0.008668</td>\n",
       "      <td>-0.026828</td>\n",
       "      <td>-0.014297</td>\n",
       "    </tr>\n",
       "    <tr>\n",
       "      <th>Sex_male</th>\n",
       "      <td>0.195855</td>\n",
       "      <td>0.116764</td>\n",
       "      <td>0.070397</td>\n",
       "      <td>-0.075493</td>\n",
       "      <td>0.070298</td>\n",
       "      <td>-1.000000</td>\n",
       "      <td>1.000000</td>\n",
       "      <td>0.100872</td>\n",
       "      <td>0.119638</td>\n",
       "      <td>-0.222845</td>\n",
       "      <td>...</td>\n",
       "      <td>0.005597</td>\n",
       "      <td>-0.003113</td>\n",
       "      <td>0.080875</td>\n",
       "      <td>0.047893</td>\n",
       "      <td>-0.045275</td>\n",
       "      <td>-0.052397</td>\n",
       "      <td>-0.100467</td>\n",
       "      <td>0.008668</td>\n",
       "      <td>0.026828</td>\n",
       "      <td>0.014297</td>\n",
       "    </tr>\n",
       "    <tr>\n",
       "      <th>Housing_free</th>\n",
       "      <td>0.251938</td>\n",
       "      <td>0.182918</td>\n",
       "      <td>0.158695</td>\n",
       "      <td>0.081556</td>\n",
       "      <td>0.134972</td>\n",
       "      <td>-0.100872</td>\n",
       "      <td>0.100872</td>\n",
       "      <td>1.000000</td>\n",
       "      <td>-0.548445</td>\n",
       "      <td>-0.162474</td>\n",
       "      <td>...</td>\n",
       "      <td>-0.048957</td>\n",
       "      <td>-0.006925</td>\n",
       "      <td>-0.059613</td>\n",
       "      <td>0.126806</td>\n",
       "      <td>-0.038348</td>\n",
       "      <td>0.117976</td>\n",
       "      <td>-0.071530</td>\n",
       "      <td>-0.109357</td>\n",
       "      <td>0.013706</td>\n",
       "      <td>0.080010</td>\n",
       "    </tr>\n",
       "    <tr>\n",
       "      <th>Housing_own</th>\n",
       "      <td>0.035014</td>\n",
       "      <td>-0.118636</td>\n",
       "      <td>-0.064272</td>\n",
       "      <td>-0.134589</td>\n",
       "      <td>-0.059393</td>\n",
       "      <td>-0.119638</td>\n",
       "      <td>0.119638</td>\n",
       "      <td>-0.548445</td>\n",
       "      <td>1.000000</td>\n",
       "      <td>-0.735968</td>\n",
       "      <td>...</td>\n",
       "      <td>0.052050</td>\n",
       "      <td>0.011979</td>\n",
       "      <td>0.051083</td>\n",
       "      <td>-0.099526</td>\n",
       "      <td>0.029317</td>\n",
       "      <td>-0.075684</td>\n",
       "      <td>-0.040496</td>\n",
       "      <td>0.134705</td>\n",
       "      <td>0.019803</td>\n",
       "      <td>-0.011288</td>\n",
       "    </tr>\n",
       "    <tr>\n",
       "      <th>Housing_rent</th>\n",
       "      <td>-0.245297</td>\n",
       "      <td>-0.008107</td>\n",
       "      <td>-0.052644</td>\n",
       "      <td>0.092785</td>\n",
       "      <td>-0.039195</td>\n",
       "      <td>0.222845</td>\n",
       "      <td>-0.222845</td>\n",
       "      <td>-0.162474</td>\n",
       "      <td>-0.735968</td>\n",
       "      <td>1.000000</td>\n",
       "      <td>...</td>\n",
       "      <td>-0.021782</td>\n",
       "      <td>-0.008529</td>\n",
       "      <td>-0.012013</td>\n",
       "      <td>0.014773</td>\n",
       "      <td>-0.003546</td>\n",
       "      <td>-0.006211</td>\n",
       "      <td>0.105700</td>\n",
       "      <td>-0.070414</td>\n",
       "      <td>-0.034465</td>\n",
       "      <td>-0.051460</td>\n",
       "    </tr>\n",
       "    <tr>\n",
       "      <th>Saving accounts_little</th>\n",
       "      <td>0.013662</td>\n",
       "      <td>0.035144</td>\n",
       "      <td>0.002394</td>\n",
       "      <td>0.093148</td>\n",
       "      <td>0.028428</td>\n",
       "      <td>-0.003504</td>\n",
       "      <td>0.003504</td>\n",
       "      <td>0.036566</td>\n",
       "      <td>-0.006726</td>\n",
       "      <td>-0.021668</td>\n",
       "      <td>...</td>\n",
       "      <td>-0.105902</td>\n",
       "      <td>-0.015624</td>\n",
       "      <td>-0.029902</td>\n",
       "      <td>-0.017950</td>\n",
       "      <td>-0.018700</td>\n",
       "      <td>0.031785</td>\n",
       "      <td>0.040784</td>\n",
       "      <td>-0.012608</td>\n",
       "      <td>-0.004700</td>\n",
       "      <td>0.023228</td>\n",
       "    </tr>\n",
       "    <tr>\n",
       "      <th>Saving accounts_moderate</th>\n",
       "      <td>-0.068052</td>\n",
       "      <td>0.016305</td>\n",
       "      <td>0.019119</td>\n",
       "      <td>-0.007209</td>\n",
       "      <td>-0.008312</td>\n",
       "      <td>-0.015390</td>\n",
       "      <td>0.015390</td>\n",
       "      <td>0.002748</td>\n",
       "      <td>-0.010297</td>\n",
       "      <td>0.009926</td>\n",
       "      <td>...</td>\n",
       "      <td>0.118770</td>\n",
       "      <td>0.007351</td>\n",
       "      <td>0.067796</td>\n",
       "      <td>0.013984</td>\n",
       "      <td>0.013129</td>\n",
       "      <td>-0.019030</td>\n",
       "      <td>-0.070101</td>\n",
       "      <td>0.002943</td>\n",
       "      <td>0.004218</td>\n",
       "      <td>0.013129</td>\n",
       "    </tr>\n",
       "    <tr>\n",
       "      <th>Saving accounts_quite rich</th>\n",
       "      <td>0.035837</td>\n",
       "      <td>-0.040803</td>\n",
       "      <td>-0.018599</td>\n",
       "      <td>-0.062137</td>\n",
       "      <td>-0.010461</td>\n",
       "      <td>-0.018470</td>\n",
       "      <td>0.018470</td>\n",
       "      <td>-0.013455</td>\n",
       "      <td>0.004406</td>\n",
       "      <td>0.005695</td>\n",
       "      <td>...</td>\n",
       "      <td>0.004381</td>\n",
       "      <td>0.031000</td>\n",
       "      <td>-0.042013</td>\n",
       "      <td>-0.010241</td>\n",
       "      <td>0.038355</td>\n",
       "      <td>-0.006848</td>\n",
       "      <td>0.004191</td>\n",
       "      <td>0.042279</td>\n",
       "      <td>-0.016824</td>\n",
       "      <td>-0.031381</td>\n",
       "    </tr>\n",
       "    <tr>\n",
       "      <th>Saving accounts_rich</th>\n",
       "      <td>0.031207</td>\n",
       "      <td>-0.043470</td>\n",
       "      <td>-0.010852</td>\n",
       "      <td>-0.095065</td>\n",
       "      <td>-0.029896</td>\n",
       "      <td>0.049708</td>\n",
       "      <td>-0.049708</td>\n",
       "      <td>-0.057755</td>\n",
       "      <td>0.022493</td>\n",
       "      <td>0.020219</td>\n",
       "      <td>...</td>\n",
       "      <td>0.024556</td>\n",
       "      <td>-0.016254</td>\n",
       "      <td>0.006864</td>\n",
       "      <td>0.025468</td>\n",
       "      <td>-0.027095</td>\n",
       "      <td>-0.024951</td>\n",
       "      <td>0.018854</td>\n",
       "      <td>-0.028435</td>\n",
       "      <td>0.021936</td>\n",
       "      <td>-0.027095</td>\n",
       "    </tr>\n",
       "    <tr>\n",
       "      <th>Checking account_little</th>\n",
       "      <td>0.008243</td>\n",
       "      <td>-0.009062</td>\n",
       "      <td>0.005620</td>\n",
       "      <td>0.080677</td>\n",
       "      <td>0.022735</td>\n",
       "      <td>0.003823</td>\n",
       "      <td>-0.003823</td>\n",
       "      <td>0.052980</td>\n",
       "      <td>-0.058969</td>\n",
       "      <td>0.026689</td>\n",
       "      <td>...</td>\n",
       "      <td>-0.836540</td>\n",
       "      <td>-0.283867</td>\n",
       "      <td>-0.087199</td>\n",
       "      <td>0.045381</td>\n",
       "      <td>0.010629</td>\n",
       "      <td>-0.031279</td>\n",
       "      <td>0.126229</td>\n",
       "      <td>-0.078581</td>\n",
       "      <td>0.000767</td>\n",
       "      <td>-0.026277</td>\n",
       "    </tr>\n",
       "    <tr>\n",
       "      <th>Checking account_moderate</th>\n",
       "      <td>-0.024410</td>\n",
       "      <td>0.053826</td>\n",
       "      <td>0.029611</td>\n",
       "      <td>-0.038098</td>\n",
       "      <td>0.000197</td>\n",
       "      <td>-0.005597</td>\n",
       "      <td>0.005597</td>\n",
       "      <td>-0.048957</td>\n",
       "      <td>0.052050</td>\n",
       "      <td>-0.021782</td>\n",
       "      <td>...</td>\n",
       "      <td>1.000000</td>\n",
       "      <td>-0.287901</td>\n",
       "      <td>0.077820</td>\n",
       "      <td>-0.019881</td>\n",
       "      <td>-0.009362</td>\n",
       "      <td>0.041894</td>\n",
       "      <td>-0.130715</td>\n",
       "      <td>0.046839</td>\n",
       "      <td>0.026021</td>\n",
       "      <td>0.027498</td>\n",
       "    </tr>\n",
       "    <tr>\n",
       "      <th>Checking account_rich</th>\n",
       "      <td>0.028313</td>\n",
       "      <td>-0.078360</td>\n",
       "      <td>-0.061643</td>\n",
       "      <td>-0.074337</td>\n",
       "      <td>-0.040082</td>\n",
       "      <td>0.003113</td>\n",
       "      <td>-0.003113</td>\n",
       "      <td>-0.006925</td>\n",
       "      <td>0.011979</td>\n",
       "      <td>-0.008529</td>\n",
       "      <td>...</td>\n",
       "      <td>-0.287901</td>\n",
       "      <td>1.000000</td>\n",
       "      <td>0.016221</td>\n",
       "      <td>-0.044526</td>\n",
       "      <td>-0.002193</td>\n",
       "      <td>-0.018646</td>\n",
       "      <td>0.008127</td>\n",
       "      <td>0.055378</td>\n",
       "      <td>-0.046879</td>\n",
       "      <td>-0.002193</td>\n",
       "    </tr>\n",
       "    <tr>\n",
       "      <th>Purpose_business</th>\n",
       "      <td>0.002292</td>\n",
       "      <td>0.119263</td>\n",
       "      <td>0.159750</td>\n",
       "      <td>0.036129</td>\n",
       "      <td>0.001614</td>\n",
       "      <td>-0.080875</td>\n",
       "      <td>0.080875</td>\n",
       "      <td>-0.059613</td>\n",
       "      <td>0.051083</td>\n",
       "      <td>-0.012013</td>\n",
       "      <td>...</td>\n",
       "      <td>0.077820</td>\n",
       "      <td>0.016221</td>\n",
       "      <td>1.000000</td>\n",
       "      <td>-0.233669</td>\n",
       "      <td>-0.036121</td>\n",
       "      <td>-0.082068</td>\n",
       "      <td>-0.154078</td>\n",
       "      <td>-0.204388</td>\n",
       "      <td>-0.049157</td>\n",
       "      <td>-0.036121</td>\n",
       "    </tr>\n",
       "    <tr>\n",
       "      <th>Purpose_car</th>\n",
       "      <td>0.108228</td>\n",
       "      <td>0.110200</td>\n",
       "      <td>-0.005529</td>\n",
       "      <td>0.022621</td>\n",
       "      <td>0.036762</td>\n",
       "      <td>-0.047893</td>\n",
       "      <td>0.047893</td>\n",
       "      <td>0.126806</td>\n",
       "      <td>-0.099526</td>\n",
       "      <td>0.014773</td>\n",
       "      <td>...</td>\n",
       "      <td>-0.019881</td>\n",
       "      <td>-0.044526</td>\n",
       "      <td>-0.233669</td>\n",
       "      <td>1.000000</td>\n",
       "      <td>-0.078572</td>\n",
       "      <td>-0.178521</td>\n",
       "      <td>-0.335163</td>\n",
       "      <td>-0.444602</td>\n",
       "      <td>-0.106930</td>\n",
       "      <td>-0.078572</td>\n",
       "    </tr>\n",
       "    <tr>\n",
       "      <th>Purpose_domestic appliances</th>\n",
       "      <td>-0.019223</td>\n",
       "      <td>-0.092835</td>\n",
       "      <td>-0.047373</td>\n",
       "      <td>0.008016</td>\n",
       "      <td>-0.025979</td>\n",
       "      <td>0.045275</td>\n",
       "      <td>-0.045275</td>\n",
       "      <td>-0.038348</td>\n",
       "      <td>0.029317</td>\n",
       "      <td>-0.003546</td>\n",
       "      <td>...</td>\n",
       "      <td>-0.009362</td>\n",
       "      <td>-0.002193</td>\n",
       "      <td>-0.036121</td>\n",
       "      <td>-0.078572</td>\n",
       "      <td>1.000000</td>\n",
       "      <td>-0.027596</td>\n",
       "      <td>-0.051810</td>\n",
       "      <td>-0.068727</td>\n",
       "      <td>-0.016529</td>\n",
       "      <td>-0.012146</td>\n",
       "    </tr>\n",
       "    <tr>\n",
       "      <th>Purpose_education</th>\n",
       "      <td>0.064561</td>\n",
       "      <td>-0.077832</td>\n",
       "      <td>-0.044034</td>\n",
       "      <td>0.049085</td>\n",
       "      <td>-0.021672</td>\n",
       "      <td>0.052397</td>\n",
       "      <td>-0.052397</td>\n",
       "      <td>0.117976</td>\n",
       "      <td>-0.075684</td>\n",
       "      <td>-0.006211</td>\n",
       "      <td>...</td>\n",
       "      <td>0.041894</td>\n",
       "      <td>-0.018646</td>\n",
       "      <td>-0.082068</td>\n",
       "      <td>-0.178521</td>\n",
       "      <td>-0.027596</td>\n",
       "      <td>1.000000</td>\n",
       "      <td>-0.117714</td>\n",
       "      <td>-0.156151</td>\n",
       "      <td>-0.037555</td>\n",
       "      <td>-0.027596</td>\n",
       "    </tr>\n",
       "    <tr>\n",
       "      <th>Purpose_furniture/equipment</th>\n",
       "      <td>-0.134717</td>\n",
       "      <td>0.036385</td>\n",
       "      <td>-0.031674</td>\n",
       "      <td>0.020971</td>\n",
       "      <td>0.013422</td>\n",
       "      <td>0.100467</td>\n",
       "      <td>-0.100467</td>\n",
       "      <td>-0.071530</td>\n",
       "      <td>-0.040496</td>\n",
       "      <td>0.105700</td>\n",
       "      <td>...</td>\n",
       "      <td>-0.130715</td>\n",
       "      <td>0.008127</td>\n",
       "      <td>-0.154078</td>\n",
       "      <td>-0.335163</td>\n",
       "      <td>-0.051810</td>\n",
       "      <td>-0.117714</td>\n",
       "      <td>1.000000</td>\n",
       "      <td>-0.293164</td>\n",
       "      <td>-0.070508</td>\n",
       "      <td>-0.051810</td>\n",
       "    </tr>\n",
       "    <tr>\n",
       "      <th>Purpose_radio/TV</th>\n",
       "      <td>-0.049976</td>\n",
       "      <td>-0.178815</td>\n",
       "      <td>-0.054982</td>\n",
       "      <td>-0.106922</td>\n",
       "      <td>-0.027683</td>\n",
       "      <td>-0.008668</td>\n",
       "      <td>0.008668</td>\n",
       "      <td>-0.109357</td>\n",
       "      <td>0.134705</td>\n",
       "      <td>-0.070414</td>\n",
       "      <td>...</td>\n",
       "      <td>0.046839</td>\n",
       "      <td>0.055378</td>\n",
       "      <td>-0.204388</td>\n",
       "      <td>-0.444602</td>\n",
       "      <td>-0.068727</td>\n",
       "      <td>-0.156151</td>\n",
       "      <td>-0.293164</td>\n",
       "      <td>1.000000</td>\n",
       "      <td>-0.093531</td>\n",
       "      <td>-0.068727</td>\n",
       "    </tr>\n",
       "    <tr>\n",
       "      <th>Purpose_repairs</th>\n",
       "      <td>0.028998</td>\n",
       "      <td>-0.039958</td>\n",
       "      <td>-0.014321</td>\n",
       "      <td>0.020828</td>\n",
       "      <td>-0.092751</td>\n",
       "      <td>-0.026828</td>\n",
       "      <td>0.026828</td>\n",
       "      <td>0.013706</td>\n",
       "      <td>0.019803</td>\n",
       "      <td>-0.034465</td>\n",
       "      <td>...</td>\n",
       "      <td>0.026021</td>\n",
       "      <td>-0.046879</td>\n",
       "      <td>-0.049157</td>\n",
       "      <td>-0.106930</td>\n",
       "      <td>-0.016529</td>\n",
       "      <td>-0.037555</td>\n",
       "      <td>-0.070508</td>\n",
       "      <td>-0.093531</td>\n",
       "      <td>1.000000</td>\n",
       "      <td>-0.016529</td>\n",
       "    </tr>\n",
       "    <tr>\n",
       "      <th>Purpose_vacation/others</th>\n",
       "      <td>0.046828</td>\n",
       "      <td>0.121234</td>\n",
       "      <td>0.090470</td>\n",
       "      <td>0.028058</td>\n",
       "      <td>0.100544</td>\n",
       "      <td>-0.014297</td>\n",
       "      <td>0.014297</td>\n",
       "      <td>0.080010</td>\n",
       "      <td>-0.011288</td>\n",
       "      <td>-0.051460</td>\n",
       "      <td>...</td>\n",
       "      <td>0.027498</td>\n",
       "      <td>-0.002193</td>\n",
       "      <td>-0.036121</td>\n",
       "      <td>-0.078572</td>\n",
       "      <td>-0.012146</td>\n",
       "      <td>-0.027596</td>\n",
       "      <td>-0.051810</td>\n",
       "      <td>-0.068727</td>\n",
       "      <td>-0.016529</td>\n",
       "      <td>1.000000</td>\n",
       "    </tr>\n",
       "  </tbody>\n",
       "</table>\n",
       "<p>25 rows × 25 columns</p>\n",
       "</div>"
      ],
      "text/plain": [
       "                                  Age  Credit amount  Duration      Risk  \\\n",
       "Age                          1.000000       0.024362 -0.047761 -0.102740   \n",
       "Credit amount                0.024362       1.000000  0.622245  0.109570   \n",
       "Duration                    -0.047761       0.622245  1.000000  0.214981   \n",
       "Risk                        -0.102740       0.109570  0.214981  1.000000   \n",
       "Job                          0.029232       0.304627  0.220554  0.032735   \n",
       "Sex_female                  -0.195855      -0.116764 -0.070397  0.075493   \n",
       "Sex_male                     0.195855       0.116764  0.070397 -0.075493   \n",
       "Housing_free                 0.251938       0.182918  0.158695  0.081556   \n",
       "Housing_own                  0.035014      -0.118636 -0.064272 -0.134589   \n",
       "Housing_rent                -0.245297      -0.008107 -0.052644  0.092785   \n",
       "Saving accounts_little       0.013662       0.035144  0.002394  0.093148   \n",
       "Saving accounts_moderate    -0.068052       0.016305  0.019119 -0.007209   \n",
       "Saving accounts_quite rich   0.035837      -0.040803 -0.018599 -0.062137   \n",
       "Saving accounts_rich         0.031207      -0.043470 -0.010852 -0.095065   \n",
       "Checking account_little      0.008243      -0.009062  0.005620  0.080677   \n",
       "Checking account_moderate   -0.024410       0.053826  0.029611 -0.038098   \n",
       "Checking account_rich        0.028313      -0.078360 -0.061643 -0.074337   \n",
       "Purpose_business             0.002292       0.119263  0.159750  0.036129   \n",
       "Purpose_car                  0.108228       0.110200 -0.005529  0.022621   \n",
       "Purpose_domestic appliances -0.019223      -0.092835 -0.047373  0.008016   \n",
       "Purpose_education            0.064561      -0.077832 -0.044034  0.049085   \n",
       "Purpose_furniture/equipment -0.134717       0.036385 -0.031674  0.020971   \n",
       "Purpose_radio/TV            -0.049976      -0.178815 -0.054982 -0.106922   \n",
       "Purpose_repairs              0.028998      -0.039958 -0.014321  0.020828   \n",
       "Purpose_vacation/others      0.046828       0.121234  0.090470  0.028058   \n",
       "\n",
       "                                  Job  Sex_female  Sex_male  Housing_free  \\\n",
       "Age                          0.029232   -0.195855  0.195855      0.251938   \n",
       "Credit amount                0.304627   -0.116764  0.116764      0.182918   \n",
       "Duration                     0.220554   -0.070397  0.070397      0.158695   \n",
       "Risk                         0.032735    0.075493 -0.075493      0.081556   \n",
       "Job                          1.000000   -0.070298  0.070298      0.134972   \n",
       "Sex_female                  -0.070298    1.000000 -1.000000     -0.100872   \n",
       "Sex_male                     0.070298   -1.000000  1.000000      0.100872   \n",
       "Housing_free                 0.134972   -0.100872  0.100872      1.000000   \n",
       "Housing_own                 -0.059393   -0.119638  0.119638     -0.548445   \n",
       "Housing_rent                -0.039195    0.222845 -0.222845     -0.162474   \n",
       "Saving accounts_little       0.028428   -0.003504  0.003504      0.036566   \n",
       "Saving accounts_moderate    -0.008312   -0.015390  0.015390      0.002748   \n",
       "Saving accounts_quite rich  -0.010461   -0.018470  0.018470     -0.013455   \n",
       "Saving accounts_rich        -0.029896    0.049708 -0.049708     -0.057755   \n",
       "Checking account_little      0.022735    0.003823 -0.003823      0.052980   \n",
       "Checking account_moderate    0.000197   -0.005597  0.005597     -0.048957   \n",
       "Checking account_rich       -0.040082    0.003113 -0.003113     -0.006925   \n",
       "Purpose_business             0.001614   -0.080875  0.080875     -0.059613   \n",
       "Purpose_car                  0.036762   -0.047893  0.047893      0.126806   \n",
       "Purpose_domestic appliances -0.025979    0.045275 -0.045275     -0.038348   \n",
       "Purpose_education           -0.021672    0.052397 -0.052397      0.117976   \n",
       "Purpose_furniture/equipment  0.013422    0.100467 -0.100467     -0.071530   \n",
       "Purpose_radio/TV            -0.027683   -0.008668  0.008668     -0.109357   \n",
       "Purpose_repairs             -0.092751   -0.026828  0.026828      0.013706   \n",
       "Purpose_vacation/others      0.100544   -0.014297  0.014297      0.080010   \n",
       "\n",
       "                             Housing_own  Housing_rent  ...  \\\n",
       "Age                             0.035014     -0.245297  ...   \n",
       "Credit amount                  -0.118636     -0.008107  ...   \n",
       "Duration                       -0.064272     -0.052644  ...   \n",
       "Risk                           -0.134589      0.092785  ...   \n",
       "Job                            -0.059393     -0.039195  ...   \n",
       "Sex_female                     -0.119638      0.222845  ...   \n",
       "Sex_male                        0.119638     -0.222845  ...   \n",
       "Housing_free                   -0.548445     -0.162474  ...   \n",
       "Housing_own                     1.000000     -0.735968  ...   \n",
       "Housing_rent                   -0.735968      1.000000  ...   \n",
       "Saving accounts_little         -0.006726     -0.021668  ...   \n",
       "Saving accounts_moderate       -0.010297      0.009926  ...   \n",
       "Saving accounts_quite rich      0.004406      0.005695  ...   \n",
       "Saving accounts_rich            0.022493      0.020219  ...   \n",
       "Checking account_little        -0.058969      0.026689  ...   \n",
       "Checking account_moderate       0.052050     -0.021782  ...   \n",
       "Checking account_rich           0.011979     -0.008529  ...   \n",
       "Purpose_business                0.051083     -0.012013  ...   \n",
       "Purpose_car                    -0.099526      0.014773  ...   \n",
       "Purpose_domestic appliances     0.029317     -0.003546  ...   \n",
       "Purpose_education              -0.075684     -0.006211  ...   \n",
       "Purpose_furniture/equipment    -0.040496      0.105700  ...   \n",
       "Purpose_radio/TV                0.134705     -0.070414  ...   \n",
       "Purpose_repairs                 0.019803     -0.034465  ...   \n",
       "Purpose_vacation/others        -0.011288     -0.051460  ...   \n",
       "\n",
       "                             Checking account_moderate  Checking account_rich  \\\n",
       "Age                                          -0.024410               0.028313   \n",
       "Credit amount                                 0.053826              -0.078360   \n",
       "Duration                                      0.029611              -0.061643   \n",
       "Risk                                         -0.038098              -0.074337   \n",
       "Job                                           0.000197              -0.040082   \n",
       "Sex_female                                   -0.005597               0.003113   \n",
       "Sex_male                                      0.005597              -0.003113   \n",
       "Housing_free                                 -0.048957              -0.006925   \n",
       "Housing_own                                   0.052050               0.011979   \n",
       "Housing_rent                                 -0.021782              -0.008529   \n",
       "Saving accounts_little                       -0.105902              -0.015624   \n",
       "Saving accounts_moderate                      0.118770               0.007351   \n",
       "Saving accounts_quite rich                    0.004381               0.031000   \n",
       "Saving accounts_rich                          0.024556              -0.016254   \n",
       "Checking account_little                      -0.836540              -0.283867   \n",
       "Checking account_moderate                     1.000000              -0.287901   \n",
       "Checking account_rich                        -0.287901               1.000000   \n",
       "Purpose_business                              0.077820               0.016221   \n",
       "Purpose_car                                  -0.019881              -0.044526   \n",
       "Purpose_domestic appliances                  -0.009362              -0.002193   \n",
       "Purpose_education                             0.041894              -0.018646   \n",
       "Purpose_furniture/equipment                  -0.130715               0.008127   \n",
       "Purpose_radio/TV                              0.046839               0.055378   \n",
       "Purpose_repairs                               0.026021              -0.046879   \n",
       "Purpose_vacation/others                       0.027498              -0.002193   \n",
       "\n",
       "                             Purpose_business  Purpose_car  \\\n",
       "Age                                  0.002292     0.108228   \n",
       "Credit amount                        0.119263     0.110200   \n",
       "Duration                             0.159750    -0.005529   \n",
       "Risk                                 0.036129     0.022621   \n",
       "Job                                  0.001614     0.036762   \n",
       "Sex_female                          -0.080875    -0.047893   \n",
       "Sex_male                             0.080875     0.047893   \n",
       "Housing_free                        -0.059613     0.126806   \n",
       "Housing_own                          0.051083    -0.099526   \n",
       "Housing_rent                        -0.012013     0.014773   \n",
       "Saving accounts_little              -0.029902    -0.017950   \n",
       "Saving accounts_moderate             0.067796     0.013984   \n",
       "Saving accounts_quite rich          -0.042013    -0.010241   \n",
       "Saving accounts_rich                 0.006864     0.025468   \n",
       "Checking account_little             -0.087199     0.045381   \n",
       "Checking account_moderate            0.077820    -0.019881   \n",
       "Checking account_rich                0.016221    -0.044526   \n",
       "Purpose_business                     1.000000    -0.233669   \n",
       "Purpose_car                         -0.233669     1.000000   \n",
       "Purpose_domestic appliances         -0.036121    -0.078572   \n",
       "Purpose_education                   -0.082068    -0.178521   \n",
       "Purpose_furniture/equipment         -0.154078    -0.335163   \n",
       "Purpose_radio/TV                    -0.204388    -0.444602   \n",
       "Purpose_repairs                     -0.049157    -0.106930   \n",
       "Purpose_vacation/others             -0.036121    -0.078572   \n",
       "\n",
       "                             Purpose_domestic appliances  Purpose_education  \\\n",
       "Age                                            -0.019223           0.064561   \n",
       "Credit amount                                  -0.092835          -0.077832   \n",
       "Duration                                       -0.047373          -0.044034   \n",
       "Risk                                            0.008016           0.049085   \n",
       "Job                                            -0.025979          -0.021672   \n",
       "Sex_female                                      0.045275           0.052397   \n",
       "Sex_male                                       -0.045275          -0.052397   \n",
       "Housing_free                                   -0.038348           0.117976   \n",
       "Housing_own                                     0.029317          -0.075684   \n",
       "Housing_rent                                   -0.003546          -0.006211   \n",
       "Saving accounts_little                         -0.018700           0.031785   \n",
       "Saving accounts_moderate                        0.013129          -0.019030   \n",
       "Saving accounts_quite rich                      0.038355          -0.006848   \n",
       "Saving accounts_rich                           -0.027095          -0.024951   \n",
       "Checking account_little                         0.010629          -0.031279   \n",
       "Checking account_moderate                      -0.009362           0.041894   \n",
       "Checking account_rich                          -0.002193          -0.018646   \n",
       "Purpose_business                               -0.036121          -0.082068   \n",
       "Purpose_car                                    -0.078572          -0.178521   \n",
       "Purpose_domestic appliances                     1.000000          -0.027596   \n",
       "Purpose_education                              -0.027596           1.000000   \n",
       "Purpose_furniture/equipment                    -0.051810          -0.117714   \n",
       "Purpose_radio/TV                               -0.068727          -0.156151   \n",
       "Purpose_repairs                                -0.016529          -0.037555   \n",
       "Purpose_vacation/others                        -0.012146          -0.027596   \n",
       "\n",
       "                             Purpose_furniture/equipment  Purpose_radio/TV  \\\n",
       "Age                                            -0.134717         -0.049976   \n",
       "Credit amount                                   0.036385         -0.178815   \n",
       "Duration                                       -0.031674         -0.054982   \n",
       "Risk                                            0.020971         -0.106922   \n",
       "Job                                             0.013422         -0.027683   \n",
       "Sex_female                                      0.100467         -0.008668   \n",
       "Sex_male                                       -0.100467          0.008668   \n",
       "Housing_free                                   -0.071530         -0.109357   \n",
       "Housing_own                                    -0.040496          0.134705   \n",
       "Housing_rent                                    0.105700         -0.070414   \n",
       "Saving accounts_little                          0.040784         -0.012608   \n",
       "Saving accounts_moderate                       -0.070101          0.002943   \n",
       "Saving accounts_quite rich                      0.004191          0.042279   \n",
       "Saving accounts_rich                            0.018854         -0.028435   \n",
       "Checking account_little                         0.126229         -0.078581   \n",
       "Checking account_moderate                      -0.130715          0.046839   \n",
       "Checking account_rich                           0.008127          0.055378   \n",
       "Purpose_business                               -0.154078         -0.204388   \n",
       "Purpose_car                                    -0.335163         -0.444602   \n",
       "Purpose_domestic appliances                    -0.051810         -0.068727   \n",
       "Purpose_education                              -0.117714         -0.156151   \n",
       "Purpose_furniture/equipment                     1.000000         -0.293164   \n",
       "Purpose_radio/TV                               -0.293164          1.000000   \n",
       "Purpose_repairs                                -0.070508         -0.093531   \n",
       "Purpose_vacation/others                        -0.051810         -0.068727   \n",
       "\n",
       "                             Purpose_repairs  Purpose_vacation/others  \n",
       "Age                                 0.028998                 0.046828  \n",
       "Credit amount                      -0.039958                 0.121234  \n",
       "Duration                           -0.014321                 0.090470  \n",
       "Risk                                0.020828                 0.028058  \n",
       "Job                                -0.092751                 0.100544  \n",
       "Sex_female                         -0.026828                -0.014297  \n",
       "Sex_male                            0.026828                 0.014297  \n",
       "Housing_free                        0.013706                 0.080010  \n",
       "Housing_own                         0.019803                -0.011288  \n",
       "Housing_rent                       -0.034465                -0.051460  \n",
       "Saving accounts_little             -0.004700                 0.023228  \n",
       "Saving accounts_moderate            0.004218                 0.013129  \n",
       "Saving accounts_quite rich         -0.016824                -0.031381  \n",
       "Saving accounts_rich                0.021936                -0.027095  \n",
       "Checking account_little             0.000767                -0.026277  \n",
       "Checking account_moderate           0.026021                 0.027498  \n",
       "Checking account_rich              -0.046879                -0.002193  \n",
       "Purpose_business                   -0.049157                -0.036121  \n",
       "Purpose_car                        -0.106930                -0.078572  \n",
       "Purpose_domestic appliances        -0.016529                -0.012146  \n",
       "Purpose_education                  -0.037555                -0.027596  \n",
       "Purpose_furniture/equipment        -0.070508                -0.051810  \n",
       "Purpose_radio/TV                   -0.093531                -0.068727  \n",
       "Purpose_repairs                     1.000000                -0.016529  \n",
       "Purpose_vacation/others            -0.016529                 1.000000  \n",
       "\n",
       "[25 rows x 25 columns]"
      ]
     },
     "execution_count": 50,
     "metadata": {},
     "output_type": "execute_result"
    }
   ],
   "source": [
    "corr=pd.DataFrame(df1.corr())\n",
    "corr\n",
    "#corr.to_csv('corr_matrix.csv',index=False)"
   ]
  },
  {
   "cell_type": "markdown",
   "metadata": {},
   "source": [
    "# Model Building :"
   ]
  },
  {
   "cell_type": "markdown",
   "metadata": {},
   "source": [
    "# Logistic Regression Model Fitting"
   ]
  },
  {
   "cell_type": "markdown",
   "metadata": {},
   "source": [
    "We will use scikit-learn (sklearn) for making different models which is an open source library for Python. It is one of the most efficient tool which contains many inbuilt functions that can be used for modeling in Python."
   ]
  },
  {
   "cell_type": "code",
   "execution_count": 51,
   "metadata": {},
   "outputs": [],
   "source": [
    "from sklearn.model_selection import train_test_split, KFold, cross_val_score # to split the data\n",
    "from sklearn.metrics import accuracy_score, confusion_matrix, classification_report, fbeta_score #To evaluate our model\n"
   ]
  },
  {
   "cell_type": "code",
   "execution_count": 52,
   "metadata": {},
   "outputs": [],
   "source": [
    "# Spliting data into train and test version\n",
    "X_train, X_test, y_train, y_test = train_test_split(df2, Risk, test_size = 0.30, random_state=42)"
   ]
  },
  {
   "cell_type": "code",
   "execution_count": 53,
   "metadata": {},
   "outputs": [
    {
     "data": {
      "text/plain": [
       "LogisticRegression(C=1.0, class_weight=None, dual=False, fit_intercept=True,\n",
       "                   intercept_scaling=1, l1_ratio=None, max_iter=100,\n",
       "                   multi_class='auto', n_jobs=None, penalty='l2',\n",
       "                   random_state=None, solver='lbfgs', tol=0.0001, verbose=0,\n",
       "                   warm_start=False)"
      ]
     },
     "execution_count": 53,
     "metadata": {},
     "output_type": "execute_result"
    }
   ],
   "source": [
    "from sklearn.linear_model import LogisticRegression\n",
    "import warnings\n",
    "warnings.filterwarnings(\"ignore\")\n",
    "logreg = LogisticRegression()\n",
    "logreg.fit(X_train, y_train)"
   ]
  },
  {
   "cell_type": "markdown",
   "metadata": {},
   "source": [
    "Predicting the test dataset results and calculating the accuracy"
   ]
  },
  {
   "cell_type": "code",
   "execution_count": 54,
   "metadata": {},
   "outputs": [
    {
     "name": "stdout",
     "output_type": "stream",
     "text": [
      "\n",
      "Accuracy of logistic regression classifier on test set: 0.68\n"
     ]
    }
   ],
   "source": [
    "pred_y = logreg.predict(X_test)\n",
    "probabilities=logreg.predict_proba(X_test)\n",
    "print('\\nAccuracy of logistic regression classifier on test set: {:.2f}'.format(logreg.score(X_test, y_test)))\n",
    "\n",
    "#print(pred_y)\n",
    "pred_y=np.where(pred_y > 0.5,1,0)"
   ]
  },
  {
   "cell_type": "markdown",
   "metadata": {},
   "source": [
    "# Assessing the Efficiency and Performance "
   ]
  },
  {
   "cell_type": "markdown",
   "metadata": {},
   "source": [
    "Accuracy of logistic regression classifier on test set: 0.68"
   ]
  },
  {
   "cell_type": "markdown",
   "metadata": {},
   "source": [
    "# Confusion Matrix"
   ]
  },
  {
   "cell_type": "code",
   "execution_count": 55,
   "metadata": {},
   "outputs": [
    {
     "name": "stdout",
     "output_type": "stream",
     "text": [
      "Confusion Matrix: \n",
      " [[186  23]\n",
      " [ 74  17]]\n"
     ]
    }
   ],
   "source": [
    "confusion_matrix = confusion_matrix(y_test,pred_y)\n",
    "print(\"Confusion Matrix: \\n\",confusion_matrix)"
   ]
  },
  {
   "cell_type": "markdown",
   "metadata": {},
   "source": [
    "The result is telling us that we have 186+17 correct predictions and 23+74 incorrect predictions."
   ]
  },
  {
   "cell_type": "markdown",
   "metadata": {},
   "source": [
    "# Compute precision, recall, F-measure and support"
   ]
  },
  {
   "cell_type": "markdown",
   "metadata": {},
   "source": [
    "The precision is the ratio tp / (tp + fp) where tp is the number of true positives and fp the number of false positives. The precision is intuitively the ability of the classifier to not label a sample as positive if it is negative."
   ]
  },
  {
   "cell_type": "markdown",
   "metadata": {},
   "source": [
    "The recall is the ratio tp / (tp + fn) where tp is the number of true positives and fn the number of false negatives. The recall is intuitively the ability of the classifier to find all the positive samples."
   ]
  },
  {
   "cell_type": "markdown",
   "metadata": {},
   "source": [
    "The F-beta score can be interpreted as a weighted harmonic mean of the precision and recall, where an F-beta score reaches its best value at 1 and worst score at 0."
   ]
  },
  {
   "cell_type": "markdown",
   "metadata": {},
   "source": [
    "The F-beta score weights the recall more than the precision by a factor of beta. beta = 1.0 means recall and precision are equally important."
   ]
  },
  {
   "cell_type": "markdown",
   "metadata": {},
   "source": [
    "The support is the number of occurrences of each class in y_test."
   ]
  },
  {
   "cell_type": "code",
   "execution_count": 56,
   "metadata": {},
   "outputs": [
    {
     "name": "stdout",
     "output_type": "stream",
     "text": [
      "              precision    recall  f1-score   support\n",
      "\n",
      "           0       0.72      0.89      0.79       209\n",
      "           1       0.42      0.19      0.26        91\n",
      "\n",
      "    accuracy                           0.68       300\n",
      "   macro avg       0.57      0.54      0.53       300\n",
      "weighted avg       0.63      0.68      0.63       300\n",
      "\n"
     ]
    }
   ],
   "source": [
    "from sklearn.metrics import classification_report\n",
    "print(classification_report(y_test, pred_y))"
   ]
  },
  {
   "cell_type": "raw",
   "metadata": {},
   "source": []
  },
  {
   "cell_type": "markdown",
   "metadata": {},
   "source": [
    "# Interpretation:\n",
    "Of the entire test set, 63% of the customer’s preferred good credit risk that were promoted."
   ]
  },
  {
   "cell_type": "code",
   "execution_count": null,
   "metadata": {},
   "outputs": [],
   "source": []
  },
  {
   "cell_type": "code",
   "execution_count": null,
   "metadata": {},
   "outputs": [],
   "source": []
  }
 ],
 "metadata": {
  "kernelspec": {
   "display_name": "Python 3",
   "language": "python",
   "name": "python3"
  },
  "language_info": {
   "codemirror_mode": {
    "name": "ipython",
    "version": 3
   },
   "file_extension": ".py",
   "mimetype": "text/x-python",
   "name": "python",
   "nbconvert_exporter": "python",
   "pygments_lexer": "ipython3",
   "version": "3.8.8"
  }
 },
 "nbformat": 4,
 "nbformat_minor": 4
}
