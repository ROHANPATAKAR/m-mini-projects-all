{
 "cells": [
  {
   "cell_type": "code",
   "execution_count": 1,
   "id": "9abfe0f5",
   "metadata": {},
   "outputs": [],
   "source": [
    "from keras.preprocessing.image import ImageDataGenerator,load_img,img_to_array,array_to_img\n",
    "import os\n",
    "imd=ImageDataGenerator(rotation_range=40,width_shift_range=0.2,height_shift_range=0.2,shear_range=0.2,zoom_range=0.2,vertical_flip=True,horizontal_flip=True,fill_mode='nearest')\n",
    "\n",
    "img_data=load_img(\"thanos(2).jpg\")\n",
    "x=img_to_array(img_data)\n",
    "x=x.reshape((1,)+x.shape)\n",
    "\n",
    "i=0\n",
    "for batch in imd.flow(x,batch_size=1,save_to_dir=\"image classification using cnn\",save_format=\".jpeg\"):\n",
    "    \n",
    "    i=i+1\n",
    "    if i>=7:\n",
    "        break\n",
    "        \n"
   ]
  },
  {
   "cell_type": "code",
   "execution_count": 3,
   "id": "2db6a4d3",
   "metadata": {},
   "outputs": [
    {
     "name": "stdout",
     "output_type": "stream",
     "text": [
      "Slice of String :  his\n"
     ]
    }
   ],
   "source": [
    "str1 = \"This is Python\"\n",
    "print( \"Slice of String : \", str1[1 : 4 : 1] )"
   ]
  },
  {
   "cell_type": "code",
   "execution_count": 4,
   "id": "3141c440",
   "metadata": {},
   "outputs": [
    {
     "name": "stdout",
     "output_type": "stream",
     "text": [
      "Slice of String :  Ti sPto\n"
     ]
    }
   ],
   "source": [
    "print(\"Slice of String : \", str1[0 : -1:2])"
   ]
  },
  {
   "cell_type": "code",
   "execution_count": 15,
   "id": "d013db7c",
   "metadata": {},
   "outputs": [
    {
     "data": {
      "text/plain": [
       "{'whiskers': [<matplotlib.lines.Line2D at 0x2740553b430>,\n",
       "  <matplotlib.lines.Line2D at 0x2740553b790>],\n",
       " 'caps': [<matplotlib.lines.Line2D at 0x2740553baf0>,\n",
       "  <matplotlib.lines.Line2D at 0x2740553be50>],\n",
       " 'boxes': [<matplotlib.lines.Line2D at 0x2740553b0a0>],\n",
       " 'medians': [<matplotlib.lines.Line2D at 0x274055431f0>],\n",
       " 'fliers': [<matplotlib.lines.Line2D at 0x27405543550>],\n",
       " 'means': []}"
      ]
     },
     "execution_count": 15,
     "metadata": {},
     "output_type": "execute_result"
    },
    {
     "data": {
      "image/png": "[encoded data removed]",
      "text/plain": [
       "<Figure size 432x288 with 1 Axes>"
      ]
     },
     "metadata": {
      "needs_background": "light"
     },
     "output_type": "display_data"
    }
   ],
   "source": [
    "data=[3,7,8,5,12,14,21,13,18]\n",
    "data.sort()\n",
    "import matplotlib.pyplot as plt\n",
    "plt.boxplot(data)\n"
   ]
  },
  {
   "cell_type": "code",
   "execution_count": null,
   "id": "7c3bb045",
   "metadata": {},
   "outputs": [],
   "source": []
  }
 ],
 "metadata": {
  "kernelspec": {
   "display_name": "Python 3",
   "language": "python",
   "name": "python3"
  },
  "language_info": {
   "codemirror_mode": {
    "name": "ipython",
    "version": 3
   },
   "file_extension": ".py",
   "mimetype": "text/x-python",
   "name": "python",
   "nbconvert_exporter": "python",
   "pygments_lexer": "ipython3",
   "version": "3.8.8"
  }
 },
 "nbformat": 4,
 "nbformat_minor": 5
}
